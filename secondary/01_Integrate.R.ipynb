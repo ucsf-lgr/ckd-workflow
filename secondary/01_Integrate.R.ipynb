{
 "cells": [
  {
   "cell_type": "code",
   "execution_count": 1,
   "id": "f51026d3-b958-4195-b53d-d217c9dadaf3",
   "metadata": {
    "tags": [],
    "vscode": {
     "languageId": "r"
    }
   },
   "outputs": [],
   "source": [
    "suppressWarnings(suppressPackageStartupMessages({\n",
    "    library(Seurat)\n",
    "    library(Signac)\n",
    "    library(EnsDb.Hsapiens.v86)\n",
    "    library(dplyr)\n",
    "    library(ggplot2)\n",
    "    library(bedr)\n",
    "    library(SeuratDisk)\n",
    "    library(scales)\n",
    "    library(reshape2)\n",
    "    library(Hmisc)\n",
    "    library(tidyr)\n",
    "    library(tidyverse)\n",
    "    library(crayon)\n",
    "    library(SeuratData)\n",
    "    library(readr)\n",
    "}))\n"
   ]
  },
  {
   "attachments": {},
   "cell_type": "markdown",
   "id": "de9f2409",
   "metadata": {},
   "source": [
    "# Definitions etc"
   ]
  },
  {
   "cell_type": "code",
   "execution_count": 2,
   "id": "9da36b18-b07b-4fc6-8b07-b3fbbff188f8",
   "metadata": {
    "vscode": {
     "languageId": "r"
    }
   },
   "outputs": [],
   "source": [
    "set.seed(1234)\n",
    "options(digits = 2)\n",
    "stats <- c()\n"
   ]
  },
  {
   "cell_type": "code",
   "execution_count": 3,
   "id": "f37099e4-6009-4120-923f-14e56f2d4e80",
   "metadata": {
    "tags": [],
    "vscode": {
     "languageId": "r"
    }
   },
   "outputs": [],
   "source": [
    "if (!exists(\"papermill_run\")) {\n",
    "    prj_name <- \"Screen1_66guides\"\n",
    "    secondary_a_path <- \"S1/analysis/secondary/\"\n",
    "    save_seurat_h5 <- \"YES\"\n",
    "    n_libs <- \"4\"\n",
    "}\n"
   ]
  },
  {
   "cell_type": "code",
   "execution_count": 4,
   "id": "57df8789",
   "metadata": {
    "vscode": {
     "languageId": "r"
    }
   },
   "outputs": [],
   "source": [
    "custom_theme <- theme(\n",
    "  plot.title = element_text(size = 16, hjust = 0.5),\n",
    "  legend.key.size = unit(0.7, \"cm\"),\n",
    "  legend.text = element_text(size = 14)\n",
    ")\n"
   ]
  },
  {
   "attachments": {},
   "cell_type": "markdown",
   "metadata": {},
   "source": [
    "# Load Seurat files"
   ]
  },
  {
   "cell_type": "code",
   "execution_count": 5,
   "metadata": {
    "vscode": {
     "languageId": "r"
    }
   },
   "outputs": [
    {
     "name": "stdout",
     "output_type": "stream",
     "text": [
      "[1] \"/home/vsevim/prj/1012-ckd/S2/analysis/secondary/Lib_1/seurat_objects/Screen2_101vecs_Lib_1.h5seurat\"\n"
     ]
    },
    {
     "name": "stderr",
     "output_type": "stream",
     "text": [
      "Validating h5Seurat file\n",
      "\n"
     ]
    },
    {
     "name": "stdout",
     "output_type": "stream",
     "text": [
      "[1] \"/home/vsevim/prj/1012-ckd/S2/analysis/secondary/Lib_2/seurat_objects/Screen2_101vecs_Lib_2.h5seurat\"\n"
     ]
    },
    {
     "name": "stderr",
     "output_type": "stream",
     "text": [
      "Validating h5Seurat file\n",
      "\n"
     ]
    },
    {
     "name": "stdout",
     "output_type": "stream",
     "text": [
      "[1] \"/home/vsevim/prj/1012-ckd/S2/analysis/secondary/Lib_3/seurat_objects/Screen2_101vecs_Lib_3.h5seurat\"\n"
     ]
    },
    {
     "name": "stderr",
     "output_type": "stream",
     "text": [
      "Validating h5Seurat file\n",
      "\n"
     ]
    },
    {
     "name": "stdout",
     "output_type": "stream",
     "text": [
      "[1] \"/home/vsevim/prj/1012-ckd/S2/analysis/secondary/Lib_4/seurat_objects/Screen2_101vecs_Lib_4.h5seurat\"\n"
     ]
    },
    {
     "name": "stderr",
     "output_type": "stream",
     "text": [
      "Validating h5Seurat file\n",
      "\n"
     ]
    },
    {
     "name": "stdout",
     "output_type": "stream",
     "text": [
      "[1] \"/home/vsevim/prj/1012-ckd/S2/analysis/secondary/Lib_5/seurat_objects/Screen2_101vecs_Lib_5.h5seurat\"\n"
     ]
    },
    {
     "name": "stderr",
     "output_type": "stream",
     "text": [
      "Validating h5Seurat file\n",
      "\n"
     ]
    },
    {
     "name": "stdout",
     "output_type": "stream",
     "text": [
      "[1] \"/home/vsevim/prj/1012-ckd/S2/analysis/secondary/Lib_6/seurat_objects/Screen2_101vecs_Lib_6.h5seurat\"\n"
     ]
    },
    {
     "name": "stderr",
     "output_type": "stream",
     "text": [
      "Validating h5Seurat file\n",
      "\n"
     ]
    },
    {
     "name": "stdout",
     "output_type": "stream",
     "text": [
      "[1] \"/home/vsevim/prj/1012-ckd/S2/analysis/secondary/Lib_7/seurat_objects/Screen2_101vecs_Lib_7.h5seurat\"\n"
     ]
    },
    {
     "name": "stderr",
     "output_type": "stream",
     "text": [
      "Validating h5Seurat file\n",
      "\n"
     ]
    },
    {
     "name": "stdout",
     "output_type": "stream",
     "text": [
      "[1] \"/home/vsevim/prj/1012-ckd/S2/analysis/secondary/Lib_8/seurat_objects/Screen2_101vecs_Lib_8.h5seurat\"\n"
     ]
    },
    {
     "name": "stderr",
     "output_type": "stream",
     "text": [
      "Validating h5Seurat file\n",
      "\n"
     ]
    },
    {
     "name": "stdout",
     "output_type": "stream",
     "text": [
      "[1] \"/home/vsevim/prj/1012-ckd/S2/analysis/secondary/Lib_9/seurat_objects/Screen2_101vecs_Lib_9.h5seurat\"\n"
     ]
    },
    {
     "name": "stderr",
     "output_type": "stream",
     "text": [
      "Validating h5Seurat file\n",
      "\n"
     ]
    }
   ],
   "source": [
    "# Load Seurat objects\n",
    "\n",
    "libs <- paste0(\"Lib_\", 1:as.integer(n_libs))\n",
    "integrated_h5_path <-\n",
    "    paste0(\n",
    "        secondary_a_path,\n",
    "        \"integrated/seurat_objects/integrated_wo_guide_calls\"\n",
    "    )\n",
    "seurat_list <- list()\n",
    "\n",
    "for (lib in libs) {\n",
    "    h5_path <-\n",
    "        paste0(\n",
    "            secondary_a_path,\n",
    "            lib,\n",
    "            \"/seurat_objects/\",\n",
    "            prj_name,\n",
    "            \"_\",\n",
    "            lib,\n",
    "            \".h5seurat\"\n",
    "        )\n",
    "    print(h5_path)\n",
    "    seurat_list[[lib]] <- LoadH5Seurat(h5_path, verbose = FALSE)\n",
    "    DefaultAssay(seurat_list[[lib]]) <- \"SCT\"\n",
    "}\n"
   ]
  },
  {
   "cell_type": "code",
   "execution_count": 6,
   "metadata": {
    "vscode": {
     "languageId": "r"
    }
   },
   "outputs": [],
   "source": [
    "integration_features <- SelectIntegrationFeatures(object.list = seurat_list)\n"
   ]
  },
  {
   "cell_type": "code",
   "execution_count": 7,
   "metadata": {
    "vscode": {
     "languageId": "r"
    }
   },
   "outputs": [
    {
     "name": "stderr",
     "output_type": "stream",
     "text": [
      "Warning message in CheckDuplicateCellNames(object.list = object.list):\n",
      "\"Some cell names are duplicated across objects provided. Renaming to enforce unique cell names.\"\n"
     ]
    }
   ],
   "source": [
    "anchors <- FindIntegrationAnchors(\n",
    "    object.list = seurat_list,\n",
    "    anchor.features = integration_features,\n",
    "    verbose = FALSE\n",
    ")\n"
   ]
  },
  {
   "cell_type": "code",
   "execution_count": 8,
   "metadata": {
    "vscode": {
     "languageId": "r"
    }
   },
   "outputs": [],
   "source": [
    "# this command creates an 'integrated' data assay\n",
    "seurat_combined <- IntegrateData(anchorset = anchors, verbose = FALSE)\n"
   ]
  },
  {
   "attachments": {},
   "cell_type": "markdown",
   "metadata": {},
   "source": [
    "# Run SCTransform on the combined"
   ]
  },
  {
   "cell_type": "code",
   "execution_count": 9,
   "metadata": {
    "vscode": {
     "languageId": "r"
    }
   },
   "outputs": [],
   "source": [
    "DefaultAssay(seurat_combined) <- \"integrated\"\n"
   ]
  },
  {
   "cell_type": "code",
   "execution_count": 10,
   "metadata": {
    "vscode": {
     "languageId": "r"
    }
   },
   "outputs": [
    {
     "name": "stderr",
     "output_type": "stream",
     "text": [
      "PC_ 1 \n",
      "Positive:  WFDC2, ERBB4, KCNIP4, MECOM, MUC1, S100A2, KRT19, KRT7, MAL, AC019197.1 \n",
      "\t   AGR2, TMPRSS4, KITLG, CSGALNACT1, FAM155A, SLPI, LCN2, SLC12A1, ACSL4, LINC01503 \n",
      "\t   BST2, PDE1A, MACC1, TACSTD2, ITGB6, ARHGEF38, CYP1B1, SFRP1, CD9, PLCB1 \n",
      "Negative:  FN1, CRYAB, CDH6, MT1X, APOE, VCAM1, NCKAP5, SOD2, MALAT1, FGB \n",
      "\t   CTSB, AC013287.1, RHEX, SERPINA1, TRPM3, G0S2, VGF, SERPINE1, HP, NEAT1 \n",
      "\t   GDA, SLC13A3, ABLIM3, GPC6, SLC2A9, MT1G, SERPINE2, NRG3, HMGA2, S100A1 \n",
      "PC_ 2 \n",
      "Positive:  FTL, FTH1, RPS12, S100A6, RPS2, LGALS1, MT1E, RPL10, TMSB10, CRYAB \n",
      "\t   RPL17, RPS18, RPL41, MT2A, RPL26, RPLP1, RPS27A, VIM, RPL12, RPL7A \n",
      "\t   RPS3A, RPL11, RPS8, TMSB4X, RPS3, EEF1A1, RPS6, KRT19, RPL13, RPL10A \n",
      "Negative:  KCNIP4, ERBB4, MECOM, MALAT1, AC079352.1, NEAT1, LINC01320, PLCB1, PDE4D, ADAMTS9-AS2 \n",
      "\t   AC019197.1, FGF14, FAM155A, TRABD2B, LRP1B, LINC02532, PKHD1, LINC00621, NLGN1, PDE1A \n",
      "\t   PKP4, EFNA5, NCKAP5, LINC01781, SDK1, UBE2D2, AC019117.1, LINC00511, WFDC2, KCNQ1OT1 \n",
      "PC_ 3 \n",
      "Positive:  PLCB4, CENPF, dCas9, MKI67, HMGA2, DCBLD2, TOP2A, AC078923.1, TUBA1B, FRMD5 \n",
      "\t   ASPM, ARHGAP29, UBE2C, CASC19, SCEL, FAM155A, PLAU, PCLAF, DLGAP5, ANLN \n",
      "\t   SEMA3C, TPX2, AL355916.1, HMGA1, CCNB1, ARL4C, CEP55, HMMR, NTNG1, RRAS2 \n",
      "Negative:  MT1G, SERPINA1, MT1X, CRYAB, SLPI, MT1H, WFDC2, SAA1, HP, SAA2 \n",
      "\t   FXYD2, MT1F, SOD2, MUC1, SERPINA3, APOE, FGB, SPP1, MT1M, CKB \n",
      "\t   NCKAP5, VCAM1, G0S2, CXCL14, MT1E, TMEM176A, CTSB, SLC13A3, SLC3A1, NDRG1 \n",
      "PC_ 4 \n",
      "Positive:  dCas9, KCNIP4, ERBB4, FTL, MECOM, SLC12A1, SNED1, TXNIP, PPFIA2, PLCB1 \n",
      "\t   APOE, ADAMTS9-AS2, LRP1B, ACSL4, PAPPA2, TIMP1, IGFBP7, RPLP1, TFAP2B, PCDH9 \n",
      "\t   LINC01503, RPL13A, RPS19, RPS12, SERPINA3, IRX2, TFPI, AC096531.2, IFITM2, COL8A1 \n",
      "Negative:  KRT19, SAA1, SAA2, LCN2, KRT7, SLPI, TACSTD2, MT1G, MACC1, KLK6 \n",
      "\t   GPRC5A, MMP7, FN1, MUC1, KLK8, S100A9, VTCN1, LINC01705, CDH6, FGB \n",
      "\t   CP, ITGA2, CASC19, MT1H, KITLG, RAB25, PCDH7, AL355916.1, PLAU, TSPAN1 \n",
      "PC_ 5 \n",
      "Positive:  CENPF, MKI67, TOP2A, MT1G, ASPM, UBE2C, DLGAP5, ANLN, MT1H, HMMR \n",
      "\t   TPX2, CCNB1, CEP55, CDK1, HMGB2, ERBB4, CKS2, CRYAB, NUSAP1, GTSE1 \n",
      "\t   PCLAF, PBK, RRM2, CDKN3, TUBA1B, HJURP, PRC1, BIRC5, CDC20, CCNA2 \n",
      "Negative:  dCas9, IFI27, FGB, KRT19, RPS4Y1, LCN2, SLC35F1, LINC00278, SLPI, LINC01705 \n",
      "\t   CP, SERPINE1, AL079338.1, TACSTD2, RPS19, PTGDS, KLK6, TMSB4X, AC011751.1, AC079352.1 \n",
      "\t   MACC1, KLK8, ANGPTL4, LINC00621, NRXN3, RHEX, PTCHD4, BICC1, CLIC5, FLG \n",
      "\n",
      "Warning message:\n",
      "\"The default method for RunUMAP has changed from calling Python UMAP via reticulate to the R-native UWOT using the cosine metric\n",
      "To use Python UMAP via reticulate, set umap.method to 'umap-learn' and metric to 'correlation'\n",
      "This message will be shown once per session\"\n"
     ]
    }
   ],
   "source": [
    "seurat_combined <- SCTransform(\n",
    "    seurat_combined,\n",
    "    vst.flavor = \"v2\",\n",
    "    verbose = FALSE\n",
    ") %>%\n",
    "    RunPCA() %>%\n",
    "    RunUMAP(\n",
    "        dims = 1:40,\n",
    "        reduction.name = \"umap.rna\",\n",
    "        reduction.key = \"rnaUMAP_\",\n",
    "        verbose = FALSE\n",
    "    )\n"
   ]
  },
  {
   "attachments": {},
   "cell_type": "markdown",
   "metadata": {},
   "source": [
    "### Perform clustering"
   ]
  },
  {
   "cell_type": "code",
   "execution_count": 11,
   "metadata": {
    "vscode": {
     "languageId": "r"
    }
   },
   "outputs": [
    {
     "name": "stderr",
     "output_type": "stream",
     "text": [
      "Computing nearest neighbor graph\n",
      "\n"
     ]
    },
    {
     "name": "stderr",
     "output_type": "stream",
     "text": [
      "Computing SNN\n",
      "\n"
     ]
    },
    {
     "name": "stdout",
     "output_type": "stream",
     "text": [
      "Modularity Optimizer version 1.3.0 by Ludo Waltman and Nees Jan van Eck\n",
      "\n",
      "Number of nodes: 46051\n",
      "Number of edges: 1540868\n",
      "\n",
      "Running Louvain algorithm...\n",
      "Maximum modularity in 10 random starts: 0.8669\n",
      "Number of communities: 16\n",
      "Elapsed time: 15 seconds\n"
     ]
    }
   ],
   "source": [
    "seurat_combined <- FindNeighbors(\n",
    "    seurat_combined,\n",
    "    reduction = \"pca\", dims = 1:40\n",
    ")\n",
    "seurat_combined <- FindClusters(\n",
    "    seurat_combined,\n",
    "    resolution = 0.5\n",
    ")\n"
   ]
  },
  {
   "attachments": {},
   "cell_type": "markdown",
   "metadata": {},
   "source": [
    "## Add stats slot"
   ]
  },
  {
   "cell_type": "code",
   "execution_count": 12,
   "metadata": {
    "vscode": {
     "languageId": "r"
    }
   },
   "outputs": [],
   "source": [
    "df_stats <- NULL\n",
    "for (i in 1:length(seurat_list)) {\n",
    "    df_stats <- rbind(df_stats, as.data.frame(seurat_list[[i]]@misc$stats))\n",
    "}\n",
    "\n",
    "Misc(seurat_combined, slot = \"stats\") <- df_stats\n"
   ]
  },
  {
   "attachments": {},
   "cell_type": "markdown",
   "metadata": {},
   "source": [
    "### Save H5"
   ]
  },
  {
   "cell_type": "code",
   "execution_count": 13,
   "metadata": {
    "vscode": {
     "languageId": "r"
    }
   },
   "outputs": [
    {
     "name": "stderr",
     "output_type": "stream",
     "text": [
      "Warning message:\n",
      "\"Overwriting previous file /home/vsevim/prj/1012-ckd/S2/analysis/secondary/integrated/seurat_objects/integrated_wo_guide_calls.h5seurat\"\n",
      "Creating h5Seurat file for version 3.1.5.9900\n",
      "\n"
     ]
    }
   ],
   "source": [
    "SaveH5Seurat(\n",
    "    seurat_combined,\n",
    "    integrated_h5_path,\n",
    "    verbose = FALSE,\n",
    "    overwrite = T\n",
    ")\n"
   ]
  }
 ],
 "metadata": {
  "kernelspec": {
   "display_name": "R42",
   "language": "R",
   "name": "r42"
  },
  "language_info": {
   "codemirror_mode": "r",
   "file_extension": ".r",
   "mimetype": "text/x-r-source",
   "name": "R",
   "pygments_lexer": "r",
   "version": "4.2.2"
  },
  "orig_nbformat": 4
 },
 "nbformat": 4,
 "nbformat_minor": 2
}
