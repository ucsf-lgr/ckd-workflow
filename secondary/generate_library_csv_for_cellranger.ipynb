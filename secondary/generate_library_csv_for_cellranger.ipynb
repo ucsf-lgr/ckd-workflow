{
 "cells": [
  {
   "cell_type": "code",
   "execution_count": 1,
   "metadata": {
    "vscode": {
     "languageId": "r"
    }
   },
   "outputs": [
    {
     "data": {
      "text/html": [
       "<table class=\"dataframe\">\n",
       "<caption>A data.frame: 20 × 5</caption>\n",
       "<thead>\n",
       "\t<tr><th></th><th scope=col>gene_name</th><th scope=col>IDT1_Name</th><th scope=col>guide_sequence_1</th><th scope=col>IDT2_Name</th><th scope=col>guide_sequence_2</th></tr>\n",
       "\t<tr><th></th><th scope=col>&lt;chr&gt;</th><th scope=col>&lt;chr&gt;</th><th scope=col>&lt;chr&gt;</th><th scope=col>&lt;chr&gt;</th><th scope=col>&lt;chr&gt;</th></tr>\n",
       "</thead>\n",
       "<tbody>\n",
       "\t<tr><th scope=row>1</th><td>CD13 (ANPEP)   </td><td>CD13-1a    </td><td>GCGCAGCTCGGAACCCGCCA</td><td>CD13-1b    </td><td>GAAGCCCTTGGCCATGGTGA</td></tr>\n",
       "\t<tr><th scope=row>2</th><td>CD55           </td><td>CD55-1a    </td><td>GCTGCGACTCGGCGGAGTCC</td><td>CD55-1b    </td><td>GGCTGGGCGTAGCTGCGACT</td></tr>\n",
       "\t<tr><th scope=row>3</th><td>CD73 (NT5E)    </td><td>CD73-1a    </td><td>GGCTCGGGGACACATAGCTG</td><td>CD-73-1b   </td><td>GGGCGAGTGCCGGCGAGTAG</td></tr>\n",
       "\t<tr><th scope=row>4</th><td>FUBP1          </td><td>FUBP1-1a   </td><td>GGCGGTCCACACTTACCTGC</td><td>FUBP1-1b   </td><td>GTAGCGGCCTACTCAGTCAG</td></tr>\n",
       "\t<tr><th scope=row>5</th><td>C15orf40       </td><td>C150rf40-1a</td><td>GAGCGGGCTGAGGCACCTTC</td><td>C15orf40-1b</td><td>GGAGCCCCGGAACTGAGAGA</td></tr>\n",
       "\t<tr><th scope=row>6</th><td>MAFF           </td><td>MAFF-1a    </td><td>GGAGCGGAGGGGAGACTGAC</td><td>MAFF-1b    </td><td>GCCCGGTTCAGAGCGACCTG</td></tr>\n",
       "\t<tr><th scope=row>7</th><td>Enh-23-8-FTH1  </td><td>FTH1-1a    </td><td>GAGAGAAGAGCCAAGCCGG </td><td>FTH1-1b    </td><td>GCTGAACCTCCAGAAACCAC</td></tr>\n",
       "\t<tr><th scope=row>8</th><td>Enh-23-8-FTH1  </td><td>FTH1-2a    </td><td>GTCACGAGGAGCTGAGCTGG</td><td>FTH1-2b    </td><td>GGGTGGGGGAGGTAGAACCC</td></tr>\n",
       "\t<tr><th scope=row>9</th><td>Enh37-10-PLIN3 </td><td>PLIN3-1a   </td><td>GGGAACCATGTCCAGTTAG </td><td>PLIN3-1b   </td><td>GCCTGTTAGAACAGTGAGG </td></tr>\n",
       "\t<tr><th scope=row>10</th><td>Enh37-10-PLIN3 </td><td>PLIN3-2a   </td><td>GAACAGTGAGGAGGCCCCAG</td><td>PLIN3-2b   </td><td>GAAGAGAGAGAGGCCAGGA </td></tr>\n",
       "\t<tr><th scope=row>11</th><td>Enh-8-2-TKT    </td><td>TKT-1a     </td><td>GTGCGGTCAGGCTCTGTG  </td><td>TKT-1b     </td><td>GCTCTGTGTGGCACTGCCGT</td></tr>\n",
       "\t<tr><th scope=row>12</th><td>Enh-8-2-TKT    </td><td>TKT-2a     </td><td>GGAGGTAAGTGCCAGTGTG </td><td>TKT-2b     </td><td>GGAGTTGACAGGGGCTGTA </td></tr>\n",
       "\t<tr><th scope=row>13</th><td>Enh-29-9-LGALS3</td><td>LGALS3-1a  </td><td>GGGCCTCTTCAGTCATGT  </td><td>LGALS3-1b  </td><td>GGCAGAGAACATCTAGACTG</td></tr>\n",
       "\t<tr><th scope=row>14</th><td>Enh-29-9-LGALS3</td><td>LGALS3-2a  </td><td>GTTTGGAAACTGCTCCCCAT</td><td>LGALS3-2b  </td><td>GTGTTTTTGAGGCCTTTCTG</td></tr>\n",
       "\t<tr><th scope=row>15</th><td>Enh-42-8-CSTB  </td><td>CSTB-1a    </td><td>GGGTGCGGCCCTGAGCCCA </td><td>CSTB-1b    </td><td>GAAGGAAGAAGGGCCAACAG</td></tr>\n",
       "\t<tr><th scope=row>16</th><td>Enh-42-8-CSTB  </td><td>CSTB-2a    </td><td>GCCTCTGCGCCCACACTCCA</td><td>CSTB-2b    </td><td>GATTTTCTCAAGGAGCACAA</td></tr>\n",
       "\t<tr><th scope=row>17</th><td>Enh-13-1-CTSB  </td><td>CTSB-1a    </td><td>GGCCGGGCCTGCCATCAGAG</td><td>CTSB-1b    </td><td>GAGTGGCTGTGGTACTACT </td></tr>\n",
       "\t<tr><th scope=row>18</th><td>Enh-13-1-CTSB  </td><td>CTSB-2a    </td><td>GTACCACAGCCACTCTGA  </td><td>CTSB-2b    </td><td>GCGCATTAGCTCAAGACCG </td></tr>\n",
       "\t<tr><th scope=row>19</th><td>Enh-20-9-KLF6  </td><td>KLF6-1a    </td><td>GAGAGCAGCCACACCTGGAG</td><td>KLF6-1b    </td><td>GCACAGCCCAGGAGAGCAA </td></tr>\n",
       "\t<tr><th scope=row>20</th><td>Enh-20-9-KLF6  </td><td>KLF6-2a    </td><td>GGCAGGCTCCTCTCCAGGTG</td><td>KLF6-2b    </td><td>GACTGAAGAGTTAGTCTTG </td></tr>\n",
       "</tbody>\n",
       "</table>\n"
      ],
      "text/latex": [
       "A data.frame: 20 × 5\n",
       "\\begin{tabular}{r|lllll}\n",
       "  & gene\\_name & IDT1\\_Name & guide\\_sequence\\_1 & IDT2\\_Name & guide\\_sequence\\_2\\\\\n",
       "  & <chr> & <chr> & <chr> & <chr> & <chr>\\\\\n",
       "\\hline\n",
       "\t1 & CD13 (ANPEP)    & CD13-1a     & GCGCAGCTCGGAACCCGCCA & CD13-1b     & GAAGCCCTTGGCCATGGTGA\\\\\n",
       "\t2 & CD55            & CD55-1a     & GCTGCGACTCGGCGGAGTCC & CD55-1b     & GGCTGGGCGTAGCTGCGACT\\\\\n",
       "\t3 & CD73 (NT5E)     & CD73-1a     & GGCTCGGGGACACATAGCTG & CD-73-1b    & GGGCGAGTGCCGGCGAGTAG\\\\\n",
       "\t4 & FUBP1           & FUBP1-1a    & GGCGGTCCACACTTACCTGC & FUBP1-1b    & GTAGCGGCCTACTCAGTCAG\\\\\n",
       "\t5 & C15orf40        & C150rf40-1a & GAGCGGGCTGAGGCACCTTC & C15orf40-1b & GGAGCCCCGGAACTGAGAGA\\\\\n",
       "\t6 & MAFF            & MAFF-1a     & GGAGCGGAGGGGAGACTGAC & MAFF-1b     & GCCCGGTTCAGAGCGACCTG\\\\\n",
       "\t7 & Enh-23-8-FTH1   & FTH1-1a     & GAGAGAAGAGCCAAGCCGG  & FTH1-1b     & GCTGAACCTCCAGAAACCAC\\\\\n",
       "\t8 & Enh-23-8-FTH1   & FTH1-2a     & GTCACGAGGAGCTGAGCTGG & FTH1-2b     & GGGTGGGGGAGGTAGAACCC\\\\\n",
       "\t9 & Enh37-10-PLIN3  & PLIN3-1a    & GGGAACCATGTCCAGTTAG  & PLIN3-1b    & GCCTGTTAGAACAGTGAGG \\\\\n",
       "\t10 & Enh37-10-PLIN3  & PLIN3-2a    & GAACAGTGAGGAGGCCCCAG & PLIN3-2b    & GAAGAGAGAGAGGCCAGGA \\\\\n",
       "\t11 & Enh-8-2-TKT     & TKT-1a      & GTGCGGTCAGGCTCTGTG   & TKT-1b      & GCTCTGTGTGGCACTGCCGT\\\\\n",
       "\t12 & Enh-8-2-TKT     & TKT-2a      & GGAGGTAAGTGCCAGTGTG  & TKT-2b      & GGAGTTGACAGGGGCTGTA \\\\\n",
       "\t13 & Enh-29-9-LGALS3 & LGALS3-1a   & GGGCCTCTTCAGTCATGT   & LGALS3-1b   & GGCAGAGAACATCTAGACTG\\\\\n",
       "\t14 & Enh-29-9-LGALS3 & LGALS3-2a   & GTTTGGAAACTGCTCCCCAT & LGALS3-2b   & GTGTTTTTGAGGCCTTTCTG\\\\\n",
       "\t15 & Enh-42-8-CSTB   & CSTB-1a     & GGGTGCGGCCCTGAGCCCA  & CSTB-1b     & GAAGGAAGAAGGGCCAACAG\\\\\n",
       "\t16 & Enh-42-8-CSTB   & CSTB-2a     & GCCTCTGCGCCCACACTCCA & CSTB-2b     & GATTTTCTCAAGGAGCACAA\\\\\n",
       "\t17 & Enh-13-1-CTSB   & CTSB-1a     & GGCCGGGCCTGCCATCAGAG & CTSB-1b     & GAGTGGCTGTGGTACTACT \\\\\n",
       "\t18 & Enh-13-1-CTSB   & CTSB-2a     & GTACCACAGCCACTCTGA   & CTSB-2b     & GCGCATTAGCTCAAGACCG \\\\\n",
       "\t19 & Enh-20-9-KLF6   & KLF6-1a     & GAGAGCAGCCACACCTGGAG & KLF6-1b     & GCACAGCCCAGGAGAGCAA \\\\\n",
       "\t20 & Enh-20-9-KLF6   & KLF6-2a     & GGCAGGCTCCTCTCCAGGTG & KLF6-2b     & GACTGAAGAGTTAGTCTTG \\\\\n",
       "\\end{tabular}\n"
      ],
      "text/markdown": [
       "\n",
       "A data.frame: 20 × 5\n",
       "\n",
       "| <!--/--> | gene_name &lt;chr&gt; | IDT1_Name &lt;chr&gt; | guide_sequence_1 &lt;chr&gt; | IDT2_Name &lt;chr&gt; | guide_sequence_2 &lt;chr&gt; |\n",
       "|---|---|---|---|---|---|\n",
       "| 1 | CD13 (ANPEP)    | CD13-1a     | GCGCAGCTCGGAACCCGCCA | CD13-1b     | GAAGCCCTTGGCCATGGTGA |\n",
       "| 2 | CD55            | CD55-1a     | GCTGCGACTCGGCGGAGTCC | CD55-1b     | GGCTGGGCGTAGCTGCGACT |\n",
       "| 3 | CD73 (NT5E)     | CD73-1a     | GGCTCGGGGACACATAGCTG | CD-73-1b    | GGGCGAGTGCCGGCGAGTAG |\n",
       "| 4 | FUBP1           | FUBP1-1a    | GGCGGTCCACACTTACCTGC | FUBP1-1b    | GTAGCGGCCTACTCAGTCAG |\n",
       "| 5 | C15orf40        | C150rf40-1a | GAGCGGGCTGAGGCACCTTC | C15orf40-1b | GGAGCCCCGGAACTGAGAGA |\n",
       "| 6 | MAFF            | MAFF-1a     | GGAGCGGAGGGGAGACTGAC | MAFF-1b     | GCCCGGTTCAGAGCGACCTG |\n",
       "| 7 | Enh-23-8-FTH1   | FTH1-1a     | GAGAGAAGAGCCAAGCCGG  | FTH1-1b     | GCTGAACCTCCAGAAACCAC |\n",
       "| 8 | Enh-23-8-FTH1   | FTH1-2a     | GTCACGAGGAGCTGAGCTGG | FTH1-2b     | GGGTGGGGGAGGTAGAACCC |\n",
       "| 9 | Enh37-10-PLIN3  | PLIN3-1a    | GGGAACCATGTCCAGTTAG  | PLIN3-1b    | GCCTGTTAGAACAGTGAGG  |\n",
       "| 10 | Enh37-10-PLIN3  | PLIN3-2a    | GAACAGTGAGGAGGCCCCAG | PLIN3-2b    | GAAGAGAGAGAGGCCAGGA  |\n",
       "| 11 | Enh-8-2-TKT     | TKT-1a      | GTGCGGTCAGGCTCTGTG   | TKT-1b      | GCTCTGTGTGGCACTGCCGT |\n",
       "| 12 | Enh-8-2-TKT     | TKT-2a      | GGAGGTAAGTGCCAGTGTG  | TKT-2b      | GGAGTTGACAGGGGCTGTA  |\n",
       "| 13 | Enh-29-9-LGALS3 | LGALS3-1a   | GGGCCTCTTCAGTCATGT   | LGALS3-1b   | GGCAGAGAACATCTAGACTG |\n",
       "| 14 | Enh-29-9-LGALS3 | LGALS3-2a   | GTTTGGAAACTGCTCCCCAT | LGALS3-2b   | GTGTTTTTGAGGCCTTTCTG |\n",
       "| 15 | Enh-42-8-CSTB   | CSTB-1a     | GGGTGCGGCCCTGAGCCCA  | CSTB-1b     | GAAGGAAGAAGGGCCAACAG |\n",
       "| 16 | Enh-42-8-CSTB   | CSTB-2a     | GCCTCTGCGCCCACACTCCA | CSTB-2b     | GATTTTCTCAAGGAGCACAA |\n",
       "| 17 | Enh-13-1-CTSB   | CTSB-1a     | GGCCGGGCCTGCCATCAGAG | CTSB-1b     | GAGTGGCTGTGGTACTACT  |\n",
       "| 18 | Enh-13-1-CTSB   | CTSB-2a     | GTACCACAGCCACTCTGA   | CTSB-2b     | GCGCATTAGCTCAAGACCG  |\n",
       "| 19 | Enh-20-9-KLF6   | KLF6-1a     | GAGAGCAGCCACACCTGGAG | KLF6-1b     | GCACAGCCCAGGAGAGCAA  |\n",
       "| 20 | Enh-20-9-KLF6   | KLF6-2a     | GGCAGGCTCCTCTCCAGGTG | KLF6-2b     | GACTGAAGAGTTAGTCTTG  |\n",
       "\n"
      ],
      "text/plain": [
       "   gene_name       IDT1_Name   guide_sequence_1     IDT2_Name  \n",
       "1  CD13 (ANPEP)    CD13-1a     GCGCAGCTCGGAACCCGCCA CD13-1b    \n",
       "2  CD55            CD55-1a     GCTGCGACTCGGCGGAGTCC CD55-1b    \n",
       "3  CD73 (NT5E)     CD73-1a     GGCTCGGGGACACATAGCTG CD-73-1b   \n",
       "4  FUBP1           FUBP1-1a    GGCGGTCCACACTTACCTGC FUBP1-1b   \n",
       "5  C15orf40        C150rf40-1a GAGCGGGCTGAGGCACCTTC C15orf40-1b\n",
       "6  MAFF            MAFF-1a     GGAGCGGAGGGGAGACTGAC MAFF-1b    \n",
       "7  Enh-23-8-FTH1   FTH1-1a     GAGAGAAGAGCCAAGCCGG  FTH1-1b    \n",
       "8  Enh-23-8-FTH1   FTH1-2a     GTCACGAGGAGCTGAGCTGG FTH1-2b    \n",
       "9  Enh37-10-PLIN3  PLIN3-1a    GGGAACCATGTCCAGTTAG  PLIN3-1b   \n",
       "10 Enh37-10-PLIN3  PLIN3-2a    GAACAGTGAGGAGGCCCCAG PLIN3-2b   \n",
       "11 Enh-8-2-TKT     TKT-1a      GTGCGGTCAGGCTCTGTG   TKT-1b     \n",
       "12 Enh-8-2-TKT     TKT-2a      GGAGGTAAGTGCCAGTGTG  TKT-2b     \n",
       "13 Enh-29-9-LGALS3 LGALS3-1a   GGGCCTCTTCAGTCATGT   LGALS3-1b  \n",
       "14 Enh-29-9-LGALS3 LGALS3-2a   GTTTGGAAACTGCTCCCCAT LGALS3-2b  \n",
       "15 Enh-42-8-CSTB   CSTB-1a     GGGTGCGGCCCTGAGCCCA  CSTB-1b    \n",
       "16 Enh-42-8-CSTB   CSTB-2a     GCCTCTGCGCCCACACTCCA CSTB-2b    \n",
       "17 Enh-13-1-CTSB   CTSB-1a     GGCCGGGCCTGCCATCAGAG CTSB-1b    \n",
       "18 Enh-13-1-CTSB   CTSB-2a     GTACCACAGCCACTCTGA   CTSB-2b    \n",
       "19 Enh-20-9-KLF6   KLF6-1a     GAGAGCAGCCACACCTGGAG KLF6-1b    \n",
       "20 Enh-20-9-KLF6   KLF6-2a     GGCAGGCTCCTCTCCAGGTG KLF6-2b    \n",
       "   guide_sequence_2    \n",
       "1  GAAGCCCTTGGCCATGGTGA\n",
       "2  GGCTGGGCGTAGCTGCGACT\n",
       "3  GGGCGAGTGCCGGCGAGTAG\n",
       "4  GTAGCGGCCTACTCAGTCAG\n",
       "5  GGAGCCCCGGAACTGAGAGA\n",
       "6  GCCCGGTTCAGAGCGACCTG\n",
       "7  GCTGAACCTCCAGAAACCAC\n",
       "8  GGGTGGGGGAGGTAGAACCC\n",
       "9  GCCTGTTAGAACAGTGAGG \n",
       "10 GAAGAGAGAGAGGCCAGGA \n",
       "11 GCTCTGTGTGGCACTGCCGT\n",
       "12 GGAGTTGACAGGGGCTGTA \n",
       "13 GGCAGAGAACATCTAGACTG\n",
       "14 GTGTTTTTGAGGCCTTTCTG\n",
       "15 GAAGGAAGAAGGGCCAACAG\n",
       "16 GATTTTCTCAAGGAGCACAA\n",
       "17 GAGTGGCTGTGGTACTACT \n",
       "18 GCGCATTAGCTCAAGACCG \n",
       "19 GCACAGCCCAGGAGAGCAA \n",
       "20 GACTGAAGAGTTAGTCTTG "
      ]
     },
     "metadata": {},
     "output_type": "display_data"
    }
   ],
   "source": [
    "df = read.csv(\"/home/vsevim/prj/1012-ckd/S1/scripts/library_csv/66CRISPRi_dual_guides.txt\", sep=\"\\t\")\n",
    "\n",
    "head(df, 20)"
   ]
  },
  {
   "cell_type": "code",
   "execution_count": 5,
   "metadata": {
    "vscode": {
     "languageId": "r"
    }
   },
   "outputs": [],
   "source": [
    "lib_csv_name = \"/home/vsevim/prj/1012-ckd/S1/scripts/library_csv/guide_reference.csv\"\n",
    "header = \"id,name,read,pattern,sequence,feature_type,target_gene_name\\n\"\n",
    "cat(header, file=lib_csv_name, append = FALSE)\n",
    "\n",
    "for (i in 1:nrow(df)) {\n",
    "    gene_name = gsub(\" \", \"-\", df[i, \"gene_name\"])\n",
    "    gene_name = gsub(\"_\", \"-\", gene_name)\n",
    "    guide1_id = gsub(\"-\", \"_\", df[i, \"IDT1_Name\"])\n",
    "    guide2_id = gsub(\"-\", \"_\", df[i, \"IDT2_Name\"])\n",
    "    guide1_seq = df[i, \"guide_sequence_1\"]\n",
    "    guide2_seq = df[i, \"guide_sequence_2\"]\n",
    "    cat(guide1_id, \n",
    "        guide1_id, \n",
    "        \"R2,(BC)GTTTCAGAGCTAAGCACAAGAGTGC\", \n",
    "        guide1_seq, \n",
    "        \"CRISPR Guide Capture\", \n",
    "        paste0(gene_name, \"\\n\"),\n",
    "        file=lib_csv_name, \n",
    "        sep=\",\", \n",
    "        append=TRUE\n",
    "    )\n",
    "\n",
    "    if(guide2_id != \"FTH1-2b\") {\n",
    "        cat(guide2_id, \n",
    "            guide2_id, \n",
    "            \"R2,(BC)GTTTAAGAGCTAAGCTGGAA\", \n",
    "            guide2_seq, \n",
    "            \"CRISPR Guide Capture\", \n",
    "            paste0(gene_name, \"\\n\"), \n",
    "            file=lib_csv_name, \n",
    "            sep=\",\", \n",
    "            append=TRUE\n",
    "        )\n",
    "    }\n",
    "}"
   ]
  },
  {
   "cell_type": "code",
   "execution_count": null,
   "metadata": {
    "vscode": {
     "languageId": "r"
    }
   },
   "outputs": [],
   "source": []
  }
 ],
 "metadata": {
  "kernelspec": {
   "display_name": "R",
   "language": "R",
   "name": "ir"
  },
  "language_info": {
   "codemirror_mode": "r",
   "file_extension": ".r",
   "mimetype": "text/x-r-source",
   "name": "R",
   "pygments_lexer": "r",
   "version": "4.2.2"
  }
 },
 "nbformat": 4,
 "nbformat_minor": 4
}
