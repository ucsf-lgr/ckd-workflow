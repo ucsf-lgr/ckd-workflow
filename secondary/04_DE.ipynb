{
 "cells": [
  {
   "cell_type": "code",
   "execution_count": 1,
   "metadata": {
    "tags": [],
    "vscode": {
     "languageId": "r"
    }
   },
   "outputs": [],
   "source": [
    "suppressWarnings(suppressPackageStartupMessages({\n",
    "    library(Seurat)\n",
    "    library(Signac)\n",
    "    library(EnsDb.Hsapiens.v86)\n",
    "    library(dplyr)\n",
    "    library(ggplot2)\n",
    "    library(bedr)\n",
    "    library(SeuratDisk)\n",
    "    library(scales)\n",
    "    library(reshape2)\n",
    "    library(Hmisc)\n",
    "    library(tidyr)\n",
    "    library(tidyverse)\n",
    "    library(crayon)\n",
    "    library(readr)\n",
    "    library(future)\n",
    "}))"
   ]
  },
  {
   "cell_type": "markdown",
   "metadata": {},
   "source": [
    "# Definitions etc"
   ]
  },
  {
   "cell_type": "code",
   "execution_count": 2,
   "metadata": {
    "tags": [],
    "vscode": {
     "languageId": "r"
    }
   },
   "outputs": [],
   "source": [
    "set.seed(1234)\n",
    "options(digits=2)\n",
    "stats <- c()"
   ]
  },
  {
   "cell_type": "code",
   "execution_count": 3,
   "metadata": {
    "tags": [],
    "vscode": {
     "languageId": "r"
    }
   },
   "outputs": [],
   "source": [
    "if(!exists(\"papermill_run\")) {\n",
    "    prj_name = \"Screen1_66guides\"\n",
    "    data_subdir_suffixes = \"L1,L2,L3,L4\"     \n",
    "    secondary_a_path = \"/home/vsevim/prj/1012-ckd/S1/analysis/secondary/\"\n",
    "    save_seurat_h5 = \"YES\"\n",
    "}"
   ]
  },
  {
   "cell_type": "code",
   "execution_count": 4,
   "metadata": {
    "tags": [],
    "vscode": {
     "languageId": "r"
    }
   },
   "outputs": [],
   "source": [
    "custom_theme <- theme(\n",
    "  plot.title = element_text(size=16, hjust = 0.5), \n",
    "  legend.key.size = unit(0.7, \"cm\"), \n",
    "  legend.text = element_text(size = 14))"
   ]
  },
  {
   "cell_type": "markdown",
   "metadata": {},
   "source": [
    "### Load Seurat file"
   ]
  },
  {
   "cell_type": "code",
   "execution_count": 5,
   "metadata": {
    "tags": [],
    "vscode": {
     "languageId": "r"
    }
   },
   "outputs": [
    {
     "name": "stderr",
     "output_type": "stream",
     "text": [
      "Validating h5Seurat file\n",
      "\n",
      "Warning message:\n",
      "\"Adding a command log without an assay associated with it\"\n"
     ]
    }
   ],
   "source": [
    "integrated_h5_path <- \"/home/vsevim/prj/1012-ckd/S1/analysis/secondary/integrated/seurat_objects/integrated.h5seurat\"\n",
    "seurat_combined    <- LoadH5Seurat(integrated_h5_path, verbose = FALSE)"
   ]
  },
  {
   "cell_type": "markdown",
   "metadata": {},
   "source": [
    "Load THRESHOLDS.tsv"
   ]
  },
  {
   "cell_type": "code",
   "execution_count": 6,
   "metadata": {
    "tags": [],
    "vscode": {
     "languageId": "r"
    }
   },
   "outputs": [],
   "source": [
    "thr_f_name = paste0(secondary_a_path, \"/integrated/THRESHOLDS.tsv\")\n",
    "df_thresholds = read.table(thr_f_name, header=T)\n",
    "df_thresholds <- df_thresholds %>% pivot_wider(names_from = batch, values_from = threshold)\n",
    "df_thresholds <- as.data.frame(df_thresholds)"
   ]
  },
  {
   "cell_type": "markdown",
   "metadata": {},
   "source": [
    "# Differential expression"
   ]
  },
  {
   "cell_type": "markdown",
   "metadata": {},
   "source": [
    "## Find guide+ (perturbed) and guide- (unperturbed) cells for each guide"
   ]
  },
  {
   "cell_type": "code",
   "execution_count": 7,
   "metadata": {
    "tags": []
   },
   "outputs": [],
   "source": [
    "libraries = unique(seurat_combined$library)\n",
    "seurat_libs = list()\n",
    "for(i in seq_along(libraries)){ \n",
    "    lib = libraries[i]\n",
    "    seurat_libs[[i]] = subset(seurat_combined, subset = library == lib)\n",
    "}\n",
    "names(seurat_libs) <- libraries"
   ]
  },
  {
   "cell_type": "code",
   "execution_count": 15,
   "metadata": {
    "tags": []
   },
   "outputs": [],
   "source": [
    "perturbed_cells_by_guide = list()\n",
    "\n",
    "for(i in 1:nrow(df_thresholds)){  \n",
    "    perturbed_cells_in_all_libs = list()\n",
    "    guide = df_thresholds$guide[i]\n",
    "    # Loop over libraries\n",
    "    for(lib in libraries){        \n",
    "        seurat_lib = seurat_libs[[lib]]\n",
    "        threshold = df_thresholds[i, lib]        \n",
    "        #cat(blue(guide, lib, threshold, \"\\n\"))\n",
    "        cells_in_lib = Cells(seurat_lib)        \n",
    "        sgrna_counts = seurat_lib[['sgRNA']]@counts\n",
    "        select_perturbed = sgrna_counts[guide, cells_in_lib] >= threshold\n",
    "        perturbed_cells_in_library = cells_in_lib[select_perturbed]\n",
    "        #cat(length(cells_in_lib), \"in\", lib, guide, length(perturbed_cells_in_library), \"cells >\", threshold, \"\\n\")        \n",
    "        perturbed_cells_in_all_libs = append(perturbed_cells_in_all_libs, perturbed_cells_in_library)\n",
    "    }\n",
    "    perturbed_cells_by_guide[[i]] = perturbed_cells_in_all_libs\n",
    "}\n",
    "names(perturbed_cells_by_guide) <- df_thresholds$guide"
   ]
  },
  {
   "cell_type": "code",
   "execution_count": null,
   "metadata": {
    "tags": []
   },
   "outputs": [],
   "source": [
    "dummy_select = sgrna_counts['CD13-1a', cells_ids_in_lib] >= 13\n",
    "sum(dummy_select)\n",
    "min(sgrna_counts['CD13-1a', dummy_select])"
   ]
  },
  {
   "cell_type": "code",
   "execution_count": 16,
   "metadata": {
    "tags": []
   },
   "outputs": [
    {
     "data": {
      "text/html": [
       "1060"
      ],
      "text/latex": [
       "1060"
      ],
      "text/markdown": [
       "1060"
      ],
      "text/plain": [
       "[1] 1060"
      ]
     },
     "metadata": {},
     "output_type": "display_data"
    }
   ],
   "source": [
    "length(perturbed_cells_by_guide[[3]])"
   ]
  },
  {
   "cell_type": "code",
   "execution_count": 17,
   "metadata": {
    "tags": []
   },
   "outputs": [
    {
     "data": {
      "text/html": [
       "<style>\n",
       ".list-inline {list-style: none; margin:0; padding: 0}\n",
       ".list-inline>li {display: inline-block}\n",
       ".list-inline>li:not(:last-child)::after {content: \"\\00b7\"; padding: 0 .5ex}\n",
       "</style>\n",
       "<ol class=list-inline><li>'NTCE1-1a'</li><li>'NTCE3-1a'</li><li>'NTCE3-1b'</li><li>'NTCE4-1a'</li><li>'NTCE4-1b'</li></ol>\n"
      ],
      "text/latex": [
       "\\begin{enumerate*}\n",
       "\\item 'NTCE1-1a'\n",
       "\\item 'NTCE3-1a'\n",
       "\\item 'NTCE3-1b'\n",
       "\\item 'NTCE4-1a'\n",
       "\\item 'NTCE4-1b'\n",
       "\\end{enumerate*}\n"
      ],
      "text/markdown": [
       "1. 'NTCE1-1a'\n",
       "2. 'NTCE3-1a'\n",
       "3. 'NTCE3-1b'\n",
       "4. 'NTCE4-1a'\n",
       "5. 'NTCE4-1b'\n",
       "\n",
       "\n"
      ],
      "text/plain": [
       "[1] \"NTCE1-1a\" \"NTCE3-1a\" \"NTCE3-1b\" \"NTCE4-1a\" \"NTCE4-1b\""
      ]
     },
     "metadata": {},
     "output_type": "display_data"
    }
   ],
   "source": [
    "df_thresholds$guide[grepl(\"NT\" , df_thresholds$guide)]"
   ]
  },
  {
   "cell_type": "markdown",
   "metadata": {},
   "source": [
    "## Run DE"
   ]
  },
  {
   "cell_type": "code",
   "execution_count": 74,
   "metadata": {
    "tags": []
   },
   "outputs": [],
   "source": [
    "seurat_rna = CreateSeuratObject(seurat_combined[['RNA']])\n",
    "seurat_rna <- NormalizeData(seurat_rna)\n",
    "seurat_rna@meta.data <- seurat_combined@meta.data"
   ]
  },
  {
   "cell_type": "code",
   "execution_count": 89,
   "metadata": {
    "tags": []
   },
   "outputs": [
    {
     "data": {
      "text/html": [
       "1161"
      ],
      "text/latex": [
       "1161"
      ],
      "text/markdown": [
       "1161"
      ],
      "text/plain": [
       "[1] 1161"
      ]
     },
     "metadata": {},
     "output_type": "display_data"
    },
    {
     "data": {
      "text/html": [
       "23402"
      ],
      "text/latex": [
       "23402"
      ],
      "text/markdown": [
       "23402"
      ],
      "text/plain": [
       "[1] 23402"
      ]
     },
     "metadata": {},
     "output_type": "display_data"
    },
    {
     "name": "stderr",
     "output_type": "stream",
     "text": [
      "\n",
      " Completed [============================================] 100% with 0 failures\n",
      "                                                                              \n",
      "\n",
      "\n",
      "Done!\n",
      "\n",
      "Combining coefficients and standard errors\n",
      "\n",
      "Calculating log-fold changes\n",
      "\n",
      "Calculating likelihood ratio tests\n",
      "\n",
      "Refitting on reduced model...\n",
      "\n",
      "\n",
      "Done!\n",
      "\n"
     ]
    }
   ],
   "source": [
    "guides = c('PLIN3-1a', 'PLIN3-1b')\n",
    "\n",
    "all_cells = Cells(seurat_rna)\n",
    "perturbed_cells = unlist(perturbed_cells_by_guide[[guide]])\n",
    "\n",
    "\n",
    "\n",
    "\n",
    "unperturbed_cells = unlist(setdiff(all_cells, perturbed_cells))\n",
    "Idents(seurat_rna) <- \"guide_negative\"\n",
    "seurat_rna <- SetIdent(seurat_rna, cells = perturbed_cells, value = \"guide_positive\") \n",
    "\n",
    "length(perturbed_cells)\n",
    "length(unperturbed_cells)\n",
    "\n",
    "markers <- FindMarkers(\n",
    "    object = seurat_rna,\n",
    "    slot = \"data\",\n",
    "    ident.1 = 'guide_positive',\n",
    "    ident.2 = 'guide_negative',\n",
    "    test.use = \"MAST\",\n",
    "    latent.vars = 'library',\n",
    "    verbose = F\n",
    ")"
   ]
  },
  {
   "cell_type": "code",
   "execution_count": 90,
   "metadata": {
    "tags": []
   },
   "outputs": [
    {
     "data": {
      "text/html": [
       "<table class=\"dataframe\">\n",
       "<caption>A data.frame: 3 × 5</caption>\n",
       "<thead>\n",
       "\t<tr><th></th><th scope=col>p_val</th><th scope=col>avg_log2FC</th><th scope=col>pct.1</th><th scope=col>pct.2</th><th scope=col>p_val_adj</th></tr>\n",
       "\t<tr><th></th><th scope=col>&lt;dbl&gt;</th><th scope=col>&lt;dbl&gt;</th><th scope=col>&lt;dbl&gt;</th><th scope=col>&lt;dbl&gt;</th><th scope=col>&lt;dbl&gt;</th></tr>\n",
       "</thead>\n",
       "<tbody>\n",
       "\t<tr><th scope=row>PLIN3</th><td>1.7e-78</td><td>-0.31</td><td>0.69</td><td>0.81</td><td>6.3e-74</td></tr>\n",
       "\t<tr><th scope=row>AL138828.1</th><td>6.8e-12</td><td> 0.33</td><td>0.54</td><td>0.45</td><td>2.5e-07</td></tr>\n",
       "\t<tr><th scope=row>HMOX1</th><td>8.5e-10</td><td> 0.26</td><td>0.77</td><td>0.70</td><td>3.1e-05</td></tr>\n",
       "</tbody>\n",
       "</table>\n"
      ],
      "text/latex": [
       "A data.frame: 3 × 5\n",
       "\\begin{tabular}{r|lllll}\n",
       "  & p\\_val & avg\\_log2FC & pct.1 & pct.2 & p\\_val\\_adj\\\\\n",
       "  & <dbl> & <dbl> & <dbl> & <dbl> & <dbl>\\\\\n",
       "\\hline\n",
       "\tPLIN3 & 1.7e-78 & -0.31 & 0.69 & 0.81 & 6.3e-74\\\\\n",
       "\tAL138828.1 & 6.8e-12 &  0.33 & 0.54 & 0.45 & 2.5e-07\\\\\n",
       "\tHMOX1 & 8.5e-10 &  0.26 & 0.77 & 0.70 & 3.1e-05\\\\\n",
       "\\end{tabular}\n"
      ],
      "text/markdown": [
       "\n",
       "A data.frame: 3 × 5\n",
       "\n",
       "| <!--/--> | p_val &lt;dbl&gt; | avg_log2FC &lt;dbl&gt; | pct.1 &lt;dbl&gt; | pct.2 &lt;dbl&gt; | p_val_adj &lt;dbl&gt; |\n",
       "|---|---|---|---|---|---|\n",
       "| PLIN3 | 1.7e-78 | -0.31 | 0.69 | 0.81 | 6.3e-74 |\n",
       "| AL138828.1 | 6.8e-12 |  0.33 | 0.54 | 0.45 | 2.5e-07 |\n",
       "| HMOX1 | 8.5e-10 |  0.26 | 0.77 | 0.70 | 3.1e-05 |\n",
       "\n"
      ],
      "text/plain": [
       "           p_val   avg_log2FC pct.1 pct.2 p_val_adj\n",
       "PLIN3      1.7e-78 -0.31      0.69  0.81  6.3e-74  \n",
       "AL138828.1 6.8e-12  0.33      0.54  0.45  2.5e-07  \n",
       "HMOX1      8.5e-10  0.26      0.77  0.70  3.1e-05  "
      ]
     },
     "metadata": {},
     "output_type": "display_data"
    }
   ],
   "source": [
    "markers"
   ]
  },
  {
   "cell_type": "code",
   "execution_count": 82,
   "metadata": {
    "tags": []
   },
   "outputs": [
    {
     "data": {
      "text/html": [
       "<table class=\"dataframe\">\n",
       "<caption>A data.frame: 6 × 5</caption>\n",
       "<thead>\n",
       "\t<tr><th></th><th scope=col>p_val</th><th scope=col>avg_log2FC</th><th scope=col>pct.1</th><th scope=col>pct.2</th><th scope=col>p_val_adj</th></tr>\n",
       "\t<tr><th></th><th scope=col>&lt;dbl&gt;</th><th scope=col>&lt;dbl&gt;</th><th scope=col>&lt;dbl&gt;</th><th scope=col>&lt;dbl&gt;</th><th scope=col>&lt;dbl&gt;</th></tr>\n",
       "</thead>\n",
       "<tbody>\n",
       "\t<tr><th scope=row>SQSTM1</th><td>4.6e-38</td><td> 0.29</td><td>1.00</td><td>0.99</td><td>1.7e-33</td></tr>\n",
       "\t<tr><th scope=row>HMOX1</th><td>1.1e-37</td><td> 0.43</td><td>0.78</td><td>0.70</td><td>3.9e-33</td></tr>\n",
       "\t<tr><th scope=row>AL357507.1</th><td>7.6e-30</td><td> 0.28</td><td>0.31</td><td>0.20</td><td>2.8e-25</td></tr>\n",
       "\t<tr><th scope=row>AL138828.1</th><td>9.3e-21</td><td> 0.32</td><td>0.54</td><td>0.44</td><td>3.4e-16</td></tr>\n",
       "\t<tr><th scope=row>PLIN2</th><td>2.1e-18</td><td> 0.28</td><td>0.94</td><td>0.92</td><td>7.5e-14</td></tr>\n",
       "\t<tr><th scope=row>TUBA1B</th><td>1.8e-15</td><td>-0.25</td><td>0.87</td><td>0.87</td><td>6.8e-11</td></tr>\n",
       "</tbody>\n",
       "</table>\n"
      ],
      "text/latex": [
       "A data.frame: 6 × 5\n",
       "\\begin{tabular}{r|lllll}\n",
       "  & p\\_val & avg\\_log2FC & pct.1 & pct.2 & p\\_val\\_adj\\\\\n",
       "  & <dbl> & <dbl> & <dbl> & <dbl> & <dbl>\\\\\n",
       "\\hline\n",
       "\tSQSTM1 & 4.6e-38 &  0.29 & 1.00 & 0.99 & 1.7e-33\\\\\n",
       "\tHMOX1 & 1.1e-37 &  0.43 & 0.78 & 0.70 & 3.9e-33\\\\\n",
       "\tAL357507.1 & 7.6e-30 &  0.28 & 0.31 & 0.20 & 2.8e-25\\\\\n",
       "\tAL138828.1 & 9.3e-21 &  0.32 & 0.54 & 0.44 & 3.4e-16\\\\\n",
       "\tPLIN2 & 2.1e-18 &  0.28 & 0.94 & 0.92 & 7.5e-14\\\\\n",
       "\tTUBA1B & 1.8e-15 & -0.25 & 0.87 & 0.87 & 6.8e-11\\\\\n",
       "\\end{tabular}\n"
      ],
      "text/markdown": [
       "\n",
       "A data.frame: 6 × 5\n",
       "\n",
       "| <!--/--> | p_val &lt;dbl&gt; | avg_log2FC &lt;dbl&gt; | pct.1 &lt;dbl&gt; | pct.2 &lt;dbl&gt; | p_val_adj &lt;dbl&gt; |\n",
       "|---|---|---|---|---|---|\n",
       "| SQSTM1 | 4.6e-38 |  0.29 | 1.00 | 0.99 | 1.7e-33 |\n",
       "| HMOX1 | 1.1e-37 |  0.43 | 0.78 | 0.70 | 3.9e-33 |\n",
       "| AL357507.1 | 7.6e-30 |  0.28 | 0.31 | 0.20 | 2.8e-25 |\n",
       "| AL138828.1 | 9.3e-21 |  0.32 | 0.54 | 0.44 | 3.4e-16 |\n",
       "| PLIN2 | 2.1e-18 |  0.28 | 0.94 | 0.92 | 7.5e-14 |\n",
       "| TUBA1B | 1.8e-15 | -0.25 | 0.87 | 0.87 | 6.8e-11 |\n",
       "\n"
      ],
      "text/plain": [
       "           p_val   avg_log2FC pct.1 pct.2 p_val_adj\n",
       "SQSTM1     4.6e-38  0.29      1.00  0.99  1.7e-33  \n",
       "HMOX1      1.1e-37  0.43      0.78  0.70  3.9e-33  \n",
       "AL357507.1 7.6e-30  0.28      0.31  0.20  2.8e-25  \n",
       "AL138828.1 9.3e-21  0.32      0.54  0.44  3.4e-16  \n",
       "PLIN2      2.1e-18  0.28      0.94  0.92  7.5e-14  \n",
       "TUBA1B     1.8e-15 -0.25      0.87  0.87  6.8e-11  "
      ]
     },
     "metadata": {},
     "output_type": "display_data"
    }
   ],
   "source": [
    "markers"
   ]
  },
  {
   "cell_type": "code",
   "execution_count": null,
   "metadata": {},
   "outputs": [],
   "source": []
  }
 ],
 "metadata": {
  "kernelspec": {
   "display_name": "R",
   "language": "R",
   "name": "ir"
  },
  "language_info": {
   "codemirror_mode": "r",
   "file_extension": ".r",
   "mimetype": "text/x-r-source",
   "name": "R",
   "pygments_lexer": "r",
   "version": "4.2.2"
  }
 },
 "nbformat": 4,
 "nbformat_minor": 4
}
