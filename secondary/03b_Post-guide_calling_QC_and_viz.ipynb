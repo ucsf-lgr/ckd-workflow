{
 "cells": [
  {
   "cell_type": "code",
   "execution_count": 1,
   "metadata": {
    "vscode": {
     "languageId": "r"
    }
   },
   "outputs": [],
   "source": [
    "suppressWarnings(suppressPackageStartupMessages({\n",
    "    library(Seurat)\n",
    "    library(Signac)\n",
    "    library(EnsDb.Hsapiens.v86)\n",
    "    library(dplyr)\n",
    "    library(ggplot2)\n",
    "    library(bedr)\n",
    "    library(SeuratDisk)\n",
    "    library(scales)\n",
    "    library(reshape2)\n",
    "    library(Hmisc)\n",
    "    library(tidyr)\n",
    "    library(tidyverse)\n",
    "    library(crayon)\n",
    "    library(readr)\n",
    "    library(reticulate)\n",
    "    library(gridExtra)\n",
    "    library(grid)\n",
    "    library(ggpubr)\n",
    "    library(scales)\n",
    "}))\n"
   ]
  },
  {
   "cell_type": "code",
   "execution_count": 2,
   "metadata": {
    "vscode": {
     "languageId": "r"
    }
   },
   "outputs": [
    {
     "name": "stderr",
     "output_type": "stream",
     "text": [
      "Loading required package: limma\n",
      "\n",
      "\n",
      "Attaching package: 'limma'\n",
      "\n",
      "\n",
      "The following object is masked from 'package:BiocGenerics':\n",
      "\n",
      "    plotMA\n",
      "\n",
      "\n"
     ]
    }
   ],
   "source": [
    "options(reticulate.conda_binary = \"sofftware/anaconda3/bin/conda\")\n",
    "library(reticulate)\n",
    "use_condaenv(\"R42\")\n",
    "source_python(\"mixture.py\")\n",
    "source(\"helper_functions_for_diffex.r\")"
   ]
  },
  {
   "attachments": {},
   "cell_type": "markdown",
   "metadata": {},
   "source": [
    "# Definitions etc"
   ]
  },
  {
   "cell_type": "code",
   "execution_count": 3,
   "metadata": {
    "vscode": {
     "languageId": "r"
    }
   },
   "outputs": [],
   "source": [
    "set.seed(1234)\n",
    "options(digits=2)\n",
    "stats <- c()"
   ]
  },
  {
   "cell_type": "code",
   "execution_count": 4,
   "metadata": {
    "vscode": {
     "languageId": "r"
    }
   },
   "outputs": [],
   "source": [
    "if(!exists(\"papermill_run\")) {\n",
    "    prj_name = \"Screen1_66guides\"\n",
    "    secondary_a_path = \"S1/analysis/secondary/\"\n",
    "    save_seurat_h5 = \"YES\"\n",
    "}\n"
   ]
  },
  {
   "cell_type": "code",
   "execution_count": 5,
   "metadata": {
    "vscode": {
     "languageId": "r"
    }
   },
   "outputs": [],
   "source": [
    "custom_theme <- theme(\n",
    "  plot.title = element_text(size=16, hjust = 0.5), \n",
    "  legend.key.size = unit(0.7, \"cm\"), \n",
    "  legend.text = element_text(size = 14))"
   ]
  },
  {
   "attachments": {},
   "cell_type": "markdown",
   "metadata": {},
   "source": [
    "### Load Seurat file"
   ]
  },
  {
   "cell_type": "code",
   "execution_count": 6,
   "metadata": {
    "vscode": {
     "languageId": "r"
    }
   },
   "outputs": [
    {
     "name": "stderr",
     "output_type": "stream",
     "text": [
      "Validating h5Seurat file\n",
      "\n"
     ]
    },
    {
     "name": "stderr",
     "output_type": "stream",
     "text": [
      "Warning message:\n",
      "\"Adding a command log without an assay associated with it\"\n"
     ]
    }
   ],
   "source": [
    "updated_integrated_h5_path <- paste0(\n",
    "    secondary_a_path, \n",
    "    \"integrated/seurat_objects/integrated.h5seurat\"\n",
    ")\n",
    "seurat <- LoadH5Seurat(updated_integrated_h5_path, verbose = FALSE)"
   ]
  },
  {
   "attachments": {},
   "cell_type": "markdown",
   "metadata": {},
   "source": [
    "# How many zero-call cells in each library with this filtering scheme?"
   ]
  },
  {
   "cell_type": "code",
   "execution_count": 7,
   "metadata": {
    "vscode": {
     "languageId": "r"
    }
   },
   "outputs": [
    {
     "name": "stdout",
     "output_type": "stream",
     "text": [
      "total no call cells 6381"
     ]
    },
    {
     "data": {
      "text/plain": [
       "\n",
       "Lib_1 Lib_2 Lib_3 Lib_4 \n",
       " 1721  1780  1317  1563 "
      ]
     },
     "metadata": {},
     "output_type": "display_data"
    }
   ],
   "source": [
    "select_no_call_cells = seurat$guide_calls == \"NA\"\n",
    "cat(\"total no call cells\", sum(select_no_call_cells))\n",
    "table(seurat@meta.data[select_no_call_cells, ]$library)"
   ]
  },
  {
   "attachments": {},
   "cell_type": "markdown",
   "metadata": {},
   "source": [
    "# Inspect a library"
   ]
  },
  {
   "attachments": {},
   "cell_type": "markdown",
   "metadata": {},
   "source": [
    "Select library here"
   ]
  },
  {
   "cell_type": "code",
   "execution_count": 8,
   "metadata": {
    "vscode": {
     "languageId": "r"
    }
   },
   "outputs": [],
   "source": [
    "my_library = 'Lib_1'\n",
    "seurat_subset = subset(seurat, subset = library == my_library)"
   ]
  },
  {
   "attachments": {},
   "cell_type": "markdown",
   "metadata": {},
   "source": [
    "## Inspect sgRNA counts/cell"
   ]
  },
  {
   "cell_type": "code",
   "execution_count": 9,
   "metadata": {
    "vscode": {
     "languageId": "r"
    }
   },
   "outputs": [
    {
     "data": {
      "text/html": [
       "7295"
      ],
      "text/latex": [
       "7295"
      ],
      "text/markdown": [
       "7295"
      ],
      "text/plain": [
       "[1] 7295"
      ]
     },
     "metadata": {},
     "output_type": "display_data"
    }
   ],
   "source": [
    "df_sums = data.frame(colSums(seurat_subset[['sgRNA']]@counts))\n",
    "colnames(df_sums) = \"sgRNA_count\"\n",
    "nrow(df_sums)"
   ]
  },
  {
   "cell_type": "code",
   "execution_count": 10,
   "metadata": {
    "vscode": {
     "languageId": "r"
    }
   },
   "outputs": [
    {
     "name": "stderr",
     "output_type": "stream",
     "text": [
      "Warning message:\n",
      "\"\u001b[1m\u001b[22mRemoved 5120 rows containing non-finite values (`stat_bin()`).\"\n"
     ]
    },
    {
     "name": "stderr",
     "output_type": "stream",
     "text": [
      "Warning message:\n",
      "\"\u001b[1m\u001b[22mRemoved 2 rows containing missing values (`geom_bar()`).\"\n"
     ]
    },
    {
     "data": {
      "image/png": "[encoded data removed]",
      "text/plain": [
       "plot without title"
      ]
     },
     "metadata": {
      "image/png": {
       "height": 210,
       "width": 420
      }
     },
     "output_type": "display_data"
    }
   ],
   "source": [
    "options(repr.plot.width=7, repr.plot.height=3.5)\n",
    "title = paste(\"Protospacer UMI counts in\", my_library)\n",
    "\n",
    "ggplot(df_sums, aes(x = sgRNA_count)) +\n",
    "    geom_histogram(binwidth=1) +\n",
    "    labs(x = \"#PS UMI\") +\n",
    "    labs(y = \"#cells\") + \n",
    "    labs(title = title) +\n",
    "    xlim(0,300)"
   ]
  },
  {
   "attachments": {},
   "cell_type": "markdown",
   "metadata": {},
   "source": [
    "### How many cells with a count < 50?"
   ]
  },
  {
   "cell_type": "code",
   "execution_count": 11,
   "metadata": {
    "vscode": {
     "languageId": "r"
    }
   },
   "outputs": [
    {
     "name": "stdout",
     "output_type": "stream",
     "text": [
      "\u001b[32mLib_1  ----------- \n",
      "\u001b[39m#cells in library :\u001b[33m7295\u001b[39m \n",
      "#cells with #sgRNA < 50 : \u001b[33m1493\u001b[39m \n",
      "%cells with #sgRNA < 50 : \u001b[33m20.5%\u001b[39m \n"
     ]
    }
   ],
   "source": [
    "cutoff = 50\n",
    "n_low_count = sum(df_sums$sgRNA_count < cutoff)\n",
    "num_cells = nrow(df_sums)\n",
    "perc_low_count = round(100*n_low_count/num_cells,1)\n",
    "cat(green(my_library, \" ----------- \\n\"))\n",
    "cat(\"#cells in library :\")\n",
    "cat(yellow(num_cells), \"\\n\")\n",
    "cat(\"#cells with #sgRNA <\", cutoff, \": \")\n",
    "cat(yellow(n_low_count), \"\\n\")\n",
    "cat(\"%cells with #sgRNA <\", cutoff, \": \")\n",
    "cat(yellow(paste0(perc_low_count, \"%\")), \"\\n\")"
   ]
  },
  {
   "attachments": {},
   "cell_type": "markdown",
   "metadata": {},
   "source": [
    "### Identify zero-count guides"
   ]
  },
  {
   "cell_type": "code",
   "execution_count": 12,
   "metadata": {
    "vscode": {
     "languageId": "r"
    }
   },
   "outputs": [],
   "source": [
    "rownames(seurat_subset@misc$thresholds) <- seurat_subset@misc$thresholds$guide"
   ]
  },
  {
   "cell_type": "code",
   "execution_count": 13,
   "metadata": {
    "vscode": {
     "languageId": "r"
    }
   },
   "outputs": [
    {
     "data": {
      "text/html": [
       "<table class=\"dataframe\">\n",
       "<caption>A data.frame: 132 × 5</caption>\n",
       "<thead>\n",
       "\t<tr><th></th><th scope=col>guide</th><th scope=col>Lib_1</th><th scope=col>Lib_2</th><th scope=col>Lib_3</th><th scope=col>Lib_4</th></tr>\n",
       "\t<tr><th></th><th scope=col>&lt;chr&gt;</th><th scope=col>&lt;int&gt;</th><th scope=col>&lt;int&gt;</th><th scope=col>&lt;int&gt;</th><th scope=col>&lt;int&gt;</th></tr>\n",
       "</thead>\n",
       "<tbody>\n",
       "\t<tr><th scope=row>CD13-1a</th><td>CD13-1a    </td><td>15</td><td>11</td><td> 44</td><td> 21</td></tr>\n",
       "\t<tr><th scope=row>CD13-1b</th><td>CD13-1b    </td><td>10</td><td> 9</td><td> 23</td><td> 21</td></tr>\n",
       "\t<tr><th scope=row>CD55-1a</th><td>CD55-1a    </td><td>13</td><td>10</td><td> 29</td><td> 20</td></tr>\n",
       "\t<tr><th scope=row>CD55-1b</th><td>CD55-1b    </td><td>22</td><td>21</td><td> 80</td><td> 30</td></tr>\n",
       "\t<tr><th scope=row>CD73-1a</th><td>CD73-1a    </td><td> 9</td><td> 7</td><td> 24</td><td> 24</td></tr>\n",
       "\t<tr><th scope=row>CD73-1b</th><td>CD73-1b    </td><td>18</td><td> 8</td><td> 36</td><td> 19</td></tr>\n",
       "\t<tr><th scope=row>FUBP1-1a</th><td>FUBP1-1a   </td><td>30</td><td>22</td><td>219</td><td> 84</td></tr>\n",
       "\t<tr><th scope=row>FUBP1-1b</th><td>FUBP1-1b   </td><td>16</td><td>11</td><td>132</td><td> 46</td></tr>\n",
       "\t<tr><th scope=row>C15orf40-1a</th><td>C15orf40-1a</td><td>48</td><td>24</td><td>164</td><td> 59</td></tr>\n",
       "\t<tr><th scope=row>C15orf40-1b</th><td>C15orf40-1b</td><td>43</td><td>25</td><td>214</td><td> 77</td></tr>\n",
       "\t<tr><th scope=row>MAFF-1a</th><td>MAFF-1a    </td><td>49</td><td>40</td><td> 89</td><td> 46</td></tr>\n",
       "\t<tr><th scope=row>MAFF-1b</th><td>MAFF-1b    </td><td>19</td><td>11</td><td> 44</td><td> 28</td></tr>\n",
       "\t<tr><th scope=row>FTH1-1a</th><td>FTH1-1a    </td><td>21</td><td> 8</td><td> 33</td><td> 15</td></tr>\n",
       "\t<tr><th scope=row>FTH1-1b</th><td>FTH1-1b    </td><td>14</td><td> 6</td><td> 30</td><td> 17</td></tr>\n",
       "\t<tr><th scope=row>FTH1-2a</th><td>FTH1-2a    </td><td> 6</td><td> 5</td><td> 14</td><td>  8</td></tr>\n",
       "\t<tr><th scope=row>FTH1-2b</th><td>FTH1-2b    </td><td>NA</td><td>NA</td><td> NA</td><td> NA</td></tr>\n",
       "\t<tr><th scope=row>PLIN3-1a</th><td>PLIN3-1a   </td><td>33</td><td>22</td><td> 99</td><td> 55</td></tr>\n",
       "\t<tr><th scope=row>PLIN3-1b</th><td>PLIN3-1b   </td><td>22</td><td>18</td><td> 82</td><td> 29</td></tr>\n",
       "\t<tr><th scope=row>PLIN3-2a</th><td>PLIN3-2a   </td><td> 6</td><td> 4</td><td> 13</td><td>  9</td></tr>\n",
       "\t<tr><th scope=row>PLIN3-2b</th><td>PLIN3-2b   </td><td>12</td><td> 4</td><td> 13</td><td>  9</td></tr>\n",
       "\t<tr><th scope=row>TKT-1a</th><td>TKT-1a     </td><td>70</td><td>33</td><td>130</td><td>100</td></tr>\n",
       "\t<tr><th scope=row>TKT-1b</th><td>TKT-1b     </td><td>12</td><td>13</td><td>109</td><td> 21</td></tr>\n",
       "\t<tr><th scope=row>TKT-2a</th><td>TKT-2a     </td><td>16</td><td> 8</td><td> 44</td><td> 18</td></tr>\n",
       "\t<tr><th scope=row>TKT-2b</th><td>TKT-2b     </td><td>33</td><td>13</td><td> 79</td><td> 39</td></tr>\n",
       "\t<tr><th scope=row>LGALS3-1a</th><td>LGALS3-1a  </td><td>44</td><td>38</td><td>205</td><td> 59</td></tr>\n",
       "\t<tr><th scope=row>LGALS3-1b</th><td>LGALS3-1b  </td><td>11</td><td> 8</td><td> 22</td><td> 17</td></tr>\n",
       "\t<tr><th scope=row>LGALS3-2a</th><td>LGALS3-2a  </td><td>12</td><td> 7</td><td> 37</td><td> 16</td></tr>\n",
       "\t<tr><th scope=row>LGALS3-2b</th><td>LGALS3-2b  </td><td> 8</td><td> 4</td><td> 13</td><td>  8</td></tr>\n",
       "\t<tr><th scope=row>CSTB-1a</th><td>CSTB-1a    </td><td> 7</td><td> 6</td><td> 13</td><td> 11</td></tr>\n",
       "\t<tr><th scope=row>CSTB-1b</th><td>CSTB-1b    </td><td>18</td><td> 6</td><td> 32</td><td> 14</td></tr>\n",
       "\t<tr><th scope=row>⋮</th><td>⋮</td><td>⋮</td><td>⋮</td><td>⋮</td><td>⋮</td></tr>\n",
       "\t<tr><th scope=row>DE16-2a</th><td>DE16-2a </td><td>NA</td><td>NA</td><td> NA</td><td> NA</td></tr>\n",
       "\t<tr><th scope=row>DE16-2b</th><td>DE16-2b </td><td>17</td><td>11</td><td> 31</td><td> 23</td></tr>\n",
       "\t<tr><th scope=row>DE17-1a</th><td>DE17-1a </td><td>16</td><td>15</td><td> 36</td><td> 24</td></tr>\n",
       "\t<tr><th scope=row>DE17-1b</th><td>DE17-1b </td><td>12</td><td> 7</td><td> 26</td><td> 11</td></tr>\n",
       "\t<tr><th scope=row>DE17-2a</th><td>DE17-2a </td><td>78</td><td>80</td><td>652</td><td>244</td></tr>\n",
       "\t<tr><th scope=row>DE17-2b</th><td>DE17-2b </td><td>25</td><td>17</td><td> 67</td><td> 17</td></tr>\n",
       "\t<tr><th scope=row>NTCE1-1a</th><td>NTCE1-1a</td><td>30</td><td>19</td><td> 79</td><td> 46</td></tr>\n",
       "\t<tr><th scope=row>NTCE1-1b</th><td>NTCE1-1b</td><td>NA</td><td>NA</td><td> NA</td><td> NA</td></tr>\n",
       "\t<tr><th scope=row>NTCE2-1a</th><td>NTCE2-1a</td><td>NA</td><td>NA</td><td> NA</td><td> NA</td></tr>\n",
       "\t<tr><th scope=row>NTCE2-1b</th><td>NTCE2-1b</td><td>NA</td><td>NA</td><td> NA</td><td> NA</td></tr>\n",
       "\t<tr><th scope=row>NTCE3-1a</th><td>NTCE3-1a</td><td>35</td><td>17</td><td>111</td><td> 40</td></tr>\n",
       "\t<tr><th scope=row>NTCE3-1b</th><td>NTCE3-1b</td><td>50</td><td>27</td><td>102</td><td> 45</td></tr>\n",
       "\t<tr><th scope=row>NTCE4-1a</th><td>NTCE4-1a</td><td>25</td><td>13</td><td> 95</td><td> 37</td></tr>\n",
       "\t<tr><th scope=row>NTCE4-1b</th><td>NTCE4-1b</td><td>20</td><td>13</td><td> 79</td><td> 42</td></tr>\n",
       "\t<tr><th scope=row>GDOC1-1a</th><td>GDOC1-1a</td><td>15</td><td>11</td><td> 38</td><td> 30</td></tr>\n",
       "\t<tr><th scope=row>GDOC1-1b</th><td>GDOC1-1b</td><td>24</td><td>17</td><td> 45</td><td> 30</td></tr>\n",
       "\t<tr><th scope=row>GDOC2-1a</th><td>GDOC2-1a</td><td>31</td><td>23</td><td>139</td><td> 36</td></tr>\n",
       "\t<tr><th scope=row>GDOC2-1b</th><td>GDOC2-1b</td><td> 8</td><td> 6</td><td> 16</td><td> 11</td></tr>\n",
       "\t<tr><th scope=row>GDOC3-1a</th><td>GDOC3-1a</td><td>22</td><td>13</td><td> 39</td><td> 26</td></tr>\n",
       "\t<tr><th scope=row>GDOC3-1b</th><td>GDOC3-1b</td><td>10</td><td> 6</td><td> 38</td><td> 14</td></tr>\n",
       "\t<tr><th scope=row>GDOC4-1a</th><td>GDOC4-1a</td><td>35</td><td>24</td><td> 85</td><td> 46</td></tr>\n",
       "\t<tr><th scope=row>GDOC4-1b</th><td>GDOC4-1b</td><td>25</td><td>13</td><td> 76</td><td> 30</td></tr>\n",
       "\t<tr><th scope=row>CCCE1-1a</th><td>CCCE1-1a</td><td>41</td><td>22</td><td>129</td><td> 49</td></tr>\n",
       "\t<tr><th scope=row>CCCE1-1b</th><td>CCCE1-1b</td><td>26</td><td>17</td><td> 67</td><td> 42</td></tr>\n",
       "\t<tr><th scope=row>CCCE2-1a</th><td>CCCE2-1a</td><td>31</td><td>24</td><td>132</td><td> 83</td></tr>\n",
       "\t<tr><th scope=row>CCCE2-1b</th><td>CCCE2-1b</td><td> 8</td><td> 7</td><td> 30</td><td> 15</td></tr>\n",
       "\t<tr><th scope=row>CCCE3-1a</th><td>CCCE3-1a</td><td>25</td><td>12</td><td> 69</td><td> 33</td></tr>\n",
       "\t<tr><th scope=row>CCCE3-1b</th><td>CCCE3-1b</td><td>36</td><td>25</td><td>121</td><td> 42</td></tr>\n",
       "\t<tr><th scope=row>CCCE4-1a</th><td>CCCE4-1a</td><td>28</td><td>22</td><td>184</td><td> 53</td></tr>\n",
       "\t<tr><th scope=row>CCCE4-1b</th><td>CCCE4-1b</td><td> 6</td><td> 5</td><td> 19</td><td>  7</td></tr>\n",
       "</tbody>\n",
       "</table>\n"
      ],
      "text/latex": [
       "A data.frame: 132 × 5\n",
       "\\begin{tabular}{r|lllll}\n",
       "  & guide & Lib\\_1 & Lib\\_2 & Lib\\_3 & Lib\\_4\\\\\n",
       "  & <chr> & <int> & <int> & <int> & <int>\\\\\n",
       "\\hline\n",
       "\tCD13-1a & CD13-1a     & 15 & 11 &  44 &  21\\\\\n",
       "\tCD13-1b & CD13-1b     & 10 &  9 &  23 &  21\\\\\n",
       "\tCD55-1a & CD55-1a     & 13 & 10 &  29 &  20\\\\\n",
       "\tCD55-1b & CD55-1b     & 22 & 21 &  80 &  30\\\\\n",
       "\tCD73-1a & CD73-1a     &  9 &  7 &  24 &  24\\\\\n",
       "\tCD73-1b & CD73-1b     & 18 &  8 &  36 &  19\\\\\n",
       "\tFUBP1-1a & FUBP1-1a    & 30 & 22 & 219 &  84\\\\\n",
       "\tFUBP1-1b & FUBP1-1b    & 16 & 11 & 132 &  46\\\\\n",
       "\tC15orf40-1a & C15orf40-1a & 48 & 24 & 164 &  59\\\\\n",
       "\tC15orf40-1b & C15orf40-1b & 43 & 25 & 214 &  77\\\\\n",
       "\tMAFF-1a & MAFF-1a     & 49 & 40 &  89 &  46\\\\\n",
       "\tMAFF-1b & MAFF-1b     & 19 & 11 &  44 &  28\\\\\n",
       "\tFTH1-1a & FTH1-1a     & 21 &  8 &  33 &  15\\\\\n",
       "\tFTH1-1b & FTH1-1b     & 14 &  6 &  30 &  17\\\\\n",
       "\tFTH1-2a & FTH1-2a     &  6 &  5 &  14 &   8\\\\\n",
       "\tFTH1-2b & FTH1-2b     & NA & NA &  NA &  NA\\\\\n",
       "\tPLIN3-1a & PLIN3-1a    & 33 & 22 &  99 &  55\\\\\n",
       "\tPLIN3-1b & PLIN3-1b    & 22 & 18 &  82 &  29\\\\\n",
       "\tPLIN3-2a & PLIN3-2a    &  6 &  4 &  13 &   9\\\\\n",
       "\tPLIN3-2b & PLIN3-2b    & 12 &  4 &  13 &   9\\\\\n",
       "\tTKT-1a & TKT-1a      & 70 & 33 & 130 & 100\\\\\n",
       "\tTKT-1b & TKT-1b      & 12 & 13 & 109 &  21\\\\\n",
       "\tTKT-2a & TKT-2a      & 16 &  8 &  44 &  18\\\\\n",
       "\tTKT-2b & TKT-2b      & 33 & 13 &  79 &  39\\\\\n",
       "\tLGALS3-1a & LGALS3-1a   & 44 & 38 & 205 &  59\\\\\n",
       "\tLGALS3-1b & LGALS3-1b   & 11 &  8 &  22 &  17\\\\\n",
       "\tLGALS3-2a & LGALS3-2a   & 12 &  7 &  37 &  16\\\\\n",
       "\tLGALS3-2b & LGALS3-2b   &  8 &  4 &  13 &   8\\\\\n",
       "\tCSTB-1a & CSTB-1a     &  7 &  6 &  13 &  11\\\\\n",
       "\tCSTB-1b & CSTB-1b     & 18 &  6 &  32 &  14\\\\\n",
       "\t⋮ & ⋮ & ⋮ & ⋮ & ⋮ & ⋮\\\\\n",
       "\tDE16-2a & DE16-2a  & NA & NA &  NA &  NA\\\\\n",
       "\tDE16-2b & DE16-2b  & 17 & 11 &  31 &  23\\\\\n",
       "\tDE17-1a & DE17-1a  & 16 & 15 &  36 &  24\\\\\n",
       "\tDE17-1b & DE17-1b  & 12 &  7 &  26 &  11\\\\\n",
       "\tDE17-2a & DE17-2a  & 78 & 80 & 652 & 244\\\\\n",
       "\tDE17-2b & DE17-2b  & 25 & 17 &  67 &  17\\\\\n",
       "\tNTCE1-1a & NTCE1-1a & 30 & 19 &  79 &  46\\\\\n",
       "\tNTCE1-1b & NTCE1-1b & NA & NA &  NA &  NA\\\\\n",
       "\tNTCE2-1a & NTCE2-1a & NA & NA &  NA &  NA\\\\\n",
       "\tNTCE2-1b & NTCE2-1b & NA & NA &  NA &  NA\\\\\n",
       "\tNTCE3-1a & NTCE3-1a & 35 & 17 & 111 &  40\\\\\n",
       "\tNTCE3-1b & NTCE3-1b & 50 & 27 & 102 &  45\\\\\n",
       "\tNTCE4-1a & NTCE4-1a & 25 & 13 &  95 &  37\\\\\n",
       "\tNTCE4-1b & NTCE4-1b & 20 & 13 &  79 &  42\\\\\n",
       "\tGDOC1-1a & GDOC1-1a & 15 & 11 &  38 &  30\\\\\n",
       "\tGDOC1-1b & GDOC1-1b & 24 & 17 &  45 &  30\\\\\n",
       "\tGDOC2-1a & GDOC2-1a & 31 & 23 & 139 &  36\\\\\n",
       "\tGDOC2-1b & GDOC2-1b &  8 &  6 &  16 &  11\\\\\n",
       "\tGDOC3-1a & GDOC3-1a & 22 & 13 &  39 &  26\\\\\n",
       "\tGDOC3-1b & GDOC3-1b & 10 &  6 &  38 &  14\\\\\n",
       "\tGDOC4-1a & GDOC4-1a & 35 & 24 &  85 &  46\\\\\n",
       "\tGDOC4-1b & GDOC4-1b & 25 & 13 &  76 &  30\\\\\n",
       "\tCCCE1-1a & CCCE1-1a & 41 & 22 & 129 &  49\\\\\n",
       "\tCCCE1-1b & CCCE1-1b & 26 & 17 &  67 &  42\\\\\n",
       "\tCCCE2-1a & CCCE2-1a & 31 & 24 & 132 &  83\\\\\n",
       "\tCCCE2-1b & CCCE2-1b &  8 &  7 &  30 &  15\\\\\n",
       "\tCCCE3-1a & CCCE3-1a & 25 & 12 &  69 &  33\\\\\n",
       "\tCCCE3-1b & CCCE3-1b & 36 & 25 & 121 &  42\\\\\n",
       "\tCCCE4-1a & CCCE4-1a & 28 & 22 & 184 &  53\\\\\n",
       "\tCCCE4-1b & CCCE4-1b &  6 &  5 &  19 &   7\\\\\n",
       "\\end{tabular}\n"
      ],
      "text/markdown": [
       "\n",
       "A data.frame: 132 × 5\n",
       "\n",
       "| <!--/--> | guide &lt;chr&gt; | Lib_1 &lt;int&gt; | Lib_2 &lt;int&gt; | Lib_3 &lt;int&gt; | Lib_4 &lt;int&gt; |\n",
       "|---|---|---|---|---|---|\n",
       "| CD13-1a | CD13-1a     | 15 | 11 |  44 |  21 |\n",
       "| CD13-1b | CD13-1b     | 10 |  9 |  23 |  21 |\n",
       "| CD55-1a | CD55-1a     | 13 | 10 |  29 |  20 |\n",
       "| CD55-1b | CD55-1b     | 22 | 21 |  80 |  30 |\n",
       "| CD73-1a | CD73-1a     |  9 |  7 |  24 |  24 |\n",
       "| CD73-1b | CD73-1b     | 18 |  8 |  36 |  19 |\n",
       "| FUBP1-1a | FUBP1-1a    | 30 | 22 | 219 |  84 |\n",
       "| FUBP1-1b | FUBP1-1b    | 16 | 11 | 132 |  46 |\n",
       "| C15orf40-1a | C15orf40-1a | 48 | 24 | 164 |  59 |\n",
       "| C15orf40-1b | C15orf40-1b | 43 | 25 | 214 |  77 |\n",
       "| MAFF-1a | MAFF-1a     | 49 | 40 |  89 |  46 |\n",
       "| MAFF-1b | MAFF-1b     | 19 | 11 |  44 |  28 |\n",
       "| FTH1-1a | FTH1-1a     | 21 |  8 |  33 |  15 |\n",
       "| FTH1-1b | FTH1-1b     | 14 |  6 |  30 |  17 |\n",
       "| FTH1-2a | FTH1-2a     |  6 |  5 |  14 |   8 |\n",
       "| FTH1-2b | FTH1-2b     | NA | NA |  NA |  NA |\n",
       "| PLIN3-1a | PLIN3-1a    | 33 | 22 |  99 |  55 |\n",
       "| PLIN3-1b | PLIN3-1b    | 22 | 18 |  82 |  29 |\n",
       "| PLIN3-2a | PLIN3-2a    |  6 |  4 |  13 |   9 |\n",
       "| PLIN3-2b | PLIN3-2b    | 12 |  4 |  13 |   9 |\n",
       "| TKT-1a | TKT-1a      | 70 | 33 | 130 | 100 |\n",
       "| TKT-1b | TKT-1b      | 12 | 13 | 109 |  21 |\n",
       "| TKT-2a | TKT-2a      | 16 |  8 |  44 |  18 |\n",
       "| TKT-2b | TKT-2b      | 33 | 13 |  79 |  39 |\n",
       "| LGALS3-1a | LGALS3-1a   | 44 | 38 | 205 |  59 |\n",
       "| LGALS3-1b | LGALS3-1b   | 11 |  8 |  22 |  17 |\n",
       "| LGALS3-2a | LGALS3-2a   | 12 |  7 |  37 |  16 |\n",
       "| LGALS3-2b | LGALS3-2b   |  8 |  4 |  13 |   8 |\n",
       "| CSTB-1a | CSTB-1a     |  7 |  6 |  13 |  11 |\n",
       "| CSTB-1b | CSTB-1b     | 18 |  6 |  32 |  14 |\n",
       "| ⋮ | ⋮ | ⋮ | ⋮ | ⋮ | ⋮ |\n",
       "| DE16-2a | DE16-2a  | NA | NA |  NA |  NA |\n",
       "| DE16-2b | DE16-2b  | 17 | 11 |  31 |  23 |\n",
       "| DE17-1a | DE17-1a  | 16 | 15 |  36 |  24 |\n",
       "| DE17-1b | DE17-1b  | 12 |  7 |  26 |  11 |\n",
       "| DE17-2a | DE17-2a  | 78 | 80 | 652 | 244 |\n",
       "| DE17-2b | DE17-2b  | 25 | 17 |  67 |  17 |\n",
       "| NTCE1-1a | NTCE1-1a | 30 | 19 |  79 |  46 |\n",
       "| NTCE1-1b | NTCE1-1b | NA | NA |  NA |  NA |\n",
       "| NTCE2-1a | NTCE2-1a | NA | NA |  NA |  NA |\n",
       "| NTCE2-1b | NTCE2-1b | NA | NA |  NA |  NA |\n",
       "| NTCE3-1a | NTCE3-1a | 35 | 17 | 111 |  40 |\n",
       "| NTCE3-1b | NTCE3-1b | 50 | 27 | 102 |  45 |\n",
       "| NTCE4-1a | NTCE4-1a | 25 | 13 |  95 |  37 |\n",
       "| NTCE4-1b | NTCE4-1b | 20 | 13 |  79 |  42 |\n",
       "| GDOC1-1a | GDOC1-1a | 15 | 11 |  38 |  30 |\n",
       "| GDOC1-1b | GDOC1-1b | 24 | 17 |  45 |  30 |\n",
       "| GDOC2-1a | GDOC2-1a | 31 | 23 | 139 |  36 |\n",
       "| GDOC2-1b | GDOC2-1b |  8 |  6 |  16 |  11 |\n",
       "| GDOC3-1a | GDOC3-1a | 22 | 13 |  39 |  26 |\n",
       "| GDOC3-1b | GDOC3-1b | 10 |  6 |  38 |  14 |\n",
       "| GDOC4-1a | GDOC4-1a | 35 | 24 |  85 |  46 |\n",
       "| GDOC4-1b | GDOC4-1b | 25 | 13 |  76 |  30 |\n",
       "| CCCE1-1a | CCCE1-1a | 41 | 22 | 129 |  49 |\n",
       "| CCCE1-1b | CCCE1-1b | 26 | 17 |  67 |  42 |\n",
       "| CCCE2-1a | CCCE2-1a | 31 | 24 | 132 |  83 |\n",
       "| CCCE2-1b | CCCE2-1b |  8 |  7 |  30 |  15 |\n",
       "| CCCE3-1a | CCCE3-1a | 25 | 12 |  69 |  33 |\n",
       "| CCCE3-1b | CCCE3-1b | 36 | 25 | 121 |  42 |\n",
       "| CCCE4-1a | CCCE4-1a | 28 | 22 | 184 |  53 |\n",
       "| CCCE4-1b | CCCE4-1b |  6 |  5 |  19 |   7 |\n",
       "\n"
      ],
      "text/plain": [
       "            guide       Lib_1 Lib_2 Lib_3 Lib_4\n",
       "CD13-1a     CD13-1a     15    11     44    21  \n",
       "CD13-1b     CD13-1b     10     9     23    21  \n",
       "CD55-1a     CD55-1a     13    10     29    20  \n",
       "CD55-1b     CD55-1b     22    21     80    30  \n",
       "CD73-1a     CD73-1a      9     7     24    24  \n",
       "CD73-1b     CD73-1b     18     8     36    19  \n",
       "FUBP1-1a    FUBP1-1a    30    22    219    84  \n",
       "FUBP1-1b    FUBP1-1b    16    11    132    46  \n",
       "C15orf40-1a C15orf40-1a 48    24    164    59  \n",
       "C15orf40-1b C15orf40-1b 43    25    214    77  \n",
       "MAFF-1a     MAFF-1a     49    40     89    46  \n",
       "MAFF-1b     MAFF-1b     19    11     44    28  \n",
       "FTH1-1a     FTH1-1a     21     8     33    15  \n",
       "FTH1-1b     FTH1-1b     14     6     30    17  \n",
       "FTH1-2a     FTH1-2a      6     5     14     8  \n",
       "FTH1-2b     FTH1-2b     NA    NA     NA    NA  \n",
       "PLIN3-1a    PLIN3-1a    33    22     99    55  \n",
       "PLIN3-1b    PLIN3-1b    22    18     82    29  \n",
       "PLIN3-2a    PLIN3-2a     6     4     13     9  \n",
       "PLIN3-2b    PLIN3-2b    12     4     13     9  \n",
       "TKT-1a      TKT-1a      70    33    130   100  \n",
       "TKT-1b      TKT-1b      12    13    109    21  \n",
       "TKT-2a      TKT-2a      16     8     44    18  \n",
       "TKT-2b      TKT-2b      33    13     79    39  \n",
       "LGALS3-1a   LGALS3-1a   44    38    205    59  \n",
       "LGALS3-1b   LGALS3-1b   11     8     22    17  \n",
       "LGALS3-2a   LGALS3-2a   12     7     37    16  \n",
       "LGALS3-2b   LGALS3-2b    8     4     13     8  \n",
       "CSTB-1a     CSTB-1a      7     6     13    11  \n",
       "CSTB-1b     CSTB-1b     18     6     32    14  \n",
       "⋮           ⋮           ⋮     ⋮     ⋮     ⋮    \n",
       "DE16-2a     DE16-2a     NA    NA     NA    NA  \n",
       "DE16-2b     DE16-2b     17    11     31    23  \n",
       "DE17-1a     DE17-1a     16    15     36    24  \n",
       "DE17-1b     DE17-1b     12     7     26    11  \n",
       "DE17-2a     DE17-2a     78    80    652   244  \n",
       "DE17-2b     DE17-2b     25    17     67    17  \n",
       "NTCE1-1a    NTCE1-1a    30    19     79    46  \n",
       "NTCE1-1b    NTCE1-1b    NA    NA     NA    NA  \n",
       "NTCE2-1a    NTCE2-1a    NA    NA     NA    NA  \n",
       "NTCE2-1b    NTCE2-1b    NA    NA     NA    NA  \n",
       "NTCE3-1a    NTCE3-1a    35    17    111    40  \n",
       "NTCE3-1b    NTCE3-1b    50    27    102    45  \n",
       "NTCE4-1a    NTCE4-1a    25    13     95    37  \n",
       "NTCE4-1b    NTCE4-1b    20    13     79    42  \n",
       "GDOC1-1a    GDOC1-1a    15    11     38    30  \n",
       "GDOC1-1b    GDOC1-1b    24    17     45    30  \n",
       "GDOC2-1a    GDOC2-1a    31    23    139    36  \n",
       "GDOC2-1b    GDOC2-1b     8     6     16    11  \n",
       "GDOC3-1a    GDOC3-1a    22    13     39    26  \n",
       "GDOC3-1b    GDOC3-1b    10     6     38    14  \n",
       "GDOC4-1a    GDOC4-1a    35    24     85    46  \n",
       "GDOC4-1b    GDOC4-1b    25    13     76    30  \n",
       "CCCE1-1a    CCCE1-1a    41    22    129    49  \n",
       "CCCE1-1b    CCCE1-1b    26    17     67    42  \n",
       "CCCE2-1a    CCCE2-1a    31    24    132    83  \n",
       "CCCE2-1b    CCCE2-1b     8     7     30    15  \n",
       "CCCE3-1a    CCCE3-1a    25    12     69    33  \n",
       "CCCE3-1b    CCCE3-1b    36    25    121    42  \n",
       "CCCE4-1a    CCCE4-1a    28    22    184    53  \n",
       "CCCE4-1b    CCCE4-1b     6     5     19     7  "
      ]
     },
     "metadata": {},
     "output_type": "display_data"
    }
   ],
   "source": [
    "guide_list = rownames(seurat_subset[['sgRNA']])\n",
    "df_dummy = seurat_subset@misc$thresholds[guide_list, ]\n",
    "seurat_subset@misc$thresholds[guide_list, ]\n"
   ]
  },
  {
   "cell_type": "code",
   "execution_count": 14,
   "metadata": {
    "vscode": {
     "languageId": "r"
    }
   },
   "outputs": [
    {
     "name": "stdout",
     "output_type": "stream",
     "text": [
      "\u001b[32mFTH1-2b\u001b[39m \t 0 \n",
      "\u001b[32mDE2-1a\u001b[39m \t 0 \n",
      "\u001b[32mDE2-1b\u001b[39m \t 0 \n",
      "\u001b[32mDE9-2a\u001b[39m \t 0 \n",
      "\u001b[32mDE9-2b\u001b[39m \t 0 \n",
      "\u001b[32mDE16-2a\u001b[39m \t 0 \n",
      "\u001b[32mNTCE1-1b\u001b[39m \t 0 \n",
      "\u001b[32mNTCE2-1a\u001b[39m \t 0 \n",
      "\u001b[32mNTCE2-1b\u001b[39m \t 0 \n"
     ]
    }
   ],
   "source": [
    "for(guide in guide_list) {\n",
    "    s = sum(seurat_subset[['sgRNA']]@counts[guide, ] > 0)\n",
    "    if(s == 0) {\n",
    "        cat(green(guide), \"\\t\", s, \"\\n\") \n",
    "    } else {\n",
    "        #cat(guide, \"\\t\", s, \"\\n\") \n",
    "    }\n",
    "}\n"
   ]
  },
  {
   "attachments": {},
   "cell_type": "markdown",
   "metadata": {},
   "source": [
    "### Find cells with zero calls"
   ]
  },
  {
   "cell_type": "code",
   "execution_count": 15,
   "metadata": {
    "vscode": {
     "languageId": "r"
    }
   },
   "outputs": [],
   "source": [
    "rownames(seurat_subset@misc$thresholds) <- seurat_subset@misc$thresholds$guide"
   ]
  },
  {
   "cell_type": "code",
   "execution_count": 16,
   "metadata": {
    "vscode": {
     "languageId": "r"
    }
   },
   "outputs": [],
   "source": [
    "guide_list = rownames(seurat_subset[['sgRNA']])\n",
    "df_dummy = seurat_subset@misc$thresholds[guide_list, ]\n",
    "#head(seurat_subset@misc$thresholds[guide_list, ])\n",
    "thresholds_for_lib = seurat_subset@misc$thresholds[guide_list, my_library]\n",
    "thresholds_for_lib[is.na(thresholds_for_lib)] = 1e50"
   ]
  },
  {
   "cell_type": "code",
   "execution_count": 17,
   "metadata": {
    "vscode": {
     "languageId": "r"
    }
   },
   "outputs": [],
   "source": [
    "ps_counts = t(seurat_subset[['sgRNA']]@counts)\n",
    "select_zero_call_cells = rowSums(ps_counts >= thresholds_for_lib) == 0 \n",
    "#zero_call_cells = rownames(ps_counts[select_zero_call_cells,])"
   ]
  },
  {
   "cell_type": "code",
   "execution_count": 18,
   "metadata": {
    "vscode": {
     "languageId": "r"
    }
   },
   "outputs": [
    {
     "data": {
      "text/html": [
       "<style>\n",
       ".list-inline {list-style: none; margin:0; padding: 0}\n",
       ".list-inline>li {display: inline-block}\n",
       ".list-inline>li:not(:last-child)::after {content: \"\\00b7\"; padding: 0 .5ex}\n",
       "</style>\n",
       "<ol class=list-inline><li>15</li><li>10</li><li>13</li><li>22</li><li>9</li><li>18</li><li>30</li><li>16</li><li>48</li><li>43</li><li>49</li><li>19</li><li>21</li><li>14</li><li>6</li><li>1e+50</li><li>33</li><li>22</li><li>6</li><li>12</li><li>70</li><li>12</li><li>16</li><li>33</li><li>44</li><li>11</li><li>12</li><li>8</li><li>7</li><li>18</li><li>87</li><li>7</li><li>17</li><li>18</li><li>121</li><li>7</li><li>27</li><li>20</li><li>26</li><li>29</li><li>162</li><li>6</li><li>51</li><li>21</li><li>1e+50</li><li>1e+50</li><li>25</li><li>18</li><li>41</li><li>18</li><li>16</li><li>11</li><li>12</li><li>5</li><li>34</li><li>10</li><li>45</li><li>29</li><li>52</li><li>41</li><li>23</li><li>15</li><li>16</li><li>1e+50</li><li>47</li><li>11</li><li>17</li><li>19</li><li>34</li><li>20</li><li>49</li><li>23</li><li>34</li><li>7</li><li>1e+50</li><li>1e+50</li><li>49</li><li>16</li><li>10</li><li>15</li><li>35</li><li>5</li><li>22</li><li>17</li><li>13</li><li>47</li><li>4</li><li>13</li><li>23</li><li>59</li><li>6</li><li>15</li><li>22</li><li>12</li><li>24</li><li>27</li><li>18</li><li>9</li><li>13</li><li>17</li><li>22</li><li>14</li><li>1e+50</li><li>17</li><li>16</li><li>12</li><li>78</li><li>25</li><li>30</li><li>1e+50</li><li>1e+50</li><li>1e+50</li><li>35</li><li>50</li><li>25</li><li>20</li><li>15</li><li>24</li><li>31</li><li>8</li><li>22</li><li>10</li><li>35</li><li>25</li><li>41</li><li>26</li><li>31</li><li>8</li><li>25</li><li>36</li><li>28</li><li>6</li></ol>\n"
      ],
      "text/latex": [
       "\\begin{enumerate*}\n",
       "\\item 15\n",
       "\\item 10\n",
       "\\item 13\n",
       "\\item 22\n",
       "\\item 9\n",
       "\\item 18\n",
       "\\item 30\n",
       "\\item 16\n",
       "\\item 48\n",
       "\\item 43\n",
       "\\item 49\n",
       "\\item 19\n",
       "\\item 21\n",
       "\\item 14\n",
       "\\item 6\n",
       "\\item 1e+50\n",
       "\\item 33\n",
       "\\item 22\n",
       "\\item 6\n",
       "\\item 12\n",
       "\\item 70\n",
       "\\item 12\n",
       "\\item 16\n",
       "\\item 33\n",
       "\\item 44\n",
       "\\item 11\n",
       "\\item 12\n",
       "\\item 8\n",
       "\\item 7\n",
       "\\item 18\n",
       "\\item 87\n",
       "\\item 7\n",
       "\\item 17\n",
       "\\item 18\n",
       "\\item 121\n",
       "\\item 7\n",
       "\\item 27\n",
       "\\item 20\n",
       "\\item 26\n",
       "\\item 29\n",
       "\\item 162\n",
       "\\item 6\n",
       "\\item 51\n",
       "\\item 21\n",
       "\\item 1e+50\n",
       "\\item 1e+50\n",
       "\\item 25\n",
       "\\item 18\n",
       "\\item 41\n",
       "\\item 18\n",
       "\\item 16\n",
       "\\item 11\n",
       "\\item 12\n",
       "\\item 5\n",
       "\\item 34\n",
       "\\item 10\n",
       "\\item 45\n",
       "\\item 29\n",
       "\\item 52\n",
       "\\item 41\n",
       "\\item 23\n",
       "\\item 15\n",
       "\\item 16\n",
       "\\item 1e+50\n",
       "\\item 47\n",
       "\\item 11\n",
       "\\item 17\n",
       "\\item 19\n",
       "\\item 34\n",
       "\\item 20\n",
       "\\item 49\n",
       "\\item 23\n",
       "\\item 34\n",
       "\\item 7\n",
       "\\item 1e+50\n",
       "\\item 1e+50\n",
       "\\item 49\n",
       "\\item 16\n",
       "\\item 10\n",
       "\\item 15\n",
       "\\item 35\n",
       "\\item 5\n",
       "\\item 22\n",
       "\\item 17\n",
       "\\item 13\n",
       "\\item 47\n",
       "\\item 4\n",
       "\\item 13\n",
       "\\item 23\n",
       "\\item 59\n",
       "\\item 6\n",
       "\\item 15\n",
       "\\item 22\n",
       "\\item 12\n",
       "\\item 24\n",
       "\\item 27\n",
       "\\item 18\n",
       "\\item 9\n",
       "\\item 13\n",
       "\\item 17\n",
       "\\item 22\n",
       "\\item 14\n",
       "\\item 1e+50\n",
       "\\item 17\n",
       "\\item 16\n",
       "\\item 12\n",
       "\\item 78\n",
       "\\item 25\n",
       "\\item 30\n",
       "\\item 1e+50\n",
       "\\item 1e+50\n",
       "\\item 1e+50\n",
       "\\item 35\n",
       "\\item 50\n",
       "\\item 25\n",
       "\\item 20\n",
       "\\item 15\n",
       "\\item 24\n",
       "\\item 31\n",
       "\\item 8\n",
       "\\item 22\n",
       "\\item 10\n",
       "\\item 35\n",
       "\\item 25\n",
       "\\item 41\n",
       "\\item 26\n",
       "\\item 31\n",
       "\\item 8\n",
       "\\item 25\n",
       "\\item 36\n",
       "\\item 28\n",
       "\\item 6\n",
       "\\end{enumerate*}\n"
      ],
      "text/markdown": [
       "1. 15\n",
       "2. 10\n",
       "3. 13\n",
       "4. 22\n",
       "5. 9\n",
       "6. 18\n",
       "7. 30\n",
       "8. 16\n",
       "9. 48\n",
       "10. 43\n",
       "11. 49\n",
       "12. 19\n",
       "13. 21\n",
       "14. 14\n",
       "15. 6\n",
       "16. 1e+50\n",
       "17. 33\n",
       "18. 22\n",
       "19. 6\n",
       "20. 12\n",
       "21. 70\n",
       "22. 12\n",
       "23. 16\n",
       "24. 33\n",
       "25. 44\n",
       "26. 11\n",
       "27. 12\n",
       "28. 8\n",
       "29. 7\n",
       "30. 18\n",
       "31. 87\n",
       "32. 7\n",
       "33. 17\n",
       "34. 18\n",
       "35. 121\n",
       "36. 7\n",
       "37. 27\n",
       "38. 20\n",
       "39. 26\n",
       "40. 29\n",
       "41. 162\n",
       "42. 6\n",
       "43. 51\n",
       "44. 21\n",
       "45. 1e+50\n",
       "46. 1e+50\n",
       "47. 25\n",
       "48. 18\n",
       "49. 41\n",
       "50. 18\n",
       "51. 16\n",
       "52. 11\n",
       "53. 12\n",
       "54. 5\n",
       "55. 34\n",
       "56. 10\n",
       "57. 45\n",
       "58. 29\n",
       "59. 52\n",
       "60. 41\n",
       "61. 23\n",
       "62. 15\n",
       "63. 16\n",
       "64. 1e+50\n",
       "65. 47\n",
       "66. 11\n",
       "67. 17\n",
       "68. 19\n",
       "69. 34\n",
       "70. 20\n",
       "71. 49\n",
       "72. 23\n",
       "73. 34\n",
       "74. 7\n",
       "75. 1e+50\n",
       "76. 1e+50\n",
       "77. 49\n",
       "78. 16\n",
       "79. 10\n",
       "80. 15\n",
       "81. 35\n",
       "82. 5\n",
       "83. 22\n",
       "84. 17\n",
       "85. 13\n",
       "86. 47\n",
       "87. 4\n",
       "88. 13\n",
       "89. 23\n",
       "90. 59\n",
       "91. 6\n",
       "92. 15\n",
       "93. 22\n",
       "94. 12\n",
       "95. 24\n",
       "96. 27\n",
       "97. 18\n",
       "98. 9\n",
       "99. 13\n",
       "100. 17\n",
       "101. 22\n",
       "102. 14\n",
       "103. 1e+50\n",
       "104. 17\n",
       "105. 16\n",
       "106. 12\n",
       "107. 78\n",
       "108. 25\n",
       "109. 30\n",
       "110. 1e+50\n",
       "111. 1e+50\n",
       "112. 1e+50\n",
       "113. 35\n",
       "114. 50\n",
       "115. 25\n",
       "116. 20\n",
       "117. 15\n",
       "118. 24\n",
       "119. 31\n",
       "120. 8\n",
       "121. 22\n",
       "122. 10\n",
       "123. 35\n",
       "124. 25\n",
       "125. 41\n",
       "126. 26\n",
       "127. 31\n",
       "128. 8\n",
       "129. 25\n",
       "130. 36\n",
       "131. 28\n",
       "132. 6\n",
       "\n",
       "\n"
      ],
      "text/plain": [
       "  [1] 1.5e+01 1.0e+01 1.3e+01 2.2e+01 9.0e+00 1.8e+01 3.0e+01 1.6e+01 4.8e+01\n",
       " [10] 4.3e+01 4.9e+01 1.9e+01 2.1e+01 1.4e+01 6.0e+00 1.0e+50 3.3e+01 2.2e+01\n",
       " [19] 6.0e+00 1.2e+01 7.0e+01 1.2e+01 1.6e+01 3.3e+01 4.4e+01 1.1e+01 1.2e+01\n",
       " [28] 8.0e+00 7.0e+00 1.8e+01 8.7e+01 7.0e+00 1.7e+01 1.8e+01 1.2e+02 7.0e+00\n",
       " [37] 2.7e+01 2.0e+01 2.6e+01 2.9e+01 1.6e+02 6.0e+00 5.1e+01 2.1e+01 1.0e+50\n",
       " [46] 1.0e+50 2.5e+01 1.8e+01 4.1e+01 1.8e+01 1.6e+01 1.1e+01 1.2e+01 5.0e+00\n",
       " [55] 3.4e+01 1.0e+01 4.5e+01 2.9e+01 5.2e+01 4.1e+01 2.3e+01 1.5e+01 1.6e+01\n",
       " [64] 1.0e+50 4.7e+01 1.1e+01 1.7e+01 1.9e+01 3.4e+01 2.0e+01 4.9e+01 2.3e+01\n",
       " [73] 3.4e+01 7.0e+00 1.0e+50 1.0e+50 4.9e+01 1.6e+01 1.0e+01 1.5e+01 3.5e+01\n",
       " [82] 5.0e+00 2.2e+01 1.7e+01 1.3e+01 4.7e+01 4.0e+00 1.3e+01 2.3e+01 5.9e+01\n",
       " [91] 6.0e+00 1.5e+01 2.2e+01 1.2e+01 2.4e+01 2.7e+01 1.8e+01 9.0e+00 1.3e+01\n",
       "[100] 1.7e+01 2.2e+01 1.4e+01 1.0e+50 1.7e+01 1.6e+01 1.2e+01 7.8e+01 2.5e+01\n",
       "[109] 3.0e+01 1.0e+50 1.0e+50 1.0e+50 3.5e+01 5.0e+01 2.5e+01 2.0e+01 1.5e+01\n",
       "[118] 2.4e+01 3.1e+01 8.0e+00 2.2e+01 1.0e+01 3.5e+01 2.5e+01 4.1e+01 2.6e+01\n",
       "[127] 3.1e+01 8.0e+00 2.5e+01 3.6e+01 2.8e+01 6.0e+00"
      ]
     },
     "metadata": {},
     "output_type": "display_data"
    }
   ],
   "source": [
    "thresholds_for_lib"
   ]
  },
  {
   "attachments": {},
   "cell_type": "markdown",
   "metadata": {},
   "source": [
    "#### Check a non-zero-call cell first"
   ]
  },
  {
   "cell_type": "code",
   "execution_count": 19,
   "metadata": {
    "vscode": {
     "languageId": "r"
    }
   },
   "outputs": [
    {
     "name": "stdout",
     "output_type": "stream",
     "text": [
      "FUBP1-1a   DE6-2a   DE8-1a   DE8-1b  DE15-2b \n",
      "     941      248      953      446      628 \n"
     ]
    }
   ],
   "source": [
    "cell_no = 1\n",
    "select_guides_w_call = ps_counts[cell_no, ] >= thresholds_for_lib\n",
    "guides_and_counts = ps_counts[cell_no, select_guides_w_call]\n",
    "print(guides_and_counts)"
   ]
  },
  {
   "cell_type": "code",
   "execution_count": 20,
   "metadata": {
    "vscode": {
     "languageId": "r"
    }
   },
   "outputs": [
    {
     "data": {
      "text/html": [
       "<table class=\"dataframe\">\n",
       "<caption>A data.frame: 1 × 18</caption>\n",
       "<thead>\n",
       "\t<tr><th></th><th scope=col>nCount_RNA</th><th scope=col>nFeature_RNA</th><th scope=col>nCount_sgRNA</th><th scope=col>nFeature_sgRNA</th><th scope=col>nCount_SCT</th><th scope=col>nFeature_SCT</th><th scope=col>orig.ident</th><th scope=col>library</th><th scope=col>percent.mt</th><th scope=col>status</th><th scope=col>donor</th><th scope=col>dCas9</th><th scope=col>SCT_snn_res.0.5</th><th scope=col>seurat_clusters</th><th scope=col>guide_calls</th><th scope=col>plasmid_calls</th><th scope=col>n_guides</th><th scope=col>n_plasmids</th></tr>\n",
       "\t<tr><th></th><th scope=col>&lt;dbl&gt;</th><th scope=col>&lt;int&gt;</th><th scope=col>&lt;dbl&gt;</th><th scope=col>&lt;int&gt;</th><th scope=col>&lt;dbl&gt;</th><th scope=col>&lt;int&gt;</th><th scope=col>&lt;chr&gt;</th><th scope=col>&lt;chr&gt;</th><th scope=col>&lt;dbl&gt;</th><th scope=col>&lt;chr&gt;</th><th scope=col>&lt;chr&gt;</th><th scope=col>&lt;dbl&gt;</th><th scope=col>&lt;fct&gt;</th><th scope=col>&lt;fct&gt;</th><th scope=col>&lt;chr&gt;</th><th scope=col>&lt;chr&gt;</th><th scope=col>&lt;dbl&gt;</th><th scope=col>&lt;dbl&gt;</th></tr>\n",
       "</thead>\n",
       "<tbody>\n",
       "\t<tr><th scope=row>AAACCCAAGAGCAGCT-1_1</th><td>25185</td><td>5887</td><td>3237</td><td>19</td><td>24864</td><td>5840</td><td>Screen1_66guides</td><td>Lib_1</td><td>6.7</td><td>singlet</td><td>3</td><td>20</td><td>1</td><td>1</td><td>FUBP1-1a|DE6-2a|DE8-1a|DE8-1b|DE15-2b</td><td>FUBP1-1|DE6-2|DE8-1|DE15-2</td><td>5</td><td>4</td></tr>\n",
       "</tbody>\n",
       "</table>\n"
      ],
      "text/latex": [
       "A data.frame: 1 × 18\n",
       "\\begin{tabular}{r|llllllllllllllllll}\n",
       "  & nCount\\_RNA & nFeature\\_RNA & nCount\\_sgRNA & nFeature\\_sgRNA & nCount\\_SCT & nFeature\\_SCT & orig.ident & library & percent.mt & status & donor & dCas9 & SCT\\_snn\\_res.0.5 & seurat\\_clusters & guide\\_calls & plasmid\\_calls & n\\_guides & n\\_plasmids\\\\\n",
       "  & <dbl> & <int> & <dbl> & <int> & <dbl> & <int> & <chr> & <chr> & <dbl> & <chr> & <chr> & <dbl> & <fct> & <fct> & <chr> & <chr> & <dbl> & <dbl>\\\\\n",
       "\\hline\n",
       "\tAAACCCAAGAGCAGCT-1\\_1 & 25185 & 5887 & 3237 & 19 & 24864 & 5840 & Screen1\\_66guides & Lib\\_1 & 6.7 & singlet & 3 & 20 & 1 & 1 & FUBP1-1a\\textbar{}DE6-2a\\textbar{}DE8-1a\\textbar{}DE8-1b\\textbar{}DE15-2b & FUBP1-1\\textbar{}DE6-2\\textbar{}DE8-1\\textbar{}DE15-2 & 5 & 4\\\\\n",
       "\\end{tabular}\n"
      ],
      "text/markdown": [
       "\n",
       "A data.frame: 1 × 18\n",
       "\n",
       "| <!--/--> | nCount_RNA &lt;dbl&gt; | nFeature_RNA &lt;int&gt; | nCount_sgRNA &lt;dbl&gt; | nFeature_sgRNA &lt;int&gt; | nCount_SCT &lt;dbl&gt; | nFeature_SCT &lt;int&gt; | orig.ident &lt;chr&gt; | library &lt;chr&gt; | percent.mt &lt;dbl&gt; | status &lt;chr&gt; | donor &lt;chr&gt; | dCas9 &lt;dbl&gt; | SCT_snn_res.0.5 &lt;fct&gt; | seurat_clusters &lt;fct&gt; | guide_calls &lt;chr&gt; | plasmid_calls &lt;chr&gt; | n_guides &lt;dbl&gt; | n_plasmids &lt;dbl&gt; |\n",
       "|---|---|---|---|---|---|---|---|---|---|---|---|---|---|---|---|---|---|---|\n",
       "| AAACCCAAGAGCAGCT-1_1 | 25185 | 5887 | 3237 | 19 | 24864 | 5840 | Screen1_66guides | Lib_1 | 6.7 | singlet | 3 | 20 | 1 | 1 | FUBP1-1a|DE6-2a|DE8-1a|DE8-1b|DE15-2b | FUBP1-1|DE6-2|DE8-1|DE15-2 | 5 | 4 |\n",
       "\n"
      ],
      "text/plain": [
       "                     nCount_RNA nFeature_RNA nCount_sgRNA nFeature_sgRNA\n",
       "AAACCCAAGAGCAGCT-1_1 25185      5887         3237         19            \n",
       "                     nCount_SCT nFeature_SCT orig.ident       library\n",
       "AAACCCAAGAGCAGCT-1_1 24864      5840         Screen1_66guides Lib_1  \n",
       "                     percent.mt status  donor dCas9 SCT_snn_res.0.5\n",
       "AAACCCAAGAGCAGCT-1_1 6.7        singlet 3     20    1              \n",
       "                     seurat_clusters guide_calls                          \n",
       "AAACCCAAGAGCAGCT-1_1 1               FUBP1-1a|DE6-2a|DE8-1a|DE8-1b|DE15-2b\n",
       "                     plasmid_calls              n_guides n_plasmids\n",
       "AAACCCAAGAGCAGCT-1_1 FUBP1-1|DE6-2|DE8-1|DE15-2 5        4         "
      ]
     },
     "metadata": {},
     "output_type": "display_data"
    }
   ],
   "source": [
    "head(seurat_subset,1)"
   ]
  },
  {
   "attachments": {},
   "cell_type": "markdown",
   "metadata": {},
   "source": [
    "### Pick a cell with zero calls"
   ]
  },
  {
   "cell_type": "code",
   "execution_count": 21,
   "metadata": {
    "vscode": {
     "languageId": "r"
    }
   },
   "outputs": [],
   "source": [
    "zero_call_cells = rownames(seurat_subset@meta.data[(seurat_subset$n_plasmids == 0),])"
   ]
  },
  {
   "cell_type": "code",
   "execution_count": 22,
   "metadata": {
    "vscode": {
     "languageId": "r"
    }
   },
   "outputs": [
    {
     "name": "stdout",
     "output_type": "stream",
     "text": [
      "[1] 0\n"
     ]
    }
   ],
   "source": [
    "cell_no = 2\n",
    "cell_barcode = zero_call_cells[[cell_no]]\n",
    "select_called_guides = ps_counts[cell_barcode, ] >= thresholds_for_lib\n",
    "n_called_guide = sum(select_called_guides)\n",
    "print(n_called_guide)"
   ]
  },
  {
   "attachments": {},
   "cell_type": "markdown",
   "metadata": {},
   "source": [
    "### Loop over all cells, check if zero-call cells match the get_perturbed_cells() calls"
   ]
  },
  {
   "cell_type": "code",
   "execution_count": 23,
   "metadata": {
    "vscode": {
     "languageId": "r"
    }
   },
   "outputs": [
    {
     "name": "stdout",
     "output_type": "stream",
     "text": [
      "[1] 1721\n"
     ]
    }
   ],
   "source": [
    "n_zero_calls = 0\n",
    "for(cell_barcode in colnames(seurat_subset)) {\n",
    "    select_called_guides = ps_counts[cell_barcode, ] >= thresholds_for_lib\n",
    "    n_called_guides = sum(select_called_guides)\n",
    "    #cat(\".\")\n",
    "    if(n_called_guides == 0) {\n",
    "        n_zero_calls = n_zero_calls + 1\n",
    "        if(!cell_barcode %in% zero_call_cells) {            \n",
    "            print(\"Cell is not in zero-call cells!!!\")\n",
    "            print(cell_barcode)\n",
    "            select_nonzero_guides =\n",
    "                ps_counts[cell_barcode, ] > thresholds_for_lib\n",
    "            print(ps_counts[cell_barcode, select_nonzero_guides])\n",
    "        }\n",
    "    }\n",
    "    else {\n",
    "        if(cell_barcode %in% zero_call_cells) {\n",
    "            print(\"Cells has no called-guides but is IN zero-call cells!!!\")\n",
    "            print(cell_barcode)\n",
    "            #print(cell_barcode == zero_call_cells)\n",
    "            break\n",
    "        }\n",
    "    }\n",
    "}\n",
    "print(n_zero_calls)"
   ]
  },
  {
   "attachments": {},
   "cell_type": "markdown",
   "metadata": {},
   "source": [
    "Does the number match get_perturbed_cells() number? Yes"
   ]
  },
  {
   "cell_type": "code",
   "execution_count": 24,
   "metadata": {
    "vscode": {
     "languageId": "r"
    }
   },
   "outputs": [
    {
     "data": {
      "text/html": [
       "TRUE"
      ],
      "text/latex": [
       "TRUE"
      ],
      "text/markdown": [
       "TRUE"
      ],
      "text/plain": [
       "[1] TRUE"
      ]
     },
     "metadata": {},
     "output_type": "display_data"
    }
   ],
   "source": [
    "sum(seurat_subset$n_plasmids == 0) == n_zero_calls"
   ]
  },
  {
   "attachments": {},
   "cell_type": "markdown",
   "metadata": {},
   "source": [
    "### Inspect the counts for no-call cells"
   ]
  },
  {
   "cell_type": "code",
   "execution_count": 25,
   "metadata": {
    "vscode": {
     "languageId": "r"
    }
   },
   "outputs": [],
   "source": [
    "df_sums = data.frame(\n",
    "    colSums(seurat_subset[[\"sgRNA\"]]@counts[, zero_call_cells])\n",
    ")\n",
    "colnames(df_sums) = \"sgRNA_count\""
   ]
  },
  {
   "cell_type": "code",
   "execution_count": 26,
   "metadata": {
    "vscode": {
     "languageId": "r"
    }
   },
   "outputs": [
    {
     "name": "stderr",
     "output_type": "stream",
     "text": [
      "Warning message:\n",
      "\"\u001b[1m\u001b[22mRemoved 1 rows containing non-finite values (`stat_bin()`).\"\n"
     ]
    },
    {
     "name": "stderr",
     "output_type": "stream",
     "text": [
      "Warning message:\n",
      "\"\u001b[1m\u001b[22mRemoved 2 rows containing missing values (`geom_bar()`).\"\n"
     ]
    },
    {
     "data": {
      "image/png": "[encoded data removed]",
      "text/plain": [
       "plot without title"
      ]
     },
     "metadata": {
      "image/png": {
       "height": 210,
       "width": 420
      }
     },
     "output_type": "display_data"
    }
   ],
   "source": [
    "options(repr.plot.width=7, repr.plot.height=3.5)\n",
    "title = paste(\"Protospacer UMI counts in no-call cells\", my_library)\n",
    "\n",
    "ggplot(df_sums, aes(x = sgRNA_count)) +\n",
    "    geom_histogram(binwidth=1) +\n",
    "    labs(x = \"#PS UMIs\") +\n",
    "    labs(y = \"#cells\") + \n",
    "    labs(title = title) +\n",
    "    xlim(0,300)"
   ]
  },
  {
   "cell_type": "code",
   "execution_count": 27,
   "metadata": {
    "vscode": {
     "languageId": "r"
    }
   },
   "outputs": [
    {
     "data": {
      "text/html": [
       "1721"
      ],
      "text/latex": [
       "1721"
      ],
      "text/markdown": [
       "1721"
      ],
      "text/plain": [
       "[1] 1721"
      ]
     },
     "metadata": {},
     "output_type": "display_data"
    }
   ],
   "source": [
    "nrow(df_sums)"
   ]
  },
  {
   "attachments": {},
   "cell_type": "markdown",
   "metadata": {},
   "source": [
    "#### Inspect the total guide counts again"
   ]
  },
  {
   "cell_type": "code",
   "execution_count": 28,
   "metadata": {
    "vscode": {
     "languageId": "r"
    }
   },
   "outputs": [],
   "source": [
    "df_sums = data.frame(rowSums(seurat_subset[['sgRNA']]@counts))\n",
    "colnames(df_sums) = \"total_count\"\n",
    "df_sums$protospacer = rownames(df_sums)"
   ]
  },
  {
   "cell_type": "code",
   "execution_count": 29,
   "metadata": {
    "vscode": {
     "languageId": "r"
    }
   },
   "outputs": [
    {
     "data": {
      "image/png": "[encoded data removed]",
      "text/plain": [
       "plot without title"
      ]
     },
     "metadata": {
      "image/png": {
       "height": 210,
       "width": 1140
      }
     },
     "output_type": "display_data"
    }
   ],
   "source": [
    "options(repr.plot.width=19, repr.plot.height=3.5)\n",
    "df_sums = df_sums %>% arrange(total_count, desc=T)\n",
    "\n",
    "title = paste(\"Total count of each guide accross all cells\", my_library)\n",
    "\n",
    "ggplot(df_sums, aes(y = total_count, x = protospacer)) +\n",
    "    geom_bar(stat='identity') +\n",
    "    labs(x = \"Guide total\") +\n",
    "    labs(y = \"Frequency\") + \n",
    "    labs(title = title) +\n",
    "    theme(axis.text.x = element_text(angle = 90, vjust = 1, hjust=1)) "
   ]
  },
  {
   "cell_type": "code",
   "execution_count": 30,
   "metadata": {
    "vscode": {
     "languageId": "r"
    }
   },
   "outputs": [
    {
     "data": {
      "image/png": "[encoded data removed]",
      "text/plain": [
       "plot without title"
      ]
     },
     "metadata": {
      "image/png": {
       "height": 300,
       "width": 1140
      }
     },
     "output_type": "display_data"
    }
   ],
   "source": [
    "df_sums$protospacer <- factor(df_sums$protospacer, levels = df_sums$protospacer)\n",
    "\n",
    "options(repr.plot.width=19, repr.plot.height=5)\n",
    "ggplot(df_sums, aes(x=protospacer, y=total_count)) +\n",
    "    geom_bar(stat='identity') + \n",
    "    theme(axis.text.x = element_text(angle = 90, vjust = 1, hjust=1)) +\n",
    "    labs(\n",
    "        title = \"Total protospacer counts summed over all cells \" %+% \n",
    "                \"(before filtering, ordered by count)\", x = \"protospacer\"\n",
    "    ) +\n",
    "    labs(y = \"#total captured\") "
   ]
  },
  {
   "cell_type": "code",
   "execution_count": 31,
   "metadata": {
    "vscode": {
     "languageId": "r"
    }
   },
   "outputs": [
    {
     "data": {
      "text/html": [
       "<table class=\"dataframe\">\n",
       "<caption>A data.frame: 15 × 2</caption>\n",
       "<thead>\n",
       "\t<tr><th></th><th scope=col>total_count</th><th scope=col>protospacer</th></tr>\n",
       "\t<tr><th></th><th scope=col>&lt;dbl&gt;</th><th scope=col>&lt;fct&gt;</th></tr>\n",
       "</thead>\n",
       "<tbody>\n",
       "\t<tr><th scope=row>FTH1-2b</th><td>    0</td><td>FTH1-2b </td></tr>\n",
       "\t<tr><th scope=row>DE2-1a</th><td>    0</td><td>DE2-1a  </td></tr>\n",
       "\t<tr><th scope=row>DE2-1b</th><td>    0</td><td>DE2-1b  </td></tr>\n",
       "\t<tr><th scope=row>DE9-2a</th><td>    0</td><td>DE9-2a  </td></tr>\n",
       "\t<tr><th scope=row>DE9-2b</th><td>    0</td><td>DE9-2b  </td></tr>\n",
       "\t<tr><th scope=row>DE16-2a</th><td>    0</td><td>DE16-2a </td></tr>\n",
       "\t<tr><th scope=row>NTCE1-1b</th><td>    0</td><td>NTCE1-1b</td></tr>\n",
       "\t<tr><th scope=row>NTCE2-1a</th><td>    0</td><td>NTCE2-1a</td></tr>\n",
       "\t<tr><th scope=row>NTCE2-1b</th><td>    0</td><td>NTCE2-1b</td></tr>\n",
       "\t<tr><th scope=row>DE6-2b</th><td> 4068</td><td>DE6-2b  </td></tr>\n",
       "\t<tr><th scope=row>DE4-1b</th><td> 8996</td><td>DE4-1b  </td></tr>\n",
       "\t<tr><th scope=row>DE12-2a</th><td>14835</td><td>DE12-2a </td></tr>\n",
       "\t<tr><th scope=row>CCCE4-1b</th><td>15279</td><td>CCCE4-1b</td></tr>\n",
       "\t<tr><th scope=row>DE13-1b</th><td>16174</td><td>DE13-1b </td></tr>\n",
       "\t<tr><th scope=row>DE11-1b</th><td>16938</td><td>DE11-1b </td></tr>\n",
       "</tbody>\n",
       "</table>\n"
      ],
      "text/latex": [
       "A data.frame: 15 × 2\n",
       "\\begin{tabular}{r|ll}\n",
       "  & total\\_count & protospacer\\\\\n",
       "  & <dbl> & <fct>\\\\\n",
       "\\hline\n",
       "\tFTH1-2b &     0 & FTH1-2b \\\\\n",
       "\tDE2-1a &     0 & DE2-1a  \\\\\n",
       "\tDE2-1b &     0 & DE2-1b  \\\\\n",
       "\tDE9-2a &     0 & DE9-2a  \\\\\n",
       "\tDE9-2b &     0 & DE9-2b  \\\\\n",
       "\tDE16-2a &     0 & DE16-2a \\\\\n",
       "\tNTCE1-1b &     0 & NTCE1-1b\\\\\n",
       "\tNTCE2-1a &     0 & NTCE2-1a\\\\\n",
       "\tNTCE2-1b &     0 & NTCE2-1b\\\\\n",
       "\tDE6-2b &  4068 & DE6-2b  \\\\\n",
       "\tDE4-1b &  8996 & DE4-1b  \\\\\n",
       "\tDE12-2a & 14835 & DE12-2a \\\\\n",
       "\tCCCE4-1b & 15279 & CCCE4-1b\\\\\n",
       "\tDE13-1b & 16174 & DE13-1b \\\\\n",
       "\tDE11-1b & 16938 & DE11-1b \\\\\n",
       "\\end{tabular}\n"
      ],
      "text/markdown": [
       "\n",
       "A data.frame: 15 × 2\n",
       "\n",
       "| <!--/--> | total_count &lt;dbl&gt; | protospacer &lt;fct&gt; |\n",
       "|---|---|---|\n",
       "| FTH1-2b |     0 | FTH1-2b  |\n",
       "| DE2-1a |     0 | DE2-1a   |\n",
       "| DE2-1b |     0 | DE2-1b   |\n",
       "| DE9-2a |     0 | DE9-2a   |\n",
       "| DE9-2b |     0 | DE9-2b   |\n",
       "| DE16-2a |     0 | DE16-2a  |\n",
       "| NTCE1-1b |     0 | NTCE1-1b |\n",
       "| NTCE2-1a |     0 | NTCE2-1a |\n",
       "| NTCE2-1b |     0 | NTCE2-1b |\n",
       "| DE6-2b |  4068 | DE6-2b   |\n",
       "| DE4-1b |  8996 | DE4-1b   |\n",
       "| DE12-2a | 14835 | DE12-2a  |\n",
       "| CCCE4-1b | 15279 | CCCE4-1b |\n",
       "| DE13-1b | 16174 | DE13-1b  |\n",
       "| DE11-1b | 16938 | DE11-1b  |\n",
       "\n"
      ],
      "text/plain": [
       "         total_count protospacer\n",
       "FTH1-2b      0       FTH1-2b    \n",
       "DE2-1a       0       DE2-1a     \n",
       "DE2-1b       0       DE2-1b     \n",
       "DE9-2a       0       DE9-2a     \n",
       "DE9-2b       0       DE9-2b     \n",
       "DE16-2a      0       DE16-2a    \n",
       "NTCE1-1b     0       NTCE1-1b   \n",
       "NTCE2-1a     0       NTCE2-1a   \n",
       "NTCE2-1b     0       NTCE2-1b   \n",
       "DE6-2b    4068       DE6-2b     \n",
       "DE4-1b    8996       DE4-1b     \n",
       "DE12-2a  14835       DE12-2a    \n",
       "CCCE4-1b 15279       CCCE4-1b   \n",
       "DE13-1b  16174       DE13-1b    \n",
       "DE11-1b  16938       DE11-1b    "
      ]
     },
     "metadata": {},
     "output_type": "display_data"
    }
   ],
   "source": [
    "head(df_sums %>% arrange(total_count), 15)"
   ]
  },
  {
   "cell_type": "code",
   "execution_count": null,
   "metadata": {
    "vscode": {
     "languageId": "r"
    }
   },
   "outputs": [],
   "source": []
  }
 ],
 "metadata": {
  "kernelspec": {
   "display_name": "R42",
   "language": "R",
   "name": "r42"
  },
  "language_info": {
   "codemirror_mode": "r",
   "file_extension": ".r",
   "mimetype": "text/x-r-source",
   "name": "R",
   "pygments_lexer": "r",
   "version": "4.2.2"
  },
  "orig_nbformat": 4
 },
 "nbformat": 4,
 "nbformat_minor": 2
}
