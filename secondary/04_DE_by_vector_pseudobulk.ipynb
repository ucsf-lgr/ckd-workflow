{
 "cells": [
  {
   "cell_type": "code",
   "execution_count": null,
   "metadata": {
    "tags": [],
    "vscode": {
     "languageId": "r"
    }
   },
   "outputs": [],
   "source": [
    "suppressWarnings(suppressPackageStartupMessages({\n",
    "    library(Seurat)\n",
    "    library(EnsDb.Hsapiens.v86)\n",
    "    library(dplyr)\n",
    "    library(ggplot2)\n",
    "    library(bedr)\n",
    "    library(SeuratDisk)\n",
    "    library(scales)\n",
    "    library(reshape2)\n",
    "    library(Hmisc)\n",
    "    library(tidyr)\n",
    "    library(tidyverse)\n",
    "    library(crayon)\n",
    "    library(readr)\n",
    "    library(future)\n",
    "    library(\"TxDb.Hsapiens.UCSC.hg38.knownGene\")\n",
    "    library(GenomicRanges)\n",
    "    library(GenomicFeatures)\n",
    "    library(rsnps)\n",
    "    library(biomaRt)\n",
    "    library(ggpubr)\n",
    "    library(gridExtra)\n",
    "    library(patchwork)\n",
    "    library(EnhancedVolcano)\n",
    "    library(rlist)\n",
    "    library(purrr)\n",
    "    library(edgeR)\n",
    "}))\n",
    "options(timeout = 100000)\n",
    "source(\"helper_functions_for_diffex.r\")\n"
   ]
  },
  {
   "attachments": {},
   "cell_type": "markdown",
   "metadata": {
    "tags": []
   },
   "source": [
    "# Definitions etc"
   ]
  },
  {
   "cell_type": "code",
   "execution_count": null,
   "metadata": {
    "tags": [],
    "vscode": {
     "languageId": "r"
    }
   },
   "outputs": [],
   "source": [
    "set.seed(123456)\n",
    "options(digits = 2)\n",
    "stats <- c()\n"
   ]
  },
  {
   "cell_type": "code",
   "execution_count": null,
   "metadata": {
    "tags": [],
    "vscode": {
     "languageId": "r"
    }
   },
   "outputs": [],
   "source": [
    "options(future.globals.maxSize = 250 * 1024^3) # 650Gb\n",
    "# plan()\n",
    "\n",
    "# Enable parallelization\n",
    "plan(sequential)\n",
    "plan(\"multicore\", workers = 64)\n"
   ]
  },
  {
   "cell_type": "code",
   "execution_count": null,
   "metadata": {
    "tags": [],
    "vscode": {
     "languageId": "r"
    }
   },
   "outputs": [],
   "source": [
    "if (!exists(\"papermill_run\")) {\n",
    "    prj_name <- \"Screen1\"\n",
    "    secondary_a_path <- \"S1/analysis/secondary/\"\n",
    "    save_seurat_h5 <- \"YES\"\n",
    "    de_testing <- \"NEIGHBORHOOD\"\n",
    "}\n"
   ]
  },
  {
   "cell_type": "code",
   "execution_count": null,
   "metadata": {
    "tags": [],
    "vscode": {
     "languageId": "r"
    }
   },
   "outputs": [],
   "source": [
    "custom_theme <- theme(\n",
    "  plot.title = element_text(size = 16, hjust = 0.5),\n",
    "  legend.key.size = unit(0.7, \"cm\"),\n",
    "  legend.text = element_text(size = 14)\n",
    ")\n"
   ]
  },
  {
   "attachments": {},
   "cell_type": "markdown",
   "metadata": {},
   "source": [
    "### Load guide df"
   ]
  },
  {
   "cell_type": "code",
   "execution_count": null,
   "metadata": {
    "vscode": {
     "languageId": "r"
    }
   },
   "outputs": [],
   "source": [
    "df_guide <- read.table(\n",
    "    \"primary/S1_resources/66CRISPRi_ref_for_diffex.txt\",\n",
    "    sep = \"\\t\", header = T, strip.white = T\n",
    ")\n",
    "integrated_h5_path <-\n",
    "    \"S1/analysis/secondary/integrated/seurat_objects/integrated.h5seurat\"\n",
    "neighbors_list <- list.load(\n",
    "    \"primary/S1_resources/neighbors_list.rds\"\n",
    ")\n",
    "\n",
    "sample_n(df_guide, 6)"
   ]
  },
  {
   "attachments": {},
   "cell_type": "markdown",
   "metadata": {},
   "source": [
    "### Load Seurat file"
   ]
  },
  {
   "cell_type": "code",
   "execution_count": null,
   "metadata": {
    "tags": [],
    "vscode": {
     "languageId": "r"
    }
   },
   "outputs": [],
   "source": [
    "seurat_combined <- LoadH5Seurat(integrated_h5_path, verbose = F)\n",
    "# seurat_combined    <- subset(seurat_combined, subset=status=='singlet')\n"
   ]
  },
  {
   "cell_type": "code",
   "execution_count": null,
   "metadata": {
    "vscode": {
     "languageId": "r"
    }
   },
   "outputs": [],
   "source": [
    "table(seurat_combined@meta.data$n_guides)"
   ]
  },
  {
   "attachments": {},
   "cell_type": "markdown",
   "metadata": {},
   "source": [
    "Normalize RNA counts by <font color='red'>NormalizeData</font>  before running FindMarkers"
   ]
  },
  {
   "cell_type": "code",
   "execution_count": null,
   "metadata": {
    "vscode": {
     "languageId": "r"
    }
   },
   "outputs": [],
   "source": [
    "seurat_rna <- CreateSeuratObject(seurat_combined[[\"RNA\"]])\n",
    "seurat_rna <- NormalizeData(seurat_rna)\n",
    "seurat_rna@meta.data <- seurat_combined@meta.data\n"
   ]
  },
  {
   "attachments": {},
   "cell_type": "markdown",
   "metadata": {},
   "source": [
    "### Load THRESHOLDS.tsv"
   ]
  },
  {
   "cell_type": "code",
   "execution_count": null,
   "metadata": {
    "tags": [],
    "vscode": {
     "languageId": "r"
    }
   },
   "outputs": [],
   "source": [
    "thr_f_name <- paste0(secondary_a_path, \"/integrated/THRESHOLDS.tsv\")\n",
    "df_thresholds <- read.table(thr_f_name, header = T, strip.white = T)\n",
    "df_thresholds <- df_thresholds %>%\n",
    "    pivot_wider(names_from = batch, values_from = threshold)\n",
    "df_thresholds <- as.data.frame(df_thresholds)\n"
   ]
  },
  {
   "attachments": {},
   "cell_type": "markdown",
   "metadata": {},
   "source": [
    "## Select perturbed/control cells\n",
    "Find guide+ (perturbed) and guide- (unperturbed) cells for each guide"
   ]
  },
  {
   "cell_type": "code",
   "execution_count": null,
   "metadata": {
    "vscode": {
     "languageId": "r"
    }
   },
   "outputs": [],
   "source": [
    "libraries <- unique(seurat_combined$library)\n",
    "seurat_libs <- list()\n",
    "for (i in seq_along(libraries)) {\n",
    "    lib <- libraries[i]\n",
    "    seurat_libs[[i]] <- subset(seurat_combined, subset = library == lib)\n",
    "}\n",
    "names(seurat_libs) <- libraries\n"
   ]
  },
  {
   "cell_type": "code",
   "execution_count": null,
   "metadata": {
    "vscode": {
     "languageId": "r"
    }
   },
   "outputs": [],
   "source": [
    "THRESHOLD_MULTIPLIER <- 1\n",
    "cat(red(\"Using \", THRESHOLD_MULTIPLIER, \"x threshold\"))\n",
    "\n",
    "perturbed_cells_by_guide <- list()\n",
    "\n",
    "for (i in 1:nrow(df_thresholds)) {\n",
    "    perturbed_cells_in_all_libs <- list()\n",
    "    guide <- df_thresholds$guide[i]\n",
    "    # Loop over libraries\n",
    "    for (lib in libraries) {\n",
    "        seurat_lib <- seurat_libs[[lib]]\n",
    "        threshold <- THRESHOLD_MULTIPLIER * df_thresholds[i, lib]\n",
    "        cells_in_lib <- Cells(seurat_lib)\n",
    "        sgrna_counts <- seurat_lib[[\"sgRNA\"]]@counts\n",
    "        select_perturbed <- sgrna_counts[guide, cells_in_lib] >= threshold\n",
    "        perturbed_cells_in_library <- cells_in_lib[select_perturbed]\n",
    "        if (!is.na(threshold)) {\n",
    "            perturbed_cells_in_all_libs <-\n",
    "                append(perturbed_cells_in_all_libs, perturbed_cells_in_library)\n",
    "        }\n",
    "    }\n",
    "    perturbed_cells_by_guide[[i]] <- perturbed_cells_in_all_libs\n",
    "}\n",
    "names(perturbed_cells_by_guide) <- df_thresholds$guide\n"
   ]
  },
  {
   "attachments": {},
   "cell_type": "markdown",
   "metadata": {},
   "source": [
    "# Check DE for genes near SNPs"
   ]
  },
  {
   "cell_type": "code",
   "execution_count": null,
   "metadata": {
    "vscode": {
     "languageId": "r"
    }
   },
   "outputs": [],
   "source": [
    "select_distal <- df_guide$subclass == \"ckd_de\"\n",
    "df_snps <- unique(df_guide[select_distal, c(\"gene\", \"alias\")])\n"
   ]
  },
  {
   "attachments": {},
   "cell_type": "markdown",
   "metadata": {},
   "source": [
    "# Run diffex on pseudobulked samples using EdgeR"
   ]
  },
  {
   "cell_type": "markdown",
   "metadata": {},
   "source": [
    "### Helper functions"
   ]
  },
  {
   "cell_type": "code",
   "execution_count": null,
   "metadata": {
    "vscode": {
     "languageId": "r"
    }
   },
   "outputs": [],
   "source": [
    "# Helper function to prepare design matrix and contrast matrix\n",
    "prepare_design_and_contrast <- function(y) {\n",
    "    library <- factor(y$samples$sample)\n",
    "    cluster <- as.factor(y$samples$cluster) \n",
    "\n",
    "    design <- model.matrix(~ cluster + library)\n",
    "    colnames(design) <- gsub(\"library\", \"\", colnames(design))\n",
    "    colnames(design)[1] <- \"Int\"\n",
    "\n",
    "    ncls <- nlevels(cluster)\n",
    "    contr <- rbind(matrix(1 / (1 - ncls), ncls, ncls), matrix(0, ncol(design) - ncls, ncls))\n",
    "    diag(contr) <- 1\n",
    "    contr[1, ] <- 0\n",
    "    rownames(contr) <- colnames(design)\n",
    "    colnames(contr) <- paste0(\"cluster\", levels(cluster))\n",
    "\n",
    "    return(list(design = design, contrast = contr))\n",
    "}\n",
    "\n",
    "# Helper function to perform differential expression analysis\n",
    "perform_de_analysis <- function(\n",
    "    y, design, contrast, neighbors, target, de_testing) {\n",
    "    y <- estimateDisp(y, design, robust = TRUE)\n",
    "    print(y$common.dispersion)\n",
    "\n",
    "    fit <- glmQLFit(y, design, robust = TRUE)\n",
    "    qlf <- glmQLFTest(fit, contrast = contrast[, 1])\n",
    "    plotQLDisp(fit)\n",
    "\n",
    "    if (de_testing == \"NEIGHBORHOOD\") {\n",
    "        markers <- qlf$table[neighbors, ] %>% arrange(PValue)\n",
    "    } else {\n",
    "        # Test all genes\n",
    "        markers <- qlf$table %>% arrange(PValue)\n",
    "    }\n",
    "\n",
    "    return(markers)\n",
    "}\n",
    "\n",
    "# Helper function to process cells with the given target and perturbation status\n",
    "process_target_cells <- function(\n",
    "    seurat_dummy, target, vector_id, is_de, neighbors, diffex_gene,\n",
    "    perturbed_cells_by_guide, guides_on_plasmid, guides_4_target,\n",
    "    df_cell_counts, df_neighbor_de, pos_label, neg_label, target_subclass) {\n",
    "    # Save the current random seed\n",
    "    if (exists(\".Random.seed\", .GlobalEnv)) {\n",
    "        oldseed <- .GlobalEnv$.Random.seed\n",
    "    } else {\n",
    "        oldseed <- NULL\n",
    "    }\n",
    "\n",
    "    # Filter out the vector_neg_target_pos cells, bc they mess up the design matrix\n",
    "    seurat_dummy <- subset(seurat_dummy, ident = c(pos_label, neg_label))\n",
    "    seurat_dummy$perturbation_status <- Idents(seurat_dummy)\n",
    "    print(\n",
    "        table(\n",
    "            filter(\n",
    "                seurat_dummy@meta.data, \n",
    "                perturbation_status == \"vector_positive\"\n",
    "            )$library\n",
    "        )\n",
    "    )\n",
    "\n",
    "    cluster_list <- as.character(seurat_dummy$perturbation_status)\n",
    "    cluster_list[cluster_list == neg_label] <- 1\n",
    "    cluster_list[cluster_list == pos_label] <- 0\n",
    "    seurat_dummy$cluster <- as.factor(cluster_list)\n",
    "    y <- Seurat2PB(seurat_dummy, sample = \"library\", cluster = \"cluster\")\n",
    "\n",
    "    # Add target+/- counts to df_cell_counts\n",
    "    # if (!is_de | diffex_gene != \"\") {\n",
    "    if (diffex_gene != \"\") {\n",
    "        df_dummy <- as.data.frame(cpm(y)[diffex_gene, ])\n",
    "        colnames(df_dummy) <- \"cpm\"\n",
    "        df_dummy$target <- diffex_gene\n",
    "        df_dummy$vector <- vector_id\n",
    "        df_dummy$label <- rownames(df_dummy)\n",
    "        df_dummy$subclass <- target_subclass\n",
    "        df_samples <- y$samples\n",
    "        df_dummy <- merge(df_dummy, df_samples, by = 0)\n",
    "        df_cell_counts <- rbind(df_cell_counts, df_dummy)\n",
    "    }\n",
    "\n",
    "    # Filter out small samples, lowly expressed genes.\n",
    "    keep.samples <- y$samples$lib.size > 5e4\n",
    "    y <- y[, keep.samples]\n",
    "    keep.genes <- filterByExpr(y,\n",
    "        group = y$samples$cluster, \n",
    "        min.count = 3,\n",
    "        min.total.count = 3\n",
    "    )\n",
    "    y <- y[keep.genes, ,keep = FALSE]\n",
    "    y <- normLibSizes(y)\n",
    "\n",
    "    design_and_contrast <- prepare_design_and_contrast(y)\n",
    "    markers <- perform_de_analysis(\n",
    "        y,\n",
    "        design_and_contrast$design,\n",
    "        design_and_contrast$contrast,\n",
    "        neighbors,\n",
    "        target,\n",
    "        de_testing\n",
    "    )\n",
    "\n",
    "    if (nrow(markers) == 0) {\n",
    "        cat(red(\"No DE genes\", target, \"\\n\"))\n",
    "    } else {\n",
    "        markers$de_gene <- rownames(markers)\n",
    "        markers$target <- target\n",
    "        markers$subclass <- target_subclass\n",
    "        markers$label <- label\n",
    "        markers$plasmid <- vector_id\n",
    "        rownames(markers) <- NULL\n",
    "        df_neighbor_de <- rbind(df_neighbor_de, markers)\n",
    "        print(head(markers))\n",
    "        cat(\"-------------------------------------------------------\\n\\n\")\n",
    "    }\n",
    "\n",
    "    if (de_testing == \"NEIGHBORHOOD\") {\n",
    "        n_tests_performed <- length(neighbors)\n",
    "    } else {\n",
    "        n_tests_performed <- nrow(y)\n",
    "    }\n",
    "\n",
    "    # Restore the random seed\n",
    "    if (!is.null(oldseed)) {\n",
    "        .GlobalEnv$.Random.seed <- oldseed\n",
    "    } else {\n",
    "        rm(\".Random.seed\", envir = .GlobalEnv)\n",
    "    }\n",
    "\n",
    "    return(\n",
    "        list(\n",
    "            df_cell_counts = df_cell_counts, \n",
    "            df_neighbor_de = df_neighbor_de, \n",
    "            n_tests_performed = n_tests_performed\n",
    "        )\n",
    "    )\n",
    "}\n"
   ]
  },
  {
   "cell_type": "code",
   "execution_count": null,
   "metadata": {
    "scrolled": true,
    "vscode": {
     "languageId": "r"
    }
   },
   "outputs": [],
   "source": [
    "set.seed(1234567)\n",
    "source(\"helper_functions_for_diffex.r\")\n",
    "df_targets <- read.table(\n",
    "    \"primary/S1_resources/66CRISPRi_TARGETS.txt\",\n",
    "    sep = \"\\t\", header = T, strip.white = T\n",
    ")\n",
    "\n",
    "pos_label <- \"vector_positive\"\n",
    "neg_label <- \"target_negative\"\n",
    "\n",
    "df_neighbor_de <- NULL\n",
    "df_random_de <- NULL\n",
    "df_cell_counts <- NULL\n",
    "p_val_cutoff_estimates <- c()\n",
    "test_use <- \"LR\" # \"MAST\"  #\"wilcox\" \"LR\"\n",
    "guides_to_skip <- c() # c(\"DE6\", \"DE15\")\n",
    "logfc_threshold <- 0.01\n",
    "n_tests <- 0\n",
    "n_random_tests <- 0\n",
    "\n",
    "neighbor_genes <- unique(flatten(neighbors_list))\n",
    "all_gene_names <- as.vector(rownames(seurat_rna[[\"RNA\"]]@counts))\n",
    "non_neighbor_genes <- all_gene_names[!(all_gene_names %in% neighbor_genes)]\n",
    "\n",
    "# Main loop\n",
    "for (i in 1:nrow(df_targets)) {\n",
    "    is_de <- FALSE\n",
    "    target <- df_targets[i, \"alias\"]\n",
    "    target_subclass <- df_targets[i, \"subclass\"]\n",
    "    label <- df_targets[i, \"label\"]\n",
    "    vector_id <- gsub(\"a\", \"\", df_targets[i, \"guide1\"])\n",
    "    diffexed_gene <- df_targets[i, \"diffexed_gene\"]\n",
    "    snp_id_or_gene_name <- df_targets[i, \"gene\"]\n",
    "\n",
    "    # Check if \"target\" is not a DE gene\n",
    "    if (!str_detect(target, regex(\"^DE\\\\d+$\"))) {\n",
    "        is_de <- FALSE\n",
    "        neighbors <- neighbors_list[[target]]\n",
    "    } else {\n",
    "        is_de <- TRUE\n",
    "        neighbors <- neighbors_list[[snp_id_or_gene_name]]\n",
    "    }\n",
    "\n",
    "    if ((target %in% guides_to_skip) | length(neighbors) == 0) {\n",
    "        cat(\n",
    "            red(\n",
    "                \"Skipping\", \n",
    "                target, \n",
    "                snp_id_or_gene_name, \n",
    "                length(neighbors), \n",
    "                \"\\n\"\n",
    "            )\n",
    "        )\n",
    "        next\n",
    "    }\n",
    "\n",
    "    cat(green(\"Diffexed gene\", \"'\", diffexed_gene, \"'\\n\"))\n",
    "    if (diffexed_gene != \"\") {\n",
    "        guides_4_target <-\n",
    "            get_guides_by_subclass(df_targets, \"diffexed_gene\", diffexed_gene)\n",
    "    } else {\n",
    "        guides_4_target <-\n",
    "            get_guides_by_subclass(df_targets, \"alias\", target)\n",
    "    }\n",
    "\n",
    "    guides_on_plasmid <- unlist(\n",
    "        as.list(t(df_targets[i, c(\"guide1\", \"guide2\")]))\n",
    "    )\n",
    "    cat(blue(target, \":\"), paste(guides_on_plasmid, collapse = \",\"), \"\\n\")\n",
    "    cat(blue(\"Guides4target:\"), paste(guides_4_target, collapse = \",\"), \"\\n\")\n",
    "\n",
    "    seurat_dummy <- mark_vector_pos_target_neg(\n",
    "        seurat_rna,\n",
    "        perturbed_cells_by_guide,\n",
    "        df_targets,\n",
    "        guides_on_plasmid,\n",
    "        guides_4_target,\n",
    "        print_counts = T,\n",
    "        pos_label = pos_label,\n",
    "        neg_label = neg_label\n",
    "    )\n",
    "\n",
    "    # Process cells with the given target and perturbation status\n",
    "    if (\"vector_positive\" %in% levels((Idents(seurat_dummy)))) {\n",
    "        dummy <- process_target_cells(\n",
    "            seurat_dummy, target, vector_id, is_de, neighbors, diffexed_gene,\n",
    "            perturbed_cells_by_guide, guides_on_plasmid, guides_4_target,\n",
    "            df_cell_counts, df_neighbor_de, pos_label, neg_label, \n",
    "            target_subclass\n",
    "        )\n",
    "        df_cell_counts <- dummy$df_cell_counts\n",
    "        df_neighbor_de <- dummy$df_neighbor_de\n",
    "        n_tests <- n_tests + dummy$n_tests_performed\n",
    "\n",
    "        # -- Now test random genes to estimate a cutoff for the p-value --\n",
    "        # -- Run this test only for DE genes ---\n",
    "        if (is_de) {\n",
    "            n_neighbors <- length(neighbors)\n",
    "            random_non_neighbors <- sample(\n",
    "                non_neighbor_genes, \n",
    "                n_neighbors,\n",
    "                replace = F\n",
    "            )\n",
    "\n",
    "            df_dummy_cell_counts <- NULL\n",
    "            df_dummy_neighbor_de <- NULL\n",
    "            dummy2 <- process_target_cells(\n",
    "                seurat_dummy, target, vector_id, is_de, random_non_neighbors, \n",
    "                diffexed_gene, perturbed_cells_by_guide, guides_on_plasmid, \n",
    "                guides_4_target, df_dummy_cell_counts, df_random_de, pos_label, \n",
    "                neg_label, target_subclass\n",
    "            )\n",
    "            df_dummy_cell_counts <- dummy2$df_cell_counts\n",
    "            df_random_de <- dummy2$df_neighbor_de\n",
    "            n_random_tests <- n_random_tests + dummy2$n_tests_performed\n",
    "        }\n",
    "        # -- end --\n",
    "    } else {\n",
    "        cat(\n",
    "            red(\"No cells found:\"), \n",
    "            paste(guides_on_plasmid, collapse = \",\"), \n",
    "            \"\\n\"\n",
    "        )\n",
    "    }\n",
    "}\n"
   ]
  },
  {
   "cell_type": "code",
   "execution_count": null,
   "metadata": {
    "vscode": {
     "languageId": "r"
    }
   },
   "outputs": [],
   "source": [
    "n_tests\n",
    "n_random_tests\n"
   ]
  },
  {
   "cell_type": "markdown",
   "metadata": {},
   "source": [
    "### P-value correction"
   ]
  },
  {
   "cell_type": "code",
   "execution_count": null,
   "metadata": {
    "vscode": {
     "languageId": "r"
    }
   },
   "outputs": [],
   "source": [
    "# n_tests = length(flatten(neighbors_list)) * length(df_targets)\n",
    "print(n_tests)\n",
    "df_neighbor_de$adjusted_p_val <- p.adjust(\n",
    "    p = df_neighbor_de$PValue,\n",
    "    method = \"bonferroni\",\n",
    "    n = n_tests\n",
    ")\n",
    "\n",
    "# Select only negative logFCs from random gene tests\n",
    "cat(\n",
    "    red(\n",
    "        \"Selecting only negative logFCs,\" %+%\n",
    "        \"assuming this is a CRISPRi dataset!!!!!\\n\"\n",
    "    )\n",
    ")\n",
    "df_random_de$adjusted_p_val <- p.adjust(\n",
    "    p = df_random_de$PValue,\n",
    "    method = \"bonferroni\",\n",
    "    n = n_tests\n",
    ")\n",
    "\n",
    "df_dummy <- df_random_de %>% filter(logFC < 0)\n",
    "p_val_cutoff <- min(df_dummy$adjusted_p_val)\n",
    "\n",
    "cat(green(\"Corrected p-value cutoff:\", p_val_cutoff))\n"
   ]
  },
  {
   "cell_type": "code",
   "execution_count": null,
   "metadata": {
    "vscode": {
     "languageId": "r"
    }
   },
   "outputs": [],
   "source": [
    "head(df_neighbor_de)\n",
    "df_random_de %>%\n",
    "    arrange(PValue) %>%\n",
    "    head(25)\n"
   ]
  },
  {
   "cell_type": "code",
   "execution_count": null,
   "metadata": {
    "vscode": {
     "languageId": "r"
    }
   },
   "outputs": [],
   "source": [
    "df_cell_counts_backup <- df_cell_counts\n"
   ]
  },
  {
   "cell_type": "code",
   "execution_count": null,
   "metadata": {
    "vscode": {
     "languageId": "r"
    }
   },
   "outputs": [],
   "source": [
    "head(df_cell_counts_backup)\n",
    "head(df_cell_counts)"
   ]
  },
  {
   "cell_type": "markdown",
   "metadata": {},
   "source": [
    "# Visualize"
   ]
  },
  {
   "cell_type": "markdown",
   "metadata": {},
   "source": [
    "### Plot each vector separately"
   ]
  },
  {
   "cell_type": "code",
   "execution_count": null,
   "metadata": {
    "vscode": {
     "languageId": "r"
    }
   },
   "outputs": [],
   "source": [
    "df_cell_counts <- df_cell_counts_backup\n",
    "df_cell_counts$label <- str_replace(df_cell_counts$label, \"Lib_._\", \"\")\n",
    "df_cell_counts$label <-\n",
    "    str_replace(df_cell_counts$label, \"cluster0\", \"vector(+)\")\n",
    "df_cell_counts$label <-\n",
    "    str_replace(df_cell_counts$label, \"cluster1\", \" control\")\n",
    "df_cell_counts$label <-\n",
    "    str_replace(df_cell_counts$label, \"clustervector_B\", \"(O)\")\n",
    "df_cell_counts$t_and_v <-\n",
    "    paste0(df_cell_counts$target, \":\", df_cell_counts$vector)\n",
    "\n",
    "df_cell_counts_tss <- df_cell_counts %>% filter(subclass == \"tss\")\n",
    "df_cell_counts_de <- df_cell_counts %>% filter(subclass == \"de_control\")\n",
    "df_cell_counts_ckd_de <- df_cell_counts %>% filter(subclass == \"ckd_de\")\n",
    "\n",
    "options(repr.plot.width = 8, repr.plot.height = 3)\n",
    "ggplot(df_cell_counts_tss, aes(x = factor(label), y = cpm)) +\n",
    "    geom_jitter(aes(color = sample), width = 0.2) +\n",
    "    facet_wrap(~vector, scales = \"free\", ncol = 6) +\n",
    "    scale_y_continuous(expand = expansion(mult = c(0, .1)), limits = c(0, NA)) +\n",
    "    theme_bw() +\n",
    "    theme(\n",
    "        axis.text.x = element_text(angle = 90, vjust = 0.5, hjust = 1, size = 12),\n",
    "        strip.text = element_text(size = 10)\n",
    "    )\n",
    "\n",
    "options(repr.plot.width = 10, repr.plot.height = 6)\n",
    "ggplot(df_cell_counts_de, aes(x = factor(label), y = cpm)) +\n",
    "    geom_jitter(aes(color = sample), width = 0.2) +\n",
    "    facet_wrap(~vector, scales = \"free\", ncol = 7) +\n",
    "    scale_y_continuous(expand = expansion(mult = c(0, .1)), limits = c(0, NA)) +\n",
    "    theme_bw() +\n",
    "    theme(\n",
    "        axis.text.x = element_text(angle = 90, vjust = 0.5, hjust = 1, size = 12),\n",
    "        strip.text = element_text(size = 10)\n",
    "    )\n",
    "options(repr.plot.width = 12, repr.plot.height = 16)\n",
    "ggplot(df_cell_counts_ckd_de, aes(x = factor(label), y = cpm)) +\n",
    "    geom_jitter(aes(color = sample), width = 0.2) +\n",
    "    facet_wrap(~t_and_v, scales = \"free\", ncol = 7) +\n",
    "    scale_y_continuous(expand = expansion(mult = c(0, .1)), limits = c(0, NA)) +\n",
    "    theme_bw() +\n",
    "    theme(\n",
    "        axis.text.x = element_text(angle = 90, vjust = 0.5, hjust = 1, size = 12),\n",
    "        strip.text = element_text(size = 10)\n",
    "    )\n",
    "\n"
   ]
  },
  {
   "cell_type": "markdown",
   "metadata": {},
   "source": [
    "### Plot vectors side-by-side"
   ]
  },
  {
   "cell_type": "code",
   "execution_count": null,
   "metadata": {
    "vscode": {
     "languageId": "r"
    }
   },
   "outputs": [],
   "source": [
    "df_cell_counts <- df_cell_counts_backup\n",
    "df_cell_counts$label <-\n",
    "    str_replace(df_cell_counts$label, \"Lib_._\", \"\")\n",
    "df_cell_counts$label <-\n",
    "    str_replace(df_cell_counts$label, \"cluster0\", \"vector(+)\")\n",
    "df_cell_counts$label <-\n",
    "    str_replace(df_cell_counts$label, \"cluster1\", \" control\")\n",
    "df_cell_counts$label <-\n",
    "    str_replace(df_cell_counts$label, \"clustervector_B\", \"(O)\")\n",
    "df_cell_counts$t_and_v <-\n",
    "    paste0(df_cell_counts$target, \":\", df_cell_counts$vector)\n",
    "\n",
    "# **** Remark this part out to plot one vector for each plot\n",
    "# ** Also change 'factor(new_label)' to 'factor(label)'\n",
    "# ** and facet_wrap(~ vector)  to ~target or ~t_and_v (for ckd_de)\n",
    "# ** in ggplot calls\n",
    "\n",
    "select_vecpos <- df_cell_counts$label == \"vector(+)\"\n",
    "select_tarneg <- df_cell_counts$label == \" control\"\n",
    "\n",
    "df_cell_counts$new_label <- df_cell_counts$label\n",
    "df_cell_counts[select_vecpos, \"new_label\"] <- paste0(df_cell_counts[select_vecpos, \"vector\"], \"(+)\")\n",
    "# **** End\n",
    "\n",
    "df_cell_counts_tss <- df_cell_counts %>% filter(subclass == \"tss\")\n",
    "df_cell_counts_de <- df_cell_counts %>% filter(subclass == \"de_control\")\n",
    "df_cell_counts_ckd_de <- df_cell_counts %>% filter(subclass == \"ckd_de\")\n",
    "\n",
    "options(repr.plot.width = 8, repr.plot.height = 3)\n",
    "ggplot(df_cell_counts_tss, aes(x = factor(new_label), y = cpm)) +\n",
    "    geom_jitter(aes(color = sample), width = 0.2) +\n",
    "    facet_wrap(~vector, scales = \"free\", ncol = 6) +\n",
    "    scale_y_continuous(expand = expansion(mult = c(0, .1)), limits = c(0, NA)) +\n",
    "    theme_bw() +\n",
    "    theme(\n",
    "        axis.text.x = element_text(angle = 90, vjust = 0.5, hjust = 1, size = 12),\n",
    "        strip.text = element_text(size = 10)\n",
    "    )\n",
    "\n",
    "options(repr.plot.width = 10, repr.plot.height = 3)\n",
    "ggplot(df_cell_counts_de, aes(x = factor(new_label), y = cpm)) +\n",
    "    geom_jitter(aes(color = sample), width = 0.2) +\n",
    "    facet_wrap(~target, scales = \"free\", ncol = 7) +\n",
    "    scale_y_continuous(expand = expansion(mult = c(0, .1)), limits = c(0, NA)) +\n",
    "    theme_bw() +\n",
    "    theme(\n",
    "        axis.text.x = element_text(angle = 90, vjust = 0.5, hjust = 1, size = 12),\n",
    "        strip.text = element_text(size = 10)\n",
    "    )\n",
    "\n",
    "options(repr.plot.width = 10, repr.plot.height = 9)\n",
    "ggplot(df_cell_counts_ckd_de, aes(x = factor(new_label), y = cpm)) +\n",
    "    geom_jitter(aes(color = sample), width = 0.2) +\n",
    "    facet_wrap(~target, scales = \"free\", ncol = 7) +\n",
    "    scale_y_continuous(expand = expansion(mult = c(0, .1)), limits = c(0, NA)) +\n",
    "    theme_bw() +\n",
    "    theme(\n",
    "        axis.text.x = element_text(angle = 90, vjust = 0.5, hjust = 1, size = 12),\n",
    "        strip.text = element_text(size = 10)\n",
    "    )\n"
   ]
  },
  {
   "attachments": {},
   "cell_type": "markdown",
   "metadata": {},
   "source": [
    "## Inpect DE results"
   ]
  },
  {
   "attachments": {},
   "cell_type": "markdown",
   "metadata": {},
   "source": [
    "Print top high-confidence hits"
   ]
  },
  {
   "cell_type": "code",
   "execution_count": null,
   "metadata": {
    "vscode": {
     "languageId": "r"
    }
   },
   "outputs": [],
   "source": [
    "df_neighbor_de %>%\n",
    "    filter(logFC < 0) %>%\n",
    "    arrange(PValue) %>%\n",
    "    head(25)\n"
   ]
  },
  {
   "attachments": {},
   "cell_type": "markdown",
   "metadata": {},
   "source": [
    "## Volcano Plot"
   ]
  },
  {
   "cell_type": "code",
   "execution_count": null,
   "metadata": {
    "vscode": {
     "languageId": "r"
    }
   },
   "outputs": [],
   "source": [
    "colors <- ifelse(\n",
    "    df_neighbor_de$subclass == \"tss\", \"black\",\n",
    "    ifelse(df_neighbor_de$subclass == \"de_control\", \"gray\", \"green\")\n",
    ")\n",
    "names(colors) <- df_neighbor_de$label\n"
   ]
  },
  {
   "cell_type": "code",
   "execution_count": null,
   "metadata": {
    "vscode": {
     "languageId": "r"
    }
   },
   "outputs": [],
   "source": [
    "options(repr.plot.width = 10, repr.plot.height = 12)\n",
    "EnhancedVolcano(df_neighbor_de,\n",
    "    lab = df_neighbor_de$de_gene,\n",
    "    x = \"logFC\",\n",
    "    y = \"adjusted_p_val\",\n",
    "    title = paste(prj_name, \"hits by vector\"),\n",
    "    subtitle = \"Pseudobulk, EdgeR\",\n",
    "    colCustom = colors,\n",
    "    drawConnectors = TRUE,\n",
    "    arrowheads = FALSE,\n",
    "    pCutoff = 10e-04,\n",
    "    FCcutoff = logfc_threshold,\n",
    "    pointSize = 5.0,\n",
    "    labSize = 4.0\n",
    ") +\n",
    "    xlim(-2, 2) +\n",
    "    xlab(expression(paste(\"Average \", Log[2], \" Fold Change\"))) +\n",
    "    ylab(expression(paste(\"\\u2013\", Log[10], \" \", italic(p))))\n"
   ]
  },
  {
   "cell_type": "markdown",
   "metadata": {},
   "source": [
    "### Plot just the control TSS"
   ]
  },
  {
   "cell_type": "code",
   "execution_count": null,
   "metadata": {
    "vscode": {
     "languageId": "r"
    }
   },
   "outputs": [],
   "source": [
    "de_filter <- (df_neighbor_de$subclass == \"tss\") &\n",
    "    (df_neighbor_de$target == df_neighbor_de$de_gene)\n",
    "df_neighbor_de_subset <- df_neighbor_de[de_filter, ]\n",
    "\n",
    "options(repr.plot.width = 20, repr.plot.height = 12)\n",
    "p1 <- EnhancedVolcano(df_neighbor_de_subset,\n",
    "    lab = df_neighbor_de_subset$de_gene,\n",
    "    x = \"logFC\",\n",
    "    y = \"adjusted_p_val\",\n",
    "    title = paste(prj_name, \"hits by vector\"),\n",
    "    subtitle = \"only TSS controls, only hit==target, pseudobulk, EdgeR\",\n",
    "    col = \"gray\",\n",
    "    drawConnectors = TRUE,\n",
    "    arrowheads = FALSE,\n",
    "    pCutoff = 10e-0,\n",
    "    FCcutoff = logfc_threshold,\n",
    "    pointSize = 5.0,\n",
    "    labSize = 6.0\n",
    ") +\n",
    "    xlim(-2.5, 1) +\n",
    "    xlab(expression(paste(\"Average \", Log[2], \" Fold Change\"))) +\n",
    "    ylab(expression(paste(\"\\u2013\", Log[10], \" \", italic(p))))\n",
    "\n",
    "\n",
    "de_filter <- (df_neighbor_de$subclass == \"tss\")\n",
    "df_neighbor_de_subset <- df_neighbor_de[de_filter, ]\n",
    "p2 <- EnhancedVolcano(df_neighbor_de_subset,\n",
    "    lab = df_neighbor_de_subset$de_gene,\n",
    "    x = \"logFC\",\n",
    "    y = \"adjusted_p_val\",\n",
    "    title = paste(prj_name, \"hits by vector\"),\n",
    "    subtitle = \"only TSS controls, pseudobulk, EdgeR\",\n",
    "    col = \"gray\",\n",
    "    drawConnectors = TRUE,\n",
    "    arrowheads = FALSE,\n",
    "    pCutoff = 10e-5,\n",
    "    FCcutoff = logfc_threshold,\n",
    "    pointSize = 5.0,\n",
    "    labSize = 4.0\n",
    ") +\n",
    "    xlim(-2.5, 1) +\n",
    "    xlab(expression(paste(\"Average \", Log[2], \" Fold Change\"))) +\n",
    "    ylab(expression(paste(\"\\u2013\", Log[10], \" \", italic(p))))\n",
    "\n",
    "p1 + p2\n"
   ]
  },
  {
   "cell_type": "code",
   "execution_count": null,
   "metadata": {
    "vscode": {
     "languageId": "r"
    }
   },
   "outputs": [],
   "source": [
    "head(df_neighbor_de_subset)\n"
   ]
  },
  {
   "cell_type": "markdown",
   "metadata": {},
   "source": [
    "### Plot just the control DE"
   ]
  },
  {
   "cell_type": "code",
   "execution_count": null,
   "metadata": {
    "vscode": {
     "languageId": "r"
    }
   },
   "outputs": [],
   "source": [
    "de_filter <- (df_neighbor_de$subclass == \"de_control\") &\n",
    "    (df_neighbor_de$target == df_neighbor_de$de_gene)\n",
    "df_neighbor_de_subset <- df_neighbor_de[de_filter, ]\n",
    "\n",
    "options(repr.plot.width = 20, repr.plot.height = 12)\n",
    "p1 <- EnhancedVolcano(df_neighbor_de_subset,\n",
    "    lab = df_neighbor_de_subset$de_gene,\n",
    "    x = \"logFC\",\n",
    "    y = \"adjusted_p_val\",\n",
    "    title = paste(prj_name, \"hits by vector\"),\n",
    "    subtitle = \"only DE controls, only hit==target, pseudobulk, EdgeR\",\n",
    "    col = \"gray\",\n",
    "    drawConnectors = TRUE,\n",
    "    arrowheads = FALSE,\n",
    "    pCutoff = 10e-1,\n",
    "    FCcutoff = logfc_threshold,\n",
    "    pointSize = 5.0,\n",
    "    labSize = 6.0\n",
    ") +\n",
    "    xlim(-2, 1) +\n",
    "    xlab(expression(paste(\"Average \", Log[2], \" Fold Change\"))) +\n",
    "    ylab(expression(paste(\"\\u2013\", Log[10], \" \", italic(p))))\n",
    "\n",
    "\n",
    "de_filter <- (df_neighbor_de$subclass == \"de_control\")\n",
    "df_neighbor_de_subset <- df_neighbor_de[de_filter, ]\n",
    "p2 <- EnhancedVolcano(df_neighbor_de_subset,\n",
    "    lab = df_neighbor_de_subset$de_gene,\n",
    "    x = \"logFC\",\n",
    "    y = \"adjusted_p_val\",\n",
    "    title = paste(prj_name, \"hits by vector\"),\n",
    "    subtitle = \"only DE controls, pseudobulk, EdgeR\",\n",
    "    col = \"gray\",\n",
    "    drawConnectors = TRUE,\n",
    "    arrowheads = FALSE,\n",
    "    pCutoff = 10e-1,\n",
    "    FCcutoff = logfc_threshold,\n",
    "    pointSize = 5.0,\n",
    "    labSize = 6.0\n",
    ") +\n",
    "    xlim(-2, 1) +\n",
    "    xlab(expression(paste(\"Average \", Log[2], \" Fold Change\"))) +\n",
    "    ylab(expression(paste(\"\\u2013\", Log[10], \" \", italic(p))))\n",
    "\n",
    "p1 + p2\n"
   ]
  },
  {
   "cell_type": "markdown",
   "metadata": {},
   "source": [
    "### Plot just the CKD DE"
   ]
  },
  {
   "cell_type": "code",
   "execution_count": null,
   "metadata": {
    "scrolled": true,
    "vscode": {
     "languageId": "r"
    }
   },
   "outputs": [],
   "source": [
    "de_filter <- (df_neighbor_de$label == \"CKD DE\")\n",
    "df_neighbor_de_subset <- df_neighbor_de[de_filter, ]\n",
    "df_neighbor_de_subset$plot_label <- paste0(\n",
    "    df_neighbor_de_subset$de_gene, \n",
    "    \":\", \n",
    "    df_neighbor_de_subset$plasmid\n",
    ")\n",
    "\n",
    "options(repr.plot.width = 12, repr.plot.height = 16)\n",
    "p1 <- EnhancedVolcano(df_neighbor_de_subset,\n",
    "    lab = df_neighbor_de_subset$plot_label,\n",
    "    x = \"logFC\",\n",
    "    y = \"adjusted_p_val\",\n",
    "    title = paste(prj_name, \"hits by vector\"),\n",
    "    subtitle = \"only CKD DE, pseudobulk, EdgeR\",\n",
    "    col = \"gray\",\n",
    "    drawConnectors = TRUE,\n",
    "    arrowheads = FALSE,\n",
    "    pCutoff = 1e-5,\n",
    "    FCcutoff = logfc_threshold,\n",
    "    pointSize = 5.0,\n",
    "    labSize = 4.0\n",
    ") +\n",
    "    xlim(-1.5, 0.5) +\n",
    "    xlab(expression(paste(\"Average \", Log[2], \" Fold Change\"))) +\n",
    "    ylab(expression(paste(\"\\u2013\", Log[10], \" \", italic(p))))\n",
    "\n",
    "\n",
    "p2 <- EnhancedVolcano(df_neighbor_de_subset,\n",
    "    lab = df_neighbor_de_subset$plot_label,\n",
    "    x = \"logFC\",\n",
    "    y = \"adjusted_p_val\",\n",
    "    title = paste(prj_name, \"hits by vector\"),\n",
    "    subtitle = \"only CKD DE, pseudobulk, EdgeR\",\n",
    "    col = \"gray\",\n",
    "    drawConnectors = TRUE,\n",
    "    arrowheads = FALSE,\n",
    "    pCutoff = 0.05,\n",
    "    FCcutoff = logfc_threshold,\n",
    "    pointSize = 5.0,\n",
    "    labSize = 4.0\n",
    ") +\n",
    "    xlim(-1., 0.5) +\n",
    "    ylim(0, 22) +\n",
    "    xlab(expression(paste(\"Average \", Log[2], \" Fold Change\"))) +\n",
    "    ylab(expression(paste(\"\\u2013\", Log[10], \" \", italic(p))))\n",
    "\n",
    "p1\n",
    "p2\n"
   ]
  }
 ],
 "metadata": {
  "kernelspec": {
   "display_name": "R",
   "language": "R",
   "name": "ir"
  },
  "language_info": {
   "codemirror_mode": "r",
   "file_extension": ".r",
   "mimetype": "text/x-r-source",
   "name": "R",
   "pygments_lexer": "r",
   "version": "4.3.0"
  }
 },
 "nbformat": 4,
 "nbformat_minor": 4
}
