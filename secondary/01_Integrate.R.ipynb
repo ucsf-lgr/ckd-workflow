{
 "cells": [
  {
   "cell_type": "code",
   "execution_count": 39,
   "id": "f51026d3-b958-4195-b53d-d217c9dadaf3",
   "metadata": {
    "tags": [],
    "vscode": {
     "languageId": "r"
    }
   },
   "outputs": [],
   "source": [
    "suppressWarnings(suppressPackageStartupMessages({\n",
    "    library(Seurat)\n",
    "    library(Signac)\n",
    "    library(EnsDb.Hsapiens.v86)\n",
    "    library(dplyr)\n",
    "    library(ggplot2)        \n",
    "    library(bedr)\n",
    "    library(SeuratDisk)\n",
    "    library(scales)\n",
    "    library(reshape2)\n",
    "    library(Hmisc)\n",
    "    library(tidyr)\n",
    "    library(tidyverse)\n",
    "    library(crayon)\n",
    "    library(SeuratData)\n",
    "    #library(CelliD)\n",
    "    library(readr)\n",
    "}))"
   ]
  },
  {
   "attachments": {},
   "cell_type": "markdown",
   "id": "de9f2409",
   "metadata": {},
   "source": [
    "# Definitions etc"
   ]
  },
  {
   "cell_type": "code",
   "execution_count": 40,
   "id": "9da36b18-b07b-4fc6-8b07-b3fbbff188f8",
   "metadata": {
    "vscode": {
     "languageId": "r"
    }
   },
   "outputs": [],
   "source": [
    "set.seed(1234)\n",
    "options(digits=2)\n",
    "stats <- c()"
   ]
  },
  {
   "cell_type": "code",
   "execution_count": 41,
   "id": "f37099e4-6009-4120-923f-14e56f2d4e80",
   "metadata": {
    "tags": [],
    "vscode": {
     "languageId": "r"
    }
   },
   "outputs": [],
   "source": [
    "if(!exists(\"papermill_run\")) {\n",
    "    # prj_name = \"Screen1_66guides\"\n",
    "    # secondary_a_path = \"/home/vsevim/prj/1012-ckd/S1/analysis/secondary/\"\n",
    "    # save_seurat_h5 = \"YES\"\n",
    "    # n_libs = \"4\"\n",
    "\n",
    "    prj_name = \"Screen2_101vecs\"\n",
    "    n_libs = \"9\"\n",
    "    secondary_a_path = \"/home/vsevim/prj/1012-ckd/S2/analysis/secondary/\"\n",
    "    save_seurat_h5 = \"YES\"\n",
    "}"
   ]
  },
  {
   "cell_type": "code",
   "execution_count": 42,
   "id": "57df8789",
   "metadata": {
    "vscode": {
     "languageId": "r"
    }
   },
   "outputs": [],
   "source": [
    "custom_theme <- theme(\n",
    "  plot.title = element_text(size=16, hjust = 0.5), \n",
    "  legend.key.size = unit(0.7, \"cm\"), \n",
    "  legend.text = element_text(size = 14))"
   ]
  },
  {
   "attachments": {},
   "cell_type": "markdown",
   "metadata": {},
   "source": [
    "# Load Seurat files"
   ]
  },
  {
   "cell_type": "code",
   "execution_count": 43,
   "metadata": {
    "vscode": {
     "languageId": "r"
    }
   },
   "outputs": [
    {
     "name": "stdout",
     "output_type": "stream",
     "text": [
      "[1] \"/home/vsevim/prj/1012-ckd/S2/analysis/secondary/Lib_1/seurat_objects/Screen2_101vecs_Lib_1.h5seurat\"\n"
     ]
    },
    {
     "name": "stderr",
     "output_type": "stream",
     "text": [
      "Validating h5Seurat file\n",
      "\n"
     ]
    },
    {
     "name": "stdout",
     "output_type": "stream",
     "text": [
      "[1] \"/home/vsevim/prj/1012-ckd/S2/analysis/secondary/Lib_2/seurat_objects/Screen2_101vecs_Lib_2.h5seurat\"\n"
     ]
    },
    {
     "name": "stderr",
     "output_type": "stream",
     "text": [
      "Validating h5Seurat file\n",
      "\n"
     ]
    },
    {
     "name": "stdout",
     "output_type": "stream",
     "text": [
      "[1] \"/home/vsevim/prj/1012-ckd/S2/analysis/secondary/Lib_3/seurat_objects/Screen2_101vecs_Lib_3.h5seurat\"\n"
     ]
    },
    {
     "name": "stderr",
     "output_type": "stream",
     "text": [
      "Validating h5Seurat file\n",
      "\n"
     ]
    },
    {
     "name": "stdout",
     "output_type": "stream",
     "text": [
      "[1] \"/home/vsevim/prj/1012-ckd/S2/analysis/secondary/Lib_4/seurat_objects/Screen2_101vecs_Lib_4.h5seurat\"\n"
     ]
    },
    {
     "name": "stderr",
     "output_type": "stream",
     "text": [
      "Validating h5Seurat file\n",
      "\n"
     ]
    },
    {
     "name": "stdout",
     "output_type": "stream",
     "text": [
      "[1] \"/home/vsevim/prj/1012-ckd/S2/analysis/secondary/Lib_5/seurat_objects/Screen2_101vecs_Lib_5.h5seurat\"\n"
     ]
    },
    {
     "name": "stderr",
     "output_type": "stream",
     "text": [
      "Validating h5Seurat file\n",
      "\n"
     ]
    },
    {
     "name": "stdout",
     "output_type": "stream",
     "text": [
      "[1] \"/home/vsevim/prj/1012-ckd/S2/analysis/secondary/Lib_6/seurat_objects/Screen2_101vecs_Lib_6.h5seurat\"\n"
     ]
    },
    {
     "name": "stderr",
     "output_type": "stream",
     "text": [
      "Validating h5Seurat file\n",
      "\n"
     ]
    },
    {
     "name": "stdout",
     "output_type": "stream",
     "text": [
      "[1] \"/home/vsevim/prj/1012-ckd/S2/analysis/secondary/Lib_7/seurat_objects/Screen2_101vecs_Lib_7.h5seurat\"\n"
     ]
    },
    {
     "name": "stderr",
     "output_type": "stream",
     "text": [
      "Validating h5Seurat file\n",
      "\n"
     ]
    },
    {
     "name": "stdout",
     "output_type": "stream",
     "text": [
      "[1] \"/home/vsevim/prj/1012-ckd/S2/analysis/secondary/Lib_8/seurat_objects/Screen2_101vecs_Lib_8.h5seurat\"\n"
     ]
    },
    {
     "name": "stderr",
     "output_type": "stream",
     "text": [
      "Validating h5Seurat file\n",
      "\n"
     ]
    },
    {
     "name": "stdout",
     "output_type": "stream",
     "text": [
      "[1] \"/home/vsevim/prj/1012-ckd/S2/analysis/secondary/Lib_9/seurat_objects/Screen2_101vecs_Lib_9.h5seurat\"\n"
     ]
    },
    {
     "name": "stderr",
     "output_type": "stream",
     "text": [
      "Validating h5Seurat file\n",
      "\n"
     ]
    }
   ],
   "source": [
    "# Load Seurat objects\n",
    "#libs = c(\"Lib_1\", \"Lib_2\", \"Lib_3\", \"Lib_4\", \"Lib_5\", \"Lib_6\", \"Lib_7\", \"Lib_8\", \"Lib_9\")\n",
    "\n",
    "libs = paste0(\"Lib_\", 1:as.integer(n_libs))\n",
    "integrated_h5_path <- paste0(secondary_a_path, \"integrated/seurat_objects/integrated_wo_guide_calls\")\n",
    "seurat_list = list()\n",
    "\n",
    "for(lib in libs) {\n",
    "    h5_path = paste0(secondary_a_path, lib, \"/seurat_objects/\", prj_name, \"_\", lib, \".h5seurat\")\n",
    "    print(h5_path)\n",
    "    seurat_list[[lib]] = LoadH5Seurat(h5_path, verbose = FALSE)\n",
    "    #seurat_list[[lib]]$library <- lib\n",
    "    DefaultAssay(seurat_list[[lib]]) <- \"SCT\"\n",
    "}"
   ]
  },
  {
   "cell_type": "code",
   "execution_count": 44,
   "metadata": {
    "vscode": {
     "languageId": "r"
    }
   },
   "outputs": [],
   "source": [
    "integration_features <- SelectIntegrationFeatures(object.list = seurat_list)"
   ]
  },
  {
   "cell_type": "code",
   "execution_count": 45,
   "metadata": {
    "vscode": {
     "languageId": "r"
    }
   },
   "outputs": [
    {
     "name": "stderr",
     "output_type": "stream",
     "text": [
      "Warning message in CheckDuplicateCellNames(object.list = object.list):\n",
      "\"Some cell names are duplicated across objects provided. Renaming to enforce unique cell names.\"\n"
     ]
    }
   ],
   "source": [
    "anchors <- FindIntegrationAnchors(object.list = seurat_list, anchor.features = integration_features, verbose = FALSE)"
   ]
  },
  {
   "cell_type": "code",
   "execution_count": 46,
   "metadata": {
    "vscode": {
     "languageId": "r"
    }
   },
   "outputs": [],
   "source": [
    "# this command creates an 'integrated' data assay\n",
    "seurat_combined <- IntegrateData(anchorset = anchors, verbose = FALSE)"
   ]
  },
  {
   "attachments": {},
   "cell_type": "markdown",
   "metadata": {},
   "source": [
    "# Run SCTransform on the combined"
   ]
  },
  {
   "cell_type": "code",
   "execution_count": 47,
   "metadata": {
    "vscode": {
     "languageId": "r"
    }
   },
   "outputs": [],
   "source": [
    "DefaultAssay(seurat_combined) <- \"integrated\""
   ]
  },
  {
   "cell_type": "code",
   "execution_count": 48,
   "metadata": {
    "vscode": {
     "languageId": "r"
    }
   },
   "outputs": [
    {
     "name": "stderr",
     "output_type": "stream",
     "text": [
      "PC_ 1 \n",
      "Positive:  WFDC2, ERBB4, KCNIP4, MECOM, MUC1, S100A2, KRT19, KRT7, MAL, AC019197.1 \n",
      "\t   AGR2, TMPRSS4, KITLG, CSGALNACT1, FAM155A, SLPI, LCN2, SLC12A1, ACSL4, LINC01503 \n",
      "\t   BST2, PDE1A, MACC1, TACSTD2, ITGB6, ARHGEF38, CYP1B1, SFRP1, CD9, PLCB1 \n",
      "Negative:  FN1, CRYAB, CDH6, MT1X, APOE, VCAM1, NCKAP5, SOD2, MALAT1, FGB \n",
      "\t   CTSB, AC013287.1, RHEX, SERPINA1, TRPM3, G0S2, VGF, SERPINE1, HP, NEAT1 \n",
      "\t   GDA, SLC13A3, ABLIM3, GPC6, SLC2A9, MT1G, SERPINE2, NRG3, HMGA2, S100A1 \n",
      "PC_ 2 \n",
      "Positive:  FTL, FTH1, RPS12, S100A6, RPS2, LGALS1, MT1E, RPL10, TMSB10, CRYAB \n",
      "\t   RPL17, RPS18, RPL41, MT2A, RPL26, RPLP1, RPS27A, VIM, RPL12, RPL7A \n",
      "\t   RPS3A, RPL11, RPS8, TMSB4X, RPS3, EEF1A1, RPS6, KRT19, RPL13, RPL10A \n",
      "Negative:  KCNIP4, ERBB4, MECOM, MALAT1, AC079352.1, NEAT1, LINC01320, PLCB1, PDE4D, ADAMTS9-AS2 \n",
      "\t   AC019197.1, FGF14, FAM155A, TRABD2B, LRP1B, LINC02532, PKHD1, LINC00621, NLGN1, PDE1A \n",
      "\t   PKP4, EFNA5, NCKAP5, LINC01781, SDK1, UBE2D2, AC019117.1, LINC00511, WFDC2, KCNQ1OT1 \n",
      "PC_ 3 \n",
      "Positive:  PLCB4, CENPF, dCas9, MKI67, HMGA2, DCBLD2, TOP2A, AC078923.1, TUBA1B, FRMD5 \n",
      "\t   ASPM, ARHGAP29, UBE2C, CASC19, SCEL, FAM155A, PLAU, PCLAF, DLGAP5, ANLN \n",
      "\t   SEMA3C, TPX2, AL355916.1, HMGA1, CCNB1, ARL4C, CEP55, HMMR, NTNG1, RRAS2 \n",
      "Negative:  MT1G, SERPINA1, MT1X, CRYAB, SLPI, MT1H, WFDC2, SAA1, HP, SAA2 \n",
      "\t   FXYD2, MT1F, SOD2, MUC1, SERPINA3, APOE, FGB, SPP1, MT1M, CKB \n",
      "\t   NCKAP5, VCAM1, G0S2, CXCL14, MT1E, TMEM176A, CTSB, SLC13A3, SLC3A1, NDRG1 \n",
      "PC_ 4 \n",
      "Positive:  dCas9, KCNIP4, ERBB4, FTL, MECOM, SLC12A1, SNED1, TXNIP, PPFIA2, PLCB1 \n",
      "\t   APOE, ADAMTS9-AS2, LRP1B, ACSL4, PAPPA2, TIMP1, IGFBP7, RPLP1, TFAP2B, PCDH9 \n",
      "\t   LINC01503, RPL13A, RPS19, RPS12, SERPINA3, IRX2, TFPI, AC096531.2, IFITM2, COL8A1 \n",
      "Negative:  KRT19, SAA1, SAA2, LCN2, KRT7, SLPI, TACSTD2, MT1G, MACC1, KLK6 \n",
      "\t   GPRC5A, MMP7, FN1, MUC1, KLK8, S100A9, VTCN1, LINC01705, CDH6, FGB \n",
      "\t   CP, ITGA2, CASC19, MT1H, KITLG, RAB25, PCDH7, AL355916.1, PLAU, TSPAN1 \n",
      "PC_ 5 \n",
      "Positive:  CENPF, MKI67, TOP2A, MT1G, ASPM, UBE2C, DLGAP5, ANLN, MT1H, HMMR \n",
      "\t   TPX2, CCNB1, CEP55, CDK1, HMGB2, ERBB4, CKS2, CRYAB, NUSAP1, GTSE1 \n",
      "\t   PCLAF, PBK, RRM2, CDKN3, TUBA1B, HJURP, PRC1, BIRC5, CDC20, CCNA2 \n",
      "Negative:  dCas9, IFI27, FGB, KRT19, RPS4Y1, LCN2, SLC35F1, LINC00278, SLPI, LINC01705 \n",
      "\t   CP, SERPINE1, AL079338.1, TACSTD2, RPS19, PTGDS, KLK6, TMSB4X, AC011751.1, AC079352.1 \n",
      "\t   MACC1, KLK8, ANGPTL4, LINC00621, NRXN3, RHEX, PTCHD4, BICC1, CLIC5, FLG \n",
      "\n"
     ]
    }
   ],
   "source": [
    "seurat_combined <- SCTransform(seurat_combined, vst.flavor = \"v2\", verbose = FALSE) %>% \n",
    "          RunPCA() %>% \n",
    "          RunUMAP(dims = 1:40, reduction.name = 'umap.rna', reduction.key = 'rnaUMAP_', verbose=FALSE)"
   ]
  },
  {
   "attachments": {},
   "cell_type": "markdown",
   "metadata": {},
   "source": [
    "### Perform clustering"
   ]
  },
  {
   "cell_type": "code",
   "execution_count": 49,
   "metadata": {
    "vscode": {
     "languageId": "r"
    }
   },
   "outputs": [
    {
     "name": "stderr",
     "output_type": "stream",
     "text": [
      "Computing nearest neighbor graph\n",
      "\n",
      "Computing SNN\n",
      "\n"
     ]
    },
    {
     "name": "stdout",
     "output_type": "stream",
     "text": [
      "Modularity Optimizer version 1.3.0 by Ludo Waltman and Nees Jan van Eck\n",
      "\n",
      "Number of nodes: 46051\n",
      "Number of edges: 1540868\n",
      "\n",
      "Running Louvain algorithm...\n",
      "Maximum modularity in 10 random starts: 0.8669\n",
      "Number of communities: 16\n",
      "Elapsed time: 16 seconds\n"
     ]
    }
   ],
   "source": [
    "seurat_combined <- FindNeighbors(seurat_combined, reduction = \"pca\", dims = 1:40)\n",
    "seurat_combined <- FindClusters(seurat_combined, resolution = 0.5)"
   ]
  },
  {
   "attachments": {},
   "cell_type": "markdown",
   "metadata": {},
   "source": [
    "## Add stats slot"
   ]
  },
  {
   "cell_type": "code",
   "execution_count": 50,
   "metadata": {
    "vscode": {
     "languageId": "r"
    }
   },
   "outputs": [],
   "source": [
    "df_stats = NULL\n",
    "for(i in 1:length(seurat_list)) {\n",
    "    df_stats = rbind(df_stats, as.data.frame(seurat_list[[i]]@misc$stats))\n",
    "}\n",
    "\n",
    "Misc(seurat_combined, slot = 'stats') <- df_stats"
   ]
  },
  {
   "attachments": {},
   "cell_type": "markdown",
   "metadata": {},
   "source": [
    "### Save H5"
   ]
  },
  {
   "cell_type": "code",
   "execution_count": 51,
   "metadata": {
    "vscode": {
     "languageId": "r"
    }
   },
   "outputs": [
    {
     "name": "stderr",
     "output_type": "stream",
     "text": [
      "Warning message:\n",
      "\"Overwriting previous file /home/vsevim/prj/1012-ckd/S2/analysis/secondary/integrated/seurat_objects/integrated_wo_guide_calls.h5seurat\"\n",
      "Creating h5Seurat file for version 3.1.5.9900\n",
      "\n"
     ]
    }
   ],
   "source": [
    "SaveH5Seurat(seurat_combined, integrated_h5_path, verbose = FALSE, overwrite = T)"
   ]
  },
  {
   "cell_type": "code",
   "execution_count": 52,
   "metadata": {
    "vscode": {
     "languageId": "r"
    }
   },
   "outputs": [
    {
     "data": {
      "text/html": [
       "<table class=\"dataframe\">\n",
       "<caption>A data.frame: 9 × 17</caption>\n",
       "<thead>\n",
       "\t<tr><th scope=col>Screen</th><th scope=col>Library</th><th scope=col>Cells_recovered</th><th scope=col>Genes_recovered</th><th scope=col>Protospacers_in_assay</th><th scope=col>Max_mito_perc_threshold</th><th scope=col>Min_mito_perc_threshold</th><th scope=col>Max_n_RNA_threshold</th><th scope=col>Min_n_RNA_threshold</th><th scope=col>Max_n_genes_threshold</th><th scope=col>Min_n_genes_threshold</th><th scope=col>Cells_after_QC_filtering</th><th scope=col>Cells_with_sgRNA_count_less_than_100</th><th scope=col>Doublets_in_filtered_cells</th><th scope=col>Total_doublets_before_filtering</th><th scope=col>Singlets_after_filtering</th><th scope=col>Singlets_perc_after_filtering</th></tr>\n",
       "\t<tr><th scope=col>&lt;chr&gt;</th><th scope=col>&lt;chr&gt;</th><th scope=col>&lt;int&gt;</th><th scope=col>&lt;int&gt;</th><th scope=col>&lt;int&gt;</th><th scope=col>&lt;dbl&gt;</th><th scope=col>&lt;dbl&gt;</th><th scope=col>&lt;dbl&gt;</th><th scope=col>&lt;dbl&gt;</th><th scope=col>&lt;dbl&gt;</th><th scope=col>&lt;dbl&gt;</th><th scope=col>&lt;int&gt;</th><th scope=col>&lt;int&gt;</th><th scope=col>&lt;int&gt;</th><th scope=col>&lt;int&gt;</th><th scope=col>&lt;int&gt;</th><th scope=col>&lt;dbl&gt;</th></tr>\n",
       "</thead>\n",
       "<tbody>\n",
       "\t<tr><td>Screen2_101vecs</td><td>Lib_1</td><td> 5627</td><td>29979</td><td>202</td><td>27</td><td>3</td><td>63716</td><td>-20142</td><td>11034</td><td>2000</td><td>4765</td><td>2845</td><td>290</td><td> 407</td><td>4475</td><td>0.94</td></tr>\n",
       "\t<tr><td>Screen2_101vecs</td><td>Lib_2</td><td> 9597</td><td>29397</td><td>202</td><td>27</td><td>3</td><td>42848</td><td>-25292</td><td>13036</td><td>2000</td><td>5485</td><td>3161</td><td>427</td><td> 651</td><td>5055</td><td>0.92</td></tr>\n",
       "\t<tr><td>Screen2_101vecs</td><td>Lib_3</td><td>12681</td><td>30647</td><td>202</td><td>27</td><td>3</td><td>57213</td><td>-34679</td><td>16144</td><td>2000</td><td>6398</td><td>3548</td><td>680</td><td>1319</td><td>5717</td><td>0.89</td></tr>\n",
       "\t<tr><td>Screen2_101vecs</td><td>Lib_4</td><td>12632</td><td>30625</td><td>202</td><td>26</td><td>3</td><td>50879</td><td>-30311</td><td>14860</td><td>2000</td><td>6109</td><td>3339</td><td>774</td><td>1572</td><td>5332</td><td>0.87</td></tr>\n",
       "\t<tr><td>Screen2_101vecs</td><td>Lib_5</td><td>11565</td><td>30653</td><td>202</td><td>26</td><td>3</td><td>60665</td><td>-36591</td><td>16665</td><td>2000</td><td>5723</td><td>2977</td><td>714</td><td>1410</td><td>5007</td><td>0.87</td></tr>\n",
       "\t<tr><td>Screen2_101vecs</td><td>Lib_6</td><td>10176</td><td>28895</td><td>202</td><td>26</td><td>3</td><td>33994</td><td>-19308</td><td> 9682</td><td>2000</td><td>6188</td><td>3274</td><td>836</td><td>1184</td><td>5345</td><td>0.86</td></tr>\n",
       "\t<tr><td>Screen2_101vecs</td><td>Lib_7</td><td>12699</td><td>29718</td><td>202</td><td>24</td><td>3</td><td>27215</td><td>-15911</td><td> 9938</td><td>2000</td><td>5463</td><td>3076</td><td>534</td><td>1539</td><td>4927</td><td>0.90</td></tr>\n",
       "\t<tr><td>Screen2_101vecs</td><td>Lib_8</td><td>12449</td><td>29515</td><td>202</td><td>24</td><td>3</td><td>28537</td><td>-16287</td><td>10080</td><td>2000</td><td>6134</td><td>3371</td><td>705</td><td>1496</td><td>5425</td><td>0.88</td></tr>\n",
       "\t<tr><td>Screen2_101vecs</td><td>Lib_9</td><td> 5516</td><td>29387</td><td>202</td><td>14</td><td>3</td><td>37017</td><td> -2026</td><td> 8336</td><td>2000</td><td>4960</td><td>4499</td><td>192</td><td> 246</td><td>4768</td><td>0.96</td></tr>\n",
       "</tbody>\n",
       "</table>\n"
      ],
      "text/latex": [
       "A data.frame: 9 × 17\n",
       "\\begin{tabular}{lllllllllllllllll}\n",
       " Screen & Library & Cells\\_recovered & Genes\\_recovered & Protospacers\\_in\\_assay & Max\\_mito\\_perc\\_threshold & Min\\_mito\\_perc\\_threshold & Max\\_n\\_RNA\\_threshold & Min\\_n\\_RNA\\_threshold & Max\\_n\\_genes\\_threshold & Min\\_n\\_genes\\_threshold & Cells\\_after\\_QC\\_filtering & Cells\\_with\\_sgRNA\\_count\\_less\\_than\\_100 & Doublets\\_in\\_filtered\\_cells & Total\\_doublets\\_before\\_filtering & Singlets\\_after\\_filtering & Singlets\\_perc\\_after\\_filtering\\\\\n",
       " <chr> & <chr> & <int> & <int> & <int> & <dbl> & <dbl> & <dbl> & <dbl> & <dbl> & <dbl> & <int> & <int> & <int> & <int> & <int> & <dbl>\\\\\n",
       "\\hline\n",
       "\t Screen2\\_101vecs & Lib\\_1 &  5627 & 29979 & 202 & 27 & 3 & 63716 & -20142 & 11034 & 2000 & 4765 & 2845 & 290 &  407 & 4475 & 0.94\\\\\n",
       "\t Screen2\\_101vecs & Lib\\_2 &  9597 & 29397 & 202 & 27 & 3 & 42848 & -25292 & 13036 & 2000 & 5485 & 3161 & 427 &  651 & 5055 & 0.92\\\\\n",
       "\t Screen2\\_101vecs & Lib\\_3 & 12681 & 30647 & 202 & 27 & 3 & 57213 & -34679 & 16144 & 2000 & 6398 & 3548 & 680 & 1319 & 5717 & 0.89\\\\\n",
       "\t Screen2\\_101vecs & Lib\\_4 & 12632 & 30625 & 202 & 26 & 3 & 50879 & -30311 & 14860 & 2000 & 6109 & 3339 & 774 & 1572 & 5332 & 0.87\\\\\n",
       "\t Screen2\\_101vecs & Lib\\_5 & 11565 & 30653 & 202 & 26 & 3 & 60665 & -36591 & 16665 & 2000 & 5723 & 2977 & 714 & 1410 & 5007 & 0.87\\\\\n",
       "\t Screen2\\_101vecs & Lib\\_6 & 10176 & 28895 & 202 & 26 & 3 & 33994 & -19308 &  9682 & 2000 & 6188 & 3274 & 836 & 1184 & 5345 & 0.86\\\\\n",
       "\t Screen2\\_101vecs & Lib\\_7 & 12699 & 29718 & 202 & 24 & 3 & 27215 & -15911 &  9938 & 2000 & 5463 & 3076 & 534 & 1539 & 4927 & 0.90\\\\\n",
       "\t Screen2\\_101vecs & Lib\\_8 & 12449 & 29515 & 202 & 24 & 3 & 28537 & -16287 & 10080 & 2000 & 6134 & 3371 & 705 & 1496 & 5425 & 0.88\\\\\n",
       "\t Screen2\\_101vecs & Lib\\_9 &  5516 & 29387 & 202 & 14 & 3 & 37017 &  -2026 &  8336 & 2000 & 4960 & 4499 & 192 &  246 & 4768 & 0.96\\\\\n",
       "\\end{tabular}\n"
      ],
      "text/markdown": [
       "\n",
       "A data.frame: 9 × 17\n",
       "\n",
       "| Screen &lt;chr&gt; | Library &lt;chr&gt; | Cells_recovered &lt;int&gt; | Genes_recovered &lt;int&gt; | Protospacers_in_assay &lt;int&gt; | Max_mito_perc_threshold &lt;dbl&gt; | Min_mito_perc_threshold &lt;dbl&gt; | Max_n_RNA_threshold &lt;dbl&gt; | Min_n_RNA_threshold &lt;dbl&gt; | Max_n_genes_threshold &lt;dbl&gt; | Min_n_genes_threshold &lt;dbl&gt; | Cells_after_QC_filtering &lt;int&gt; | Cells_with_sgRNA_count_less_than_100 &lt;int&gt; | Doublets_in_filtered_cells &lt;int&gt; | Total_doublets_before_filtering &lt;int&gt; | Singlets_after_filtering &lt;int&gt; | Singlets_perc_after_filtering &lt;dbl&gt; |\n",
       "|---|---|---|---|---|---|---|---|---|---|---|---|---|---|---|---|---|\n",
       "| Screen2_101vecs | Lib_1 |  5627 | 29979 | 202 | 27 | 3 | 63716 | -20142 | 11034 | 2000 | 4765 | 2845 | 290 |  407 | 4475 | 0.94 |\n",
       "| Screen2_101vecs | Lib_2 |  9597 | 29397 | 202 | 27 | 3 | 42848 | -25292 | 13036 | 2000 | 5485 | 3161 | 427 |  651 | 5055 | 0.92 |\n",
       "| Screen2_101vecs | Lib_3 | 12681 | 30647 | 202 | 27 | 3 | 57213 | -34679 | 16144 | 2000 | 6398 | 3548 | 680 | 1319 | 5717 | 0.89 |\n",
       "| Screen2_101vecs | Lib_4 | 12632 | 30625 | 202 | 26 | 3 | 50879 | -30311 | 14860 | 2000 | 6109 | 3339 | 774 | 1572 | 5332 | 0.87 |\n",
       "| Screen2_101vecs | Lib_5 | 11565 | 30653 | 202 | 26 | 3 | 60665 | -36591 | 16665 | 2000 | 5723 | 2977 | 714 | 1410 | 5007 | 0.87 |\n",
       "| Screen2_101vecs | Lib_6 | 10176 | 28895 | 202 | 26 | 3 | 33994 | -19308 |  9682 | 2000 | 6188 | 3274 | 836 | 1184 | 5345 | 0.86 |\n",
       "| Screen2_101vecs | Lib_7 | 12699 | 29718 | 202 | 24 | 3 | 27215 | -15911 |  9938 | 2000 | 5463 | 3076 | 534 | 1539 | 4927 | 0.90 |\n",
       "| Screen2_101vecs | Lib_8 | 12449 | 29515 | 202 | 24 | 3 | 28537 | -16287 | 10080 | 2000 | 6134 | 3371 | 705 | 1496 | 5425 | 0.88 |\n",
       "| Screen2_101vecs | Lib_9 |  5516 | 29387 | 202 | 14 | 3 | 37017 |  -2026 |  8336 | 2000 | 4960 | 4499 | 192 |  246 | 4768 | 0.96 |\n",
       "\n"
      ],
      "text/plain": [
       "  Screen          Library Cells_recovered Genes_recovered Protospacers_in_assay\n",
       "1 Screen2_101vecs Lib_1    5627           29979           202                  \n",
       "2 Screen2_101vecs Lib_2    9597           29397           202                  \n",
       "3 Screen2_101vecs Lib_3   12681           30647           202                  \n",
       "4 Screen2_101vecs Lib_4   12632           30625           202                  \n",
       "5 Screen2_101vecs Lib_5   11565           30653           202                  \n",
       "6 Screen2_101vecs Lib_6   10176           28895           202                  \n",
       "7 Screen2_101vecs Lib_7   12699           29718           202                  \n",
       "8 Screen2_101vecs Lib_8   12449           29515           202                  \n",
       "9 Screen2_101vecs Lib_9    5516           29387           202                  \n",
       "  Max_mito_perc_threshold Min_mito_perc_threshold Max_n_RNA_threshold\n",
       "1 27                      3                       63716              \n",
       "2 27                      3                       42848              \n",
       "3 27                      3                       57213              \n",
       "4 26                      3                       50879              \n",
       "5 26                      3                       60665              \n",
       "6 26                      3                       33994              \n",
       "7 24                      3                       27215              \n",
       "8 24                      3                       28537              \n",
       "9 14                      3                       37017              \n",
       "  Min_n_RNA_threshold Max_n_genes_threshold Min_n_genes_threshold\n",
       "1 -20142              11034                 2000                 \n",
       "2 -25292              13036                 2000                 \n",
       "3 -34679              16144                 2000                 \n",
       "4 -30311              14860                 2000                 \n",
       "5 -36591              16665                 2000                 \n",
       "6 -19308               9682                 2000                 \n",
       "7 -15911               9938                 2000                 \n",
       "8 -16287              10080                 2000                 \n",
       "9  -2026               8336                 2000                 \n",
       "  Cells_after_QC_filtering Cells_with_sgRNA_count_less_than_100\n",
       "1 4765                     2845                                \n",
       "2 5485                     3161                                \n",
       "3 6398                     3548                                \n",
       "4 6109                     3339                                \n",
       "5 5723                     2977                                \n",
       "6 6188                     3274                                \n",
       "7 5463                     3076                                \n",
       "8 6134                     3371                                \n",
       "9 4960                     4499                                \n",
       "  Doublets_in_filtered_cells Total_doublets_before_filtering\n",
       "1 290                         407                           \n",
       "2 427                         651                           \n",
       "3 680                        1319                           \n",
       "4 774                        1572                           \n",
       "5 714                        1410                           \n",
       "6 836                        1184                           \n",
       "7 534                        1539                           \n",
       "8 705                        1496                           \n",
       "9 192                         246                           \n",
       "  Singlets_after_filtering Singlets_perc_after_filtering\n",
       "1 4475                     0.94                         \n",
       "2 5055                     0.92                         \n",
       "3 5717                     0.89                         \n",
       "4 5332                     0.87                         \n",
       "5 5007                     0.87                         \n",
       "6 5345                     0.86                         \n",
       "7 4927                     0.90                         \n",
       "8 5425                     0.88                         \n",
       "9 4768                     0.96                         "
      ]
     },
     "metadata": {},
     "output_type": "display_data"
    }
   ],
   "source": [
    "df_stats"
   ]
  },
  {
   "cell_type": "code",
   "execution_count": 53,
   "metadata": {
    "vscode": {
     "languageId": "r"
    }
   },
   "outputs": [
    {
     "data": {
      "text/html": [
       "4475"
      ],
      "text/latex": [
       "4475"
      ],
      "text/markdown": [
       "4475"
      ],
      "text/plain": [
       "[1] 4475"
      ]
     },
     "metadata": {},
     "output_type": "display_data"
    }
   ],
   "source": [
    "nrow(seurat_list[[1]]@meta.data)"
   ]
  },
  {
   "cell_type": "code",
   "execution_count": 54,
   "metadata": {
    "vscode": {
     "languageId": "r"
    }
   },
   "outputs": [
    {
     "data": {
      "text/html": [
       "4475"
      ],
      "text/latex": [
       "4475"
      ],
      "text/markdown": [
       "4475"
      ],
      "text/plain": [
       "[1] 4475"
      ]
     },
     "metadata": {},
     "output_type": "display_data"
    },
    {
     "data": {
      "text/html": [
       "4475"
      ],
      "text/latex": [
       "4475"
      ],
      "text/markdown": [
       "4475"
      ],
      "text/plain": [
       "[1] 4475"
      ]
     },
     "metadata": {},
     "output_type": "display_data"
    }
   ],
   "source": [
    "length(Cells(subset(seurat_combined, subset = library == 'Lib_1')))\n",
    "length(Cells(subset(seurat_combined, subset = (status == 'singlet') & (library == 'Lib_1') )))"
   ]
  },
  {
   "cell_type": "code",
   "execution_count": 55,
   "metadata": {
    "vscode": {
     "languageId": "r"
    }
   },
   "outputs": [
    {
     "data": {
      "text/html": [
       "'singlet'"
      ],
      "text/latex": [
       "'singlet'"
      ],
      "text/markdown": [
       "'singlet'"
      ],
      "text/plain": [
       "[1] \"singlet\""
      ]
     },
     "metadata": {},
     "output_type": "display_data"
    }
   ],
   "source": [
    "unique(seurat_combined$status)"
   ]
  },
  {
   "cell_type": "code",
   "execution_count": 56,
   "metadata": {
    "vscode": {
     "languageId": "r"
    }
   },
   "outputs": [
    {
     "data": {
      "text/html": [
       "'singlet'"
      ],
      "text/latex": [
       "'singlet'"
      ],
      "text/markdown": [
       "'singlet'"
      ],
      "text/plain": [
       "[1] \"singlet\""
      ]
     },
     "metadata": {},
     "output_type": "display_data"
    }
   ],
   "source": [
    "unique(seurat_list[[4]]$status)"
   ]
  },
  {
   "cell_type": "code",
   "execution_count": 57,
   "metadata": {
    "vscode": {
     "languageId": "r"
    }
   },
   "outputs": [
    {
     "data": {
      "text/plain": [
       "\n",
       "singlet \n",
       "  46051 "
      ]
     },
     "metadata": {},
     "output_type": "display_data"
    }
   ],
   "source": [
    "table(seurat_combined$status)"
   ]
  },
  {
   "cell_type": "code",
   "execution_count": null,
   "metadata": {
    "vscode": {
     "languageId": "r"
    }
   },
   "outputs": [],
   "source": []
  }
 ],
 "metadata": {
  "kernelspec": {
   "display_name": "R",
   "language": "R",
   "name": "ir"
  },
  "language_info": {
   "codemirror_mode": "r",
   "file_extension": ".r",
   "mimetype": "text/x-r-source",
   "name": "R",
   "pygments_lexer": "r",
   "version": "4.2.2"
  },
  "orig_nbformat": 4
 },
 "nbformat": 4,
 "nbformat_minor": 2
}
