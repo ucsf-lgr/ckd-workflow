{
 "cells": [
  {
   "cell_type": "code",
   "execution_count": 1,
   "id": "f51026d3-b958-4195-b53d-d217c9dadaf3",
   "metadata": {
    "tags": [],
    "vscode": {
     "languageId": "r"
    }
   },
   "outputs": [],
   "source": [
    "suppressWarnings(suppressPackageStartupMessages({\n",
    "    library(Seurat)\n",
    "    library(Signac)\n",
    "    library(EnsDb.Hsapiens.v86)\n",
    "    library(dplyr)\n",
    "    library(ggplot2)\n",
    "    library(bedr)\n",
    "    library(SeuratDisk)\n",
    "    library(scales)\n",
    "    library(reshape2)\n",
    "    library(Hmisc)\n",
    "    library(tidyr)\n",
    "    library(tidyverse)\n",
    "    library(crayon)\n",
    "    library(SeuratData)\n",
    "    #library(CelliD)\n",
    "    library(readr)\n",
    "}))"
   ]
  },
  {
   "attachments": {},
   "cell_type": "markdown",
   "id": "de9f2409",
   "metadata": {},
   "source": [
    "# Definitions etc"
   ]
  },
  {
   "cell_type": "code",
   "execution_count": 2,
   "id": "9da36b18-b07b-4fc6-8b07-b3fbbff188f8",
   "metadata": {
    "vscode": {
     "languageId": "r"
    }
   },
   "outputs": [],
   "source": [
    "set.seed(1234)\n",
    "options(digits=2)\n",
    "stats <- c()"
   ]
  },
  {
   "cell_type": "code",
   "execution_count": 3,
   "id": "f37099e4-6009-4120-923f-14e56f2d4e80",
   "metadata": {
    "tags": [],
    "vscode": {
     "languageId": "r"
    }
   },
   "outputs": [],
   "source": [
    "if(!exists(\"papermill_run\")) {\n",
    "    prj_name = \"Screen1_66guides\"\n",
    "    secondary_a_path = \"/home/vsevim/prj/1012-ckd/S1/analysis/secondary/\"\n",
    "    save_seurat_h5 = \"YES\"\n",
    "    n_libs = \"4\"\n",
    "\n",
    "    # prj_name = \"Screen2_101vecs\"\n",
    "    # n_libs = \"9\"\n",
    "    # secondary_a_path = \"/home/vsevim/prj/1012-ckd/S2/analysis/secondary/\"\n",
    "    # save_seurat_h5 = \"YES\"\n",
    "}"
   ]
  },
  {
   "cell_type": "code",
   "execution_count": 4,
   "id": "57df8789",
   "metadata": {
    "vscode": {
     "languageId": "r"
    }
   },
   "outputs": [],
   "source": [
    "custom_theme <- theme(\n",
    "  plot.title = element_text(size=16, hjust = 0.5), \n",
    "  legend.key.size = unit(0.7, \"cm\"), \n",
    "  legend.text = element_text(size = 14))"
   ]
  },
  {
   "attachments": {},
   "cell_type": "markdown",
   "metadata": {},
   "source": [
    "# Load Seurat files"
   ]
  },
  {
   "cell_type": "code",
   "execution_count": 5,
   "metadata": {
    "vscode": {
     "languageId": "r"
    }
   },
   "outputs": [
    {
     "name": "stdout",
     "output_type": "stream",
     "text": [
      "[1] \"/home/vsevim/prj/1012-ckd/S1/analysis/secondary/Lib_1/seurat_objects/Screen1_66guides_Lib_1.h5seurat\"\n"
     ]
    },
    {
     "name": "stderr",
     "output_type": "stream",
     "text": [
      "Validating h5Seurat file\n",
      "\n"
     ]
    },
    {
     "name": "stdout",
     "output_type": "stream",
     "text": [
      "[1] \"/home/vsevim/prj/1012-ckd/S1/analysis/secondary/Lib_2/seurat_objects/Screen1_66guides_Lib_2.h5seurat\"\n"
     ]
    },
    {
     "name": "stderr",
     "output_type": "stream",
     "text": [
      "Validating h5Seurat file\n",
      "\n"
     ]
    },
    {
     "name": "stdout",
     "output_type": "stream",
     "text": [
      "[1] \"/home/vsevim/prj/1012-ckd/S1/analysis/secondary/Lib_3/seurat_objects/Screen1_66guides_Lib_3.h5seurat\"\n"
     ]
    },
    {
     "name": "stderr",
     "output_type": "stream",
     "text": [
      "Validating h5Seurat file\n",
      "\n"
     ]
    },
    {
     "name": "stdout",
     "output_type": "stream",
     "text": [
      "[1] \"/home/vsevim/prj/1012-ckd/S1/analysis/secondary/Lib_4/seurat_objects/Screen1_66guides_Lib_4.h5seurat\"\n"
     ]
    },
    {
     "name": "stderr",
     "output_type": "stream",
     "text": [
      "Validating h5Seurat file\n",
      "\n"
     ]
    }
   ],
   "source": [
    "# Load Seurat objects\n",
    "#libs = c(\"Lib_1\", \"Lib_2\", \"Lib_3\", \"Lib_4\", \"Lib_5\", \"Lib_6\", \"Lib_7\", \"Lib_8\", \"Lib_9\")\n",
    "\n",
    "libs = paste0(\"Lib_\", 1:as.integer(n_libs))\n",
    "integrated_h5_path <- paste0(secondary_a_path, \"integrated/seurat_objects/integrated_wo_guide_calls\")\n",
    "seurat_list = list()\n",
    "\n",
    "for(lib in libs) {\n",
    "    h5_path = paste0(secondary_a_path, lib, \"/seurat_objects/\", prj_name, \"_\", lib, \".h5seurat\")\n",
    "    print(h5_path)\n",
    "    seurat_list[[lib]] = LoadH5Seurat(h5_path, verbose = FALSE)\n",
    "    #seurat_list[[lib]]$library <- lib\n",
    "    DefaultAssay(seurat_list[[lib]]) <- \"SCT\"\n",
    "}"
   ]
  },
  {
   "cell_type": "code",
   "execution_count": 6,
   "metadata": {
    "vscode": {
     "languageId": "r"
    }
   },
   "outputs": [],
   "source": [
    "integration_features <- SelectIntegrationFeatures(object.list = seurat_list)"
   ]
  },
  {
   "cell_type": "code",
   "execution_count": 7,
   "metadata": {
    "vscode": {
     "languageId": "r"
    }
   },
   "outputs": [
    {
     "name": "stderr",
     "output_type": "stream",
     "text": [
      "Warning message in CheckDuplicateCellNames(object.list = object.list):\n",
      "\"Some cell names are duplicated across objects provided. Renaming to enforce unique cell names.\"\n"
     ]
    }
   ],
   "source": [
    "anchors <- FindIntegrationAnchors(object.list = seurat_list, anchor.features = integration_features, verbose = FALSE)"
   ]
  },
  {
   "cell_type": "code",
   "execution_count": 8,
   "metadata": {
    "vscode": {
     "languageId": "r"
    }
   },
   "outputs": [],
   "source": [
    "# this command creates an 'integrated' data assay\n",
    "seurat_combined <- IntegrateData(anchorset = anchors, verbose = FALSE)"
   ]
  },
  {
   "attachments": {},
   "cell_type": "markdown",
   "metadata": {},
   "source": [
    "# Run SCTransform on the combined"
   ]
  },
  {
   "cell_type": "code",
   "execution_count": 9,
   "metadata": {
    "vscode": {
     "languageId": "r"
    }
   },
   "outputs": [],
   "source": [
    "DefaultAssay(seurat_combined) <- \"integrated\""
   ]
  },
  {
   "cell_type": "code",
   "execution_count": 10,
   "metadata": {
    "vscode": {
     "languageId": "r"
    }
   },
   "outputs": [
    {
     "name": "stderr",
     "output_type": "stream",
     "text": [
      "PC_ 1 \n",
      "Positive:  CRYAB, FTL, APOE, MT1X, FN1, SOD2, SERPINA1, G0S2, S100A1, PLIN2 \n",
      "\t   CDH6, MT1E, FGB, SERPINE1, FTH1, CTSB, VCAM1, MGST1, TFPI2, RARRES2 \n",
      "\t   VGF, GPX3, RHEX, LINC01705, NUPR1, RRAD, AKR1C3, IL32, PDZK1IP1, SLC2A9 \n",
      "Negative:  KCNIP4, ERBB4, MECOM, WFDC2, AC019197.1, FAM155A, MAL, SFRP1, S100A2, BST2 \n",
      "\t   KITLG, PDE1A, KRT19, CSGALNACT1, MUC1, KRT7, ACSL4, SNED1, ITGA2, PKHD1 \n",
      "\t   TFCP2L1, SKAP1, LRP1B, SCN2A, GPRC5A, ARHGEF38, PCSK5, TFAP2B, DENND2A, HOXB3 \n",
      "PC_ 2 \n",
      "Positive:  KCNIP4, SERPINA1, ERBB4, NEAT1, MALAT1, SPP1, MECOM, WFDC2, FTL, SOD2 \n",
      "\t   FTH1, MT1X, AC079352.1, SLPI, FXYD2, APOE, CRYAB, LINC01320, PDE1A, ZIM3 \n",
      "\t   FKBP5, MDM2, ADAMTS9-AS2, CLU, GDF15, LRP1B, SERPINA3, CPD, FGB, PKP4 \n",
      "Negative:  CENPF, TOP2A, MKI67, ASPM, HMGB2, TUBA1B, CCNB1, TPX2, HMMR, NUSAP1 \n",
      "\t   DLGAP5, UBE2C, ANLN, PRC1, CDK1, CEP55, CKS2, PCLAF, RRM2, CDKN3 \n",
      "\t   UBE2S, GTSE1, PBK, CENPE, PTTG1, TUBB4B, HJURP, H2AFZ, BIRC5, CDC20 \n",
      "PC_ 3 \n",
      "Positive:  CDH6, PLCB4, AC079352.1, NEAT1, MALAT1, HMGA2, NRXN3, NLGN1, GPC6, LRMDA \n",
      "\t   NRCAM, CASC19, BICC1, PDE4D, FRMD5, LINC00278, NRG3, RHEX, LINC02257, FN1 \n",
      "\t   TRPM3, DCBLD2, NALCN-AS1, PTPRM, SLC6A6, TMEM178B, FHIT, BNC2, TENM4, NHS \n",
      "Negative:  WFDC2, FXYD2, SLPI, S100A2, KRT19, S100A6, KRT7, BST2, GAPDH, MT1E \n",
      "\t   MAL, FTH1, SAA1, RPS12, RPS19, FTL, S100A11, RPL41, SFRP1, RPL28 \n",
      "\t   MUC1, RPL10, RPL13, MT1X, MT2A, RPS18, GSTP1, TMSB10, RPLP1, CRYAB \n",
      "PC_ 4 \n",
      "Positive:  KRT19, PLCB4, CDH6, SAA2, CASC19, SAA1, PLAU, SLPI, DCBLD2, TUBA1A \n",
      "\t   AL355916.1, AKAP12, ARHGAP29, KRT18, TMSB10, CCND1, KRT7, ITGB8, IGFBP5, NALCN-AS1 \n",
      "\t   FRMD5, ADIRF, C12orf75, ANXA2, SLC6A6, MACC1, FAM107B, S100A6, THBS1, SCEL \n",
      "Negative:  CENPF, TOP2A, MKI67, KCNIP4, SERPINA1, APOE, ASPM, FKBP5, FTL, PLIN2 \n",
      "\t   MT1X, HMGB2, ZIM3, ERBB4, FTH1, NUSAP1, UBE2C, HMMR, AL357507.1, MALAT1 \n",
      "\t   RRAD, TPX2, DLGAP5, GBE1, CCNB1, CDK1, LINC01515, GDF15, ANLN, MDM2 \n",
      "PC_ 5 \n",
      "Positive:  SERPINA1, SLPI, FGB, SAA2, SAA1, CRYAB, SPP1, MT1X, FXYD2, CDH6 \n",
      "\t   APOE, SERPINE2, VCAM1, LINC00278, MT1G, AMACR, AC079352.1, LINC01781, RPS4Y1, CXCL14 \n",
      "\t   CLU, NEAT1, PDE4D, KCNIP4, MMP7, NNMT, SLC3A1, PDZK1IP1, MT1E, TRABD2B \n",
      "Negative:  AL357507.1, SMYD3, AL138828.1, ZIM3, ITPKA, UPP1, GDF15, G0S2, PLIN2, DDIT3 \n",
      "\t   LINC01705, SERPINE1, OLAH, RND3, NUPR1, TRIB3, SQSTM1, HDAC9, CDKN1A, RPS19 \n",
      "\t   HMGA1, AKAP12, MDM2, PAPPA2, KCNMA1, CDH4, RBCK1, CCND1, ANO10, AL591043.2 \n",
      "\n",
      "Warning message:\n",
      "\"The default method for RunUMAP has changed from calling Python UMAP via reticulate to the R-native UWOT using the cosine metric\n",
      "To use Python UMAP via reticulate, set umap.method to 'umap-learn' and metric to 'correlation'\n",
      "This message will be shown once per session\"\n"
     ]
    }
   ],
   "source": [
    "seurat_combined <- SCTransform(seurat_combined, vst.flavor = \"v2\", verbose = FALSE) %>% \n",
    "          RunPCA() %>% \n",
    "          RunUMAP(dims = 1:40, reduction.name = 'umap.rna', reduction.key = 'rnaUMAP_', verbose=FALSE)"
   ]
  },
  {
   "attachments": {},
   "cell_type": "markdown",
   "metadata": {},
   "source": [
    "### Perform clustering"
   ]
  },
  {
   "cell_type": "code",
   "execution_count": 11,
   "metadata": {
    "vscode": {
     "languageId": "r"
    }
   },
   "outputs": [
    {
     "name": "stderr",
     "output_type": "stream",
     "text": [
      "Computing nearest neighbor graph\n",
      "\n",
      "Computing SNN\n",
      "\n"
     ]
    },
    {
     "name": "stdout",
     "output_type": "stream",
     "text": [
      "Modularity Optimizer version 1.3.0 by Ludo Waltman and Nees Jan van Eck\n",
      "\n",
      "Number of nodes: 27141\n",
      "Number of edges: 944607\n",
      "\n",
      "Running Louvain algorithm...\n",
      "Maximum modularity in 10 random starts: 0.8694\n",
      "Number of communities: 13\n",
      "Elapsed time: 6 seconds\n"
     ]
    }
   ],
   "source": [
    "seurat_combined <- FindNeighbors(seurat_combined, reduction = \"pca\", dims = 1:40)\n",
    "seurat_combined <- FindClusters(seurat_combined, resolution = 0.5)"
   ]
  },
  {
   "attachments": {},
   "cell_type": "markdown",
   "metadata": {},
   "source": [
    "## Add stats slot"
   ]
  },
  {
   "cell_type": "code",
   "execution_count": 12,
   "metadata": {
    "vscode": {
     "languageId": "r"
    }
   },
   "outputs": [],
   "source": [
    "df_stats = NULL\n",
    "for(i in 1:length(seurat_list)) {\n",
    "    df_stats = rbind(df_stats, as.data.frame(seurat_list[[i]]@misc$stats))\n",
    "}\n",
    "\n",
    "Misc(seurat_combined, slot = 'stats') <- df_stats"
   ]
  },
  {
   "attachments": {},
   "cell_type": "markdown",
   "metadata": {},
   "source": [
    "### Save H5"
   ]
  },
  {
   "cell_type": "code",
   "execution_count": 13,
   "metadata": {
    "vscode": {
     "languageId": "r"
    }
   },
   "outputs": [
    {
     "name": "stderr",
     "output_type": "stream",
     "text": [
      "Warning message:\n",
      "\"Overwriting previous file /home/vsevim/prj/1012-ckd/S1/analysis/secondary/integrated/seurat_objects/integrated_wo_guide_calls.h5seurat\"\n",
      "Creating h5Seurat file for version 3.1.5.9900\n",
      "\n"
     ]
    }
   ],
   "source": [
    "SaveH5Seurat(seurat_combined, integrated_h5_path, verbose = FALSE, overwrite = T)"
   ]
  },
  {
   "cell_type": "code",
   "execution_count": 14,
   "metadata": {
    "vscode": {
     "languageId": "r"
    }
   },
   "outputs": [
    {
     "data": {
      "text/html": [
       "<table class=\"dataframe\">\n",
       "<caption>A data.frame: 4 × 17</caption>\n",
       "<thead>\n",
       "\t<tr><th scope=col>Screen</th><th scope=col>Library</th><th scope=col>Cells_recovered</th><th scope=col>Genes_recovered</th><th scope=col>Protospacers_in_assay</th><th scope=col>Max_mito_perc_threshold</th><th scope=col>Min_mito_perc_threshold</th><th scope=col>Max_n_RNA_threshold</th><th scope=col>Min_n_RNA_threshold</th><th scope=col>Max_n_genes_threshold</th><th scope=col>Min_n_genes_threshold</th><th scope=col>Cells_after_QC_filtering</th><th scope=col>Cells_with_sgRNA_count_less_than_100</th><th scope=col>Doublets_in_filtered_cells</th><th scope=col>Total_doublets_before_filtering</th><th scope=col>Singlets_after_filtering</th><th scope=col>Singlets_perc_after_filtering</th></tr>\n",
       "\t<tr><th scope=col>&lt;chr&gt;</th><th scope=col>&lt;chr&gt;</th><th scope=col>&lt;int&gt;</th><th scope=col>&lt;int&gt;</th><th scope=col>&lt;int&gt;</th><th scope=col>&lt;dbl&gt;</th><th scope=col>&lt;dbl&gt;</th><th scope=col>&lt;dbl&gt;</th><th scope=col>&lt;dbl&gt;</th><th scope=col>&lt;dbl&gt;</th><th scope=col>&lt;dbl&gt;</th><th scope=col>&lt;int&gt;</th><th scope=col>&lt;int&gt;</th><th scope=col>&lt;int&gt;</th><th scope=col>&lt;int&gt;</th><th scope=col>&lt;int&gt;</th><th scope=col>&lt;dbl&gt;</th></tr>\n",
       "</thead>\n",
       "<tbody>\n",
       "\t<tr><td>Screen1_66guides</td><td>Lib_1</td><td>9169</td><td>31847</td><td>132</td><td>17</td><td>3</td><td>98264</td><td>-22058</td><td>12173</td><td>2000</td><td>8012</td><td>1785</td><td> 718</td><td> 918</td><td>7293</td><td>0.91</td></tr>\n",
       "\t<tr><td>Screen1_66guides</td><td>Lib_2</td><td>9443</td><td>30856</td><td>132</td><td>18</td><td>3</td><td>52856</td><td>-10516</td><td> 9736</td><td>2000</td><td>8565</td><td>2220</td><td>1033</td><td>1168</td><td>7527</td><td>0.88</td></tr>\n",
       "\t<tr><td>Screen1_66guides</td><td>Lib_3</td><td>7113</td><td>29531</td><td>132</td><td>17</td><td>3</td><td>34198</td><td> -5058</td><td> 8024</td><td>2000</td><td>6298</td><td>1128</td><td> 512</td><td> 617</td><td>5785</td><td>0.92</td></tr>\n",
       "\t<tr><td>Screen1_66guides</td><td>Lib_4</td><td>8015</td><td>31390</td><td>132</td><td>17</td><td>3</td><td>79578</td><td>-14582</td><td>11188</td><td>2000</td><td>7201</td><td>1572</td><td> 665</td><td> 793</td><td>6536</td><td>0.91</td></tr>\n",
       "</tbody>\n",
       "</table>\n"
      ],
      "text/latex": [
       "A data.frame: 4 × 17\n",
       "\\begin{tabular}{lllllllllllllllll}\n",
       " Screen & Library & Cells\\_recovered & Genes\\_recovered & Protospacers\\_in\\_assay & Max\\_mito\\_perc\\_threshold & Min\\_mito\\_perc\\_threshold & Max\\_n\\_RNA\\_threshold & Min\\_n\\_RNA\\_threshold & Max\\_n\\_genes\\_threshold & Min\\_n\\_genes\\_threshold & Cells\\_after\\_QC\\_filtering & Cells\\_with\\_sgRNA\\_count\\_less\\_than\\_100 & Doublets\\_in\\_filtered\\_cells & Total\\_doublets\\_before\\_filtering & Singlets\\_after\\_filtering & Singlets\\_perc\\_after\\_filtering\\\\\n",
       " <chr> & <chr> & <int> & <int> & <int> & <dbl> & <dbl> & <dbl> & <dbl> & <dbl> & <dbl> & <int> & <int> & <int> & <int> & <int> & <dbl>\\\\\n",
       "\\hline\n",
       "\t Screen1\\_66guides & Lib\\_1 & 9169 & 31847 & 132 & 17 & 3 & 98264 & -22058 & 12173 & 2000 & 8012 & 1785 &  718 &  918 & 7293 & 0.91\\\\\n",
       "\t Screen1\\_66guides & Lib\\_2 & 9443 & 30856 & 132 & 18 & 3 & 52856 & -10516 &  9736 & 2000 & 8565 & 2220 & 1033 & 1168 & 7527 & 0.88\\\\\n",
       "\t Screen1\\_66guides & Lib\\_3 & 7113 & 29531 & 132 & 17 & 3 & 34198 &  -5058 &  8024 & 2000 & 6298 & 1128 &  512 &  617 & 5785 & 0.92\\\\\n",
       "\t Screen1\\_66guides & Lib\\_4 & 8015 & 31390 & 132 & 17 & 3 & 79578 & -14582 & 11188 & 2000 & 7201 & 1572 &  665 &  793 & 6536 & 0.91\\\\\n",
       "\\end{tabular}\n"
      ],
      "text/markdown": [
       "\n",
       "A data.frame: 4 × 17\n",
       "\n",
       "| Screen &lt;chr&gt; | Library &lt;chr&gt; | Cells_recovered &lt;int&gt; | Genes_recovered &lt;int&gt; | Protospacers_in_assay &lt;int&gt; | Max_mito_perc_threshold &lt;dbl&gt; | Min_mito_perc_threshold &lt;dbl&gt; | Max_n_RNA_threshold &lt;dbl&gt; | Min_n_RNA_threshold &lt;dbl&gt; | Max_n_genes_threshold &lt;dbl&gt; | Min_n_genes_threshold &lt;dbl&gt; | Cells_after_QC_filtering &lt;int&gt; | Cells_with_sgRNA_count_less_than_100 &lt;int&gt; | Doublets_in_filtered_cells &lt;int&gt; | Total_doublets_before_filtering &lt;int&gt; | Singlets_after_filtering &lt;int&gt; | Singlets_perc_after_filtering &lt;dbl&gt; |\n",
       "|---|---|---|---|---|---|---|---|---|---|---|---|---|---|---|---|---|\n",
       "| Screen1_66guides | Lib_1 | 9169 | 31847 | 132 | 17 | 3 | 98264 | -22058 | 12173 | 2000 | 8012 | 1785 |  718 |  918 | 7293 | 0.91 |\n",
       "| Screen1_66guides | Lib_2 | 9443 | 30856 | 132 | 18 | 3 | 52856 | -10516 |  9736 | 2000 | 8565 | 2220 | 1033 | 1168 | 7527 | 0.88 |\n",
       "| Screen1_66guides | Lib_3 | 7113 | 29531 | 132 | 17 | 3 | 34198 |  -5058 |  8024 | 2000 | 6298 | 1128 |  512 |  617 | 5785 | 0.92 |\n",
       "| Screen1_66guides | Lib_4 | 8015 | 31390 | 132 | 17 | 3 | 79578 | -14582 | 11188 | 2000 | 7201 | 1572 |  665 |  793 | 6536 | 0.91 |\n",
       "\n"
      ],
      "text/plain": [
       "  Screen           Library Cells_recovered Genes_recovered\n",
       "1 Screen1_66guides Lib_1   9169            31847          \n",
       "2 Screen1_66guides Lib_2   9443            30856          \n",
       "3 Screen1_66guides Lib_3   7113            29531          \n",
       "4 Screen1_66guides Lib_4   8015            31390          \n",
       "  Protospacers_in_assay Max_mito_perc_threshold Min_mito_perc_threshold\n",
       "1 132                   17                      3                      \n",
       "2 132                   18                      3                      \n",
       "3 132                   17                      3                      \n",
       "4 132                   17                      3                      \n",
       "  Max_n_RNA_threshold Min_n_RNA_threshold Max_n_genes_threshold\n",
       "1 98264               -22058              12173                \n",
       "2 52856               -10516               9736                \n",
       "3 34198                -5058               8024                \n",
       "4 79578               -14582              11188                \n",
       "  Min_n_genes_threshold Cells_after_QC_filtering\n",
       "1 2000                  8012                    \n",
       "2 2000                  8565                    \n",
       "3 2000                  6298                    \n",
       "4 2000                  7201                    \n",
       "  Cells_with_sgRNA_count_less_than_100 Doublets_in_filtered_cells\n",
       "1 1785                                  718                      \n",
       "2 2220                                 1033                      \n",
       "3 1128                                  512                      \n",
       "4 1572                                  665                      \n",
       "  Total_doublets_before_filtering Singlets_after_filtering\n",
       "1  918                            7293                    \n",
       "2 1168                            7527                    \n",
       "3  617                            5785                    \n",
       "4  793                            6536                    \n",
       "  Singlets_perc_after_filtering\n",
       "1 0.91                         \n",
       "2 0.88                         \n",
       "3 0.92                         \n",
       "4 0.91                         "
      ]
     },
     "metadata": {},
     "output_type": "display_data"
    }
   ],
   "source": [
    "df_stats"
   ]
  },
  {
   "cell_type": "code",
   "execution_count": 15,
   "metadata": {
    "vscode": {
     "languageId": "r"
    }
   },
   "outputs": [
    {
     "data": {
      "text/html": [
       "7293"
      ],
      "text/latex": [
       "7293"
      ],
      "text/markdown": [
       "7293"
      ],
      "text/plain": [
       "[1] 7293"
      ]
     },
     "metadata": {},
     "output_type": "display_data"
    }
   ],
   "source": [
    "nrow(seurat_list[[1]]@meta.data)"
   ]
  },
  {
   "cell_type": "code",
   "execution_count": 16,
   "metadata": {
    "vscode": {
     "languageId": "r"
    }
   },
   "outputs": [
    {
     "data": {
      "text/html": [
       "7293"
      ],
      "text/latex": [
       "7293"
      ],
      "text/markdown": [
       "7293"
      ],
      "text/plain": [
       "[1] 7293"
      ]
     },
     "metadata": {},
     "output_type": "display_data"
    },
    {
     "data": {
      "text/html": [
       "7293"
      ],
      "text/latex": [
       "7293"
      ],
      "text/markdown": [
       "7293"
      ],
      "text/plain": [
       "[1] 7293"
      ]
     },
     "metadata": {},
     "output_type": "display_data"
    }
   ],
   "source": [
    "length(Cells(subset(seurat_combined, subset = library == 'Lib_1')))\n",
    "length(Cells(subset(seurat_combined, subset = (status == 'singlet') & (library == 'Lib_1') )))"
   ]
  },
  {
   "cell_type": "code",
   "execution_count": 17,
   "metadata": {
    "vscode": {
     "languageId": "r"
    }
   },
   "outputs": [
    {
     "data": {
      "text/html": [
       "'singlet'"
      ],
      "text/latex": [
       "'singlet'"
      ],
      "text/markdown": [
       "'singlet'"
      ],
      "text/plain": [
       "[1] \"singlet\""
      ]
     },
     "metadata": {},
     "output_type": "display_data"
    }
   ],
   "source": [
    "unique(seurat_combined$status)"
   ]
  },
  {
   "cell_type": "code",
   "execution_count": 18,
   "metadata": {
    "vscode": {
     "languageId": "r"
    }
   },
   "outputs": [
    {
     "data": {
      "text/html": [
       "'singlet'"
      ],
      "text/latex": [
       "'singlet'"
      ],
      "text/markdown": [
       "'singlet'"
      ],
      "text/plain": [
       "[1] \"singlet\""
      ]
     },
     "metadata": {},
     "output_type": "display_data"
    }
   ],
   "source": [
    "unique(seurat_list[[4]]$status)"
   ]
  },
  {
   "cell_type": "code",
   "execution_count": null,
   "metadata": {
    "vscode": {
     "languageId": "r"
    }
   },
   "outputs": [],
   "source": []
  }
 ],
 "metadata": {
  "kernelspec": {
   "display_name": "R",
   "language": "R",
   "name": "ir"
  },
  "language_info": {
   "codemirror_mode": "r",
   "file_extension": ".r",
   "mimetype": "text/x-r-source",
   "name": "R",
   "pygments_lexer": "r",
   "version": "4.2.2"
  },
  "orig_nbformat": 4
 },
 "nbformat": 4,
 "nbformat_minor": 2
}
