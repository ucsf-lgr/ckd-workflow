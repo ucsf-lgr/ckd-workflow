{
 "cells": [
  {
   "cell_type": "code",
   "execution_count": 1,
   "id": "f51026d3-b958-4195-b53d-d217c9dadaf3",
   "metadata": {
    "tags": [],
    "vscode": {
     "languageId": "r"
    }
   },
   "outputs": [],
   "source": [
    "suppressWarnings(suppressPackageStartupMessages({\n",
    "    library(Seurat)\n",
    "    library(Signac)\n",
    "    library(EnsDb.Hsapiens.v86)\n",
    "    library(dplyr)\n",
    "    library(ggplot2)\n",
    "    library(bedr)\n",
    "    library(SeuratDisk)\n",
    "    library(scales)\n",
    "    library(reshape2)\n",
    "    library(Hmisc)\n",
    "    library(tidyr)\n",
    "    library(tidyverse)\n",
    "    library(crayon)\n",
    "    library(readr)\n",
    "}))"
   ]
  },
  {
   "cell_type": "markdown",
   "id": "de9f2409",
   "metadata": {},
   "source": [
    "# Definitions etc"
   ]
  },
  {
   "cell_type": "code",
   "execution_count": 2,
   "id": "9da36b18-b07b-4fc6-8b07-b3fbbff188f8",
   "metadata": {
    "vscode": {
     "languageId": "r"
    }
   },
   "outputs": [],
   "source": [
    "set.seed(1234)\n",
    "options(digits=2)\n",
    "stats <- c()"
   ]
  },
  {
   "cell_type": "code",
   "execution_count": 3,
   "id": "f37099e4-6009-4120-923f-14e56f2d4e80",
   "metadata": {
    "tags": [],
    "vscode": {
     "languageId": "r"
    }
   },
   "outputs": [],
   "source": [
    "if(!exists(\"papermill_run\")) {\n",
    "    prj_name = \"Screen1_66guides\"\n",
    "    data_subdir_suffixes = \"L1,L2,L3,L4\"     \n",
    "    secondary_a_path = \"/home/vsevim/prj/1012-ckd/S1/analysis/secondary/\"\n",
    "    save_seurat_h5 = \"YES\"\n",
    "}"
   ]
  },
  {
   "cell_type": "code",
   "execution_count": 4,
   "id": "57df8789",
   "metadata": {
    "vscode": {
     "languageId": "r"
    }
   },
   "outputs": [],
   "source": [
    "custom_theme <- theme(\n",
    "  plot.title = element_text(size=16, hjust = 0.5), \n",
    "  legend.key.size = unit(0.7, \"cm\"), \n",
    "  legend.text = element_text(size = 14))"
   ]
  },
  {
   "cell_type": "markdown",
   "metadata": {},
   "source": [
    "### Load Seurat file"
   ]
  },
  {
   "cell_type": "code",
   "execution_count": 5,
   "metadata": {
    "vscode": {
     "languageId": "r"
    }
   },
   "outputs": [
    {
     "name": "stderr",
     "output_type": "stream",
     "text": [
      "Validating h5Seurat file\n",
      "\n",
      "Warning message:\n",
      "\"Adding a command log without an assay associated with it\"\n"
     ]
    }
   ],
   "source": [
    "integrated_h5_path <- \"/home/vsevim/prj/1012-ckd/S1/analysis/secondary/integrated/seurat_objects/integrated.h5seurat\"\n",
    "seurat_combined    <- LoadH5Seurat(integrated_h5_path, verbose = FALSE)"
   ]
  },
  {
   "cell_type": "markdown",
   "metadata": {},
   "source": [
    "Load THRESHOLDS.tsv"
   ]
  },
  {
   "cell_type": "code",
   "execution_count": null,
   "metadata": {
    "vscode": {
     "languageId": "r"
    }
   },
   "outputs": [],
   "source": [
    "thr_f_name = paste0(secondary_a_path, \"/integrated/THRESHOLDS.tsv\")"
   ]
  },
  {
   "cell_type": "markdown",
   "metadata": {},
   "source": [
    "# Differential expression"
   ]
  },
  {
   "cell_type": "markdown",
   "metadata": {},
   "source": [
    "Split construct+/- cells"
   ]
  },
  {
   "cell_type": "code",
   "execution_count": 7,
   "metadata": {
    "vscode": {
     "languageId": "r"
    }
   },
   "outputs": [
    {
     "data": {
      "text/plain": [
       "\n",
       "Lib_1 Lib_2 Lib_3 Lib_4 \n",
       " 6653  6936  5111  5863 "
      ]
     },
     "metadata": {},
     "output_type": "display_data"
    }
   ],
   "source": [
    "table(seurat_combined$library)"
   ]
  },
  {
   "cell_type": "code",
   "execution_count": 17,
   "metadata": {
    "vscode": {
     "languageId": "r"
    }
   },
   "outputs": [
    {
     "name": "stderr",
     "output_type": "stream",
     "text": [
      "  [[ suppressing 34 column names 'AGCTCAATCGTAGGGA-1_1', 'CAACAGTTCCTAGCGG-1_1', 'AAACGCTCAGTTAGAA-1_1' ... ]]\n",
      "\n"
     ]
    },
    {
     "data": {
      "text/plain": [
       "6 x 24563 sparse Matrix of class \"dgCMatrix\"\n",
       "                                                                           \n",
       "CD13-1a . . . . . . . 1 . . 2 . . . . . . . . . . . . . . . . . . . . . . .\n",
       "CD13-1b . . . . . . . 1 . . . . . . . . . . . . . . . . . . . 1 . . 1 . . .\n",
       "CD55-1a . . . . . . . . . . . . . . . . . 1 . . . . . . . . . . . . . . . .\n",
       "CD55-1b . 2 . . . . . 2 . 2 3 1 . . . . . 1 . 1 1 . . . . 2 . . . 1 . . 1 1\n",
       "CD73-1a . . . . . . . 1 . . . . . . . . . . . . . . . . . . . . . . . . . .\n",
       "CD73-1b . . . . . . . 1 . . . . . . . . . . . . 1 1 1 . . . 1 . . . 2 . . .\n",
       "              \n",
       "CD13-1a ......\n",
       "CD13-1b ......\n",
       "CD55-1a ......\n",
       "CD55-1b ......\n",
       "CD73-1a ......\n",
       "CD73-1b ......\n",
       "\n",
       " .....suppressing 24529 columns in show(); maybe adjust 'options(max.print= *, width = *)'\n",
       " .............................."
      ]
     },
     "metadata": {},
     "output_type": "display_data"
    }
   ],
   "source": [
    "head(seurat_combined[['sgRNA']]@counts)"
   ]
  },
  {
   "cell_type": "code",
   "execution_count": null,
   "metadata": {
    "vscode": {
     "languageId": "r"
    }
   },
   "outputs": [],
   "source": [
    "seurat_dummy <- seurat[['RNA']]"
   ]
  }
 ],
 "metadata": {
  "kernelspec": {
   "display_name": "R",
   "language": "R",
   "name": "ir"
  },
  "language_info": {
   "codemirror_mode": "r",
   "file_extension": ".r",
   "mimetype": "text/x-r-source",
   "name": "R",
   "pygments_lexer": "r",
   "version": "4.2.2"
  },
  "orig_nbformat": 4
 },
 "nbformat": 4,
 "nbformat_minor": 2
}
