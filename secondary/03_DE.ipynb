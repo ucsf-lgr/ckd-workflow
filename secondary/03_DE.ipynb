{
 "cells": [
  {
   "cell_type": "code",
   "execution_count": 1,
   "id": "f51026d3-b958-4195-b53d-d217c9dadaf3",
   "metadata": {
    "tags": [],
    "vscode": {
     "languageId": "r"
    }
   },
   "outputs": [],
   "source": [
    "suppressWarnings(suppressPackageStartupMessages({\n",
    "    library(Seurat)\n",
    "    library(Signac)\n",
    "    library(EnsDb.Hsapiens.v86)\n",
    "    library(dplyr)\n",
    "    library(ggplot2)\n",
    "    library(bedr)\n",
    "    library(SeuratDisk)\n",
    "    library(scales)\n",
    "    library(reshape2)\n",
    "    library(Hmisc)\n",
    "    library(tidyr)\n",
    "    library(tidyverse)\n",
    "    library(crayon)\n",
    "    library(SeuratData)\n",
    "    library(CelliD)\n",
    "    library(readr)\n",
    "}))"
   ]
  },
  {
   "cell_type": "markdown",
   "id": "de9f2409",
   "metadata": {},
   "source": [
    "# Definitions etc"
   ]
  },
  {
   "cell_type": "code",
   "execution_count": 2,
   "id": "9da36b18-b07b-4fc6-8b07-b3fbbff188f8",
   "metadata": {
    "vscode": {
     "languageId": "r"
    }
   },
   "outputs": [],
   "source": [
    "set.seed(1234)\n",
    "options(digits=2)\n",
    "stats <- c()"
   ]
  },
  {
   "cell_type": "code",
   "execution_count": 3,
   "id": "f37099e4-6009-4120-923f-14e56f2d4e80",
   "metadata": {
    "tags": [],
    "vscode": {
     "languageId": "r"
    }
   },
   "outputs": [],
   "source": [
    "if(!exists(\"papermill_run\")) {\n",
    "    prj_name = \"Screen1_66guides\"\n",
    "    data_subdir_suffixes = \"L1,L2,L3,L4\"     \n",
    "    secondary_a_path = \"/home/vsevim/prj/1012-ckd/S1/analysis/secondary/\"\n",
    "    save_seurat_h5 = \"YES\"\n",
    "}"
   ]
  },
  {
   "cell_type": "code",
   "execution_count": 4,
   "id": "57df8789",
   "metadata": {
    "vscode": {
     "languageId": "r"
    }
   },
   "outputs": [],
   "source": [
    "custom_theme <- theme(\n",
    "  plot.title = element_text(size=16, hjust = 0.5), \n",
    "  legend.key.size = unit(0.7, \"cm\"), \n",
    "  legend.text = element_text(size = 14))"
   ]
  },
  {
   "cell_type": "markdown",
   "metadata": {},
   "source": [
    "### Load Seurat file"
   ]
  },
  {
   "cell_type": "code",
   "execution_count": 5,
   "metadata": {
    "vscode": {
     "languageId": "r"
    }
   },
   "outputs": [
    {
     "name": "stderr",
     "output_type": "stream",
     "text": [
      "Validating h5Seurat file\n",
      "\n",
      "Warning message:\n",
      "\"Adding a command log without an assay associated with it\"\n"
     ]
    }
   ],
   "source": [
    "integrated_h5_path <- \"/home/vsevim/prj/1012-ckd/S1/analysis/secondary/integrated/seurat_objects/integrated.h5seurat\"\n",
    "seurat_combined    <- LoadH5Seurat(integrated_h5_path, verbose = FALSE)"
   ]
  },
  {
   "cell_type": "markdown",
   "metadata": {},
   "source": [
    "# Differential expression"
   ]
  },
  {
   "cell_type": "markdown",
   "metadata": {},
   "source": [
    "Split construct+/- cells"
   ]
  },
  {
   "cell_type": "code",
   "execution_count": 7,
   "metadata": {
    "vscode": {
     "languageId": "r"
    }
   },
   "outputs": [
    {
     "data": {
      "text/html": [
       "<table class=\"dataframe\">\n",
       "<caption>A data.frame: 10 × 19</caption>\n",
       "<thead>\n",
       "\t<tr><th></th><th scope=col>nCount_RNA</th><th scope=col>nFeature_RNA</th><th scope=col>nCount_sgRNA</th><th scope=col>nFeature_sgRNA</th><th scope=col>nCount_SCT</th><th scope=col>nFeature_SCT</th><th scope=col>orig.ident</th><th scope=col>library</th><th scope=col>percent.mt</th><th scope=col>PS_call</th><th scope=col>construct_call</th><th scope=col>target_call</th><th scope=col>nCalled_Constructs</th><th scope=col>nPS_calls</th><th scope=col>nCalled_sgRNA_UMIs</th><th scope=col>status</th><th scope=col>donor</th><th scope=col>SCT_snn_res.0.5</th><th scope=col>seurat_clusters</th></tr>\n",
       "\t<tr><th></th><th scope=col>&lt;dbl&gt;</th><th scope=col>&lt;int&gt;</th><th scope=col>&lt;dbl&gt;</th><th scope=col>&lt;int&gt;</th><th scope=col>&lt;dbl&gt;</th><th scope=col>&lt;int&gt;</th><th scope=col>&lt;chr&gt;</th><th scope=col>&lt;chr&gt;</th><th scope=col>&lt;dbl&gt;</th><th scope=col>&lt;chr&gt;</th><th scope=col>&lt;chr&gt;</th><th scope=col>&lt;chr&gt;</th><th scope=col>&lt;int&gt;</th><th scope=col>&lt;int&gt;</th><th scope=col>&lt;chr&gt;</th><th scope=col>&lt;chr&gt;</th><th scope=col>&lt;chr&gt;</th><th scope=col>&lt;fct&gt;</th><th scope=col>&lt;fct&gt;</th></tr>\n",
       "</thead>\n",
       "<tbody>\n",
       "\t<tr><th scope=row>AGCTCAATCGTAGGGA-1_1</th><td>32644</td><td>5712</td><td>  92</td><td> 9</td><td>28010</td><td>5671</td><td>Screen1_66guides</td><td>Lib_1</td><td> 4.8</td><td>C15orf40_1a            </td><td>C15orf40_1</td><td>C15orf40</td><td>1</td><td>1</td><td>57       </td><td>singlet</td><td>3  </td><td>2</td><td>2</td></tr>\n",
       "\t<tr><th scope=row>CAACAGTTCCTAGCGG-1_1</th><td>40788</td><td>6939</td><td>1412</td><td>23</td><td>27919</td><td>6655</td><td>Screen1_66guides</td><td>Lib_1</td><td> 6.4</td><td>C15orf40_1a            </td><td>C15orf40_1</td><td>C15orf40</td><td>1</td><td>1</td><td>1383     </td><td>doublet</td><td>1/2</td><td>0</td><td>0</td></tr>\n",
       "\t<tr><th scope=row>AAACGCTCAGTTAGAA-1_1</th><td>44827</td><td>7247</td><td>3081</td><td>27</td><td>27830</td><td>6556</td><td>Screen1_66guides</td><td>Lib_1</td><td> 9.7</td><td>C15orf40_1a|C15orf40_1b</td><td>C15orf40_1</td><td>C15orf40</td><td>1</td><td>2</td><td>1302|1753</td><td>singlet</td><td>0  </td><td>3</td><td>3</td></tr>\n",
       "\t<tr><th scope=row>AAAGGATAGCGATTCT-1_1</th><td>50419</td><td>7705</td><td>2006</td><td>14</td><td>28153</td><td>6639</td><td>Screen1_66guides</td><td>Lib_1</td><td> 9.5</td><td>C15orf40_1a|C15orf40_1b</td><td>C15orf40_1</td><td>C15orf40</td><td>1</td><td>2</td><td>428|1565 </td><td>singlet</td><td>0  </td><td>2</td><td>2</td></tr>\n",
       "\t<tr><th scope=row>ATCGGCGGTCTAGATC-1_1</th><td>40213</td><td>6389</td><td>4873</td><td>32</td><td>27819</td><td>6124</td><td>Screen1_66guides</td><td>Lib_1</td><td> 6.9</td><td>C15orf40_1a|C15orf40_1b</td><td>C15orf40_1</td><td>C15orf40</td><td>1</td><td>2</td><td>1515|3322</td><td>singlet</td><td>2  </td><td>2</td><td>2</td></tr>\n",
       "\t<tr><th scope=row>ATTCCCGCATCCGCGA-1_1</th><td>30000</td><td>6331</td><td>2212</td><td>15</td><td>27913</td><td>6262</td><td>Screen1_66guides</td><td>Lib_1</td><td> 9.7</td><td>C15orf40_1a|C15orf40_1b</td><td>C15orf40_1</td><td>C15orf40</td><td>1</td><td>2</td><td>606|1592 </td><td>doublet</td><td>1/2</td><td>3</td><td>3</td></tr>\n",
       "\t<tr><th scope=row>CAAGAGGCAGTTCTAG-1_1</th><td>32899</td><td>5995</td><td> 783</td><td> 9</td><td>28043</td><td>5935</td><td>Screen1_66guides</td><td>Lib_1</td><td> 5.6</td><td>C15orf40_1a|C15orf40_1b</td><td>C15orf40_1</td><td>C15orf40</td><td>1</td><td>2</td><td>343|433  </td><td>singlet</td><td>1  </td><td>3</td><td>3</td></tr>\n",
       "\t<tr><th scope=row>CCTGCATTCAAGCCAT-1_1</th><td>39516</td><td>7020</td><td>4468</td><td>87</td><td>27997</td><td>6802</td><td>Screen1_66guides</td><td>Lib_1</td><td>12.0</td><td>C15orf40_1a|C15orf40_1b</td><td>C15orf40_1</td><td>C15orf40</td><td>1</td><td>2</td><td>1943|2353</td><td>singlet</td><td>1  </td><td>3</td><td>3</td></tr>\n",
       "\t<tr><th scope=row>GTAATCGCACATACGT-1_1</th><td>72098</td><td>9371</td><td>2916</td><td>23</td><td>27635</td><td>6632</td><td>Screen1_66guides</td><td>Lib_1</td><td> 7.1</td><td>C15orf40_1a|C15orf40_1b</td><td>C15orf40_1</td><td>C15orf40</td><td>1</td><td>2</td><td>1337|1554</td><td>singlet</td><td>1  </td><td>1</td><td>1</td></tr>\n",
       "\t<tr><th scope=row>GTACAACGTGTGATGG-1_1</th><td>45773</td><td>7442</td><td>6414</td><td>30</td><td>28063</td><td>6796</td><td>Screen1_66guides</td><td>Lib_1</td><td>12.5</td><td>C15orf40_1a|C15orf40_1b</td><td>C15orf40_1</td><td>C15orf40</td><td>1</td><td>2</td><td>3233|3145</td><td>singlet</td><td>2  </td><td>3</td><td>3</td></tr>\n",
       "</tbody>\n",
       "</table>\n"
      ],
      "text/latex": [
       "A data.frame: 10 × 19\n",
       "\\begin{tabular}{r|lllllllllllllllllll}\n",
       "  & nCount\\_RNA & nFeature\\_RNA & nCount\\_sgRNA & nFeature\\_sgRNA & nCount\\_SCT & nFeature\\_SCT & orig.ident & library & percent.mt & PS\\_call & construct\\_call & target\\_call & nCalled\\_Constructs & nPS\\_calls & nCalled\\_sgRNA\\_UMIs & status & donor & SCT\\_snn\\_res.0.5 & seurat\\_clusters\\\\\n",
       "  & <dbl> & <int> & <dbl> & <int> & <dbl> & <int> & <chr> & <chr> & <dbl> & <chr> & <chr> & <chr> & <int> & <int> & <chr> & <chr> & <chr> & <fct> & <fct>\\\\\n",
       "\\hline\n",
       "\tAGCTCAATCGTAGGGA-1\\_1 & 32644 & 5712 &   92 &  9 & 28010 & 5671 & Screen1\\_66guides & Lib\\_1 &  4.8 & C15orf40\\_1a             & C15orf40\\_1 & C15orf40 & 1 & 1 & 57        & singlet & 3   & 2 & 2\\\\\n",
       "\tCAACAGTTCCTAGCGG-1\\_1 & 40788 & 6939 & 1412 & 23 & 27919 & 6655 & Screen1\\_66guides & Lib\\_1 &  6.4 & C15orf40\\_1a             & C15orf40\\_1 & C15orf40 & 1 & 1 & 1383      & doublet & 1/2 & 0 & 0\\\\\n",
       "\tAAACGCTCAGTTAGAA-1\\_1 & 44827 & 7247 & 3081 & 27 & 27830 & 6556 & Screen1\\_66guides & Lib\\_1 &  9.7 & C15orf40\\_1a\\textbar{}C15orf40\\_1b & C15orf40\\_1 & C15orf40 & 1 & 2 & 1302\\textbar{}1753 & singlet & 0   & 3 & 3\\\\\n",
       "\tAAAGGATAGCGATTCT-1\\_1 & 50419 & 7705 & 2006 & 14 & 28153 & 6639 & Screen1\\_66guides & Lib\\_1 &  9.5 & C15orf40\\_1a\\textbar{}C15orf40\\_1b & C15orf40\\_1 & C15orf40 & 1 & 2 & 428\\textbar{}1565  & singlet & 0   & 2 & 2\\\\\n",
       "\tATCGGCGGTCTAGATC-1\\_1 & 40213 & 6389 & 4873 & 32 & 27819 & 6124 & Screen1\\_66guides & Lib\\_1 &  6.9 & C15orf40\\_1a\\textbar{}C15orf40\\_1b & C15orf40\\_1 & C15orf40 & 1 & 2 & 1515\\textbar{}3322 & singlet & 2   & 2 & 2\\\\\n",
       "\tATTCCCGCATCCGCGA-1\\_1 & 30000 & 6331 & 2212 & 15 & 27913 & 6262 & Screen1\\_66guides & Lib\\_1 &  9.7 & C15orf40\\_1a\\textbar{}C15orf40\\_1b & C15orf40\\_1 & C15orf40 & 1 & 2 & 606\\textbar{}1592  & doublet & 1/2 & 3 & 3\\\\\n",
       "\tCAAGAGGCAGTTCTAG-1\\_1 & 32899 & 5995 &  783 &  9 & 28043 & 5935 & Screen1\\_66guides & Lib\\_1 &  5.6 & C15orf40\\_1a\\textbar{}C15orf40\\_1b & C15orf40\\_1 & C15orf40 & 1 & 2 & 343\\textbar{}433   & singlet & 1   & 3 & 3\\\\\n",
       "\tCCTGCATTCAAGCCAT-1\\_1 & 39516 & 7020 & 4468 & 87 & 27997 & 6802 & Screen1\\_66guides & Lib\\_1 & 12.0 & C15orf40\\_1a\\textbar{}C15orf40\\_1b & C15orf40\\_1 & C15orf40 & 1 & 2 & 1943\\textbar{}2353 & singlet & 1   & 3 & 3\\\\\n",
       "\tGTAATCGCACATACGT-1\\_1 & 72098 & 9371 & 2916 & 23 & 27635 & 6632 & Screen1\\_66guides & Lib\\_1 &  7.1 & C15orf40\\_1a\\textbar{}C15orf40\\_1b & C15orf40\\_1 & C15orf40 & 1 & 2 & 1337\\textbar{}1554 & singlet & 1   & 1 & 1\\\\\n",
       "\tGTACAACGTGTGATGG-1\\_1 & 45773 & 7442 & 6414 & 30 & 28063 & 6796 & Screen1\\_66guides & Lib\\_1 & 12.5 & C15orf40\\_1a\\textbar{}C15orf40\\_1b & C15orf40\\_1 & C15orf40 & 1 & 2 & 3233\\textbar{}3145 & singlet & 2   & 3 & 3\\\\\n",
       "\\end{tabular}\n"
      ],
      "text/markdown": [
       "\n",
       "A data.frame: 10 × 19\n",
       "\n",
       "| <!--/--> | nCount_RNA &lt;dbl&gt; | nFeature_RNA &lt;int&gt; | nCount_sgRNA &lt;dbl&gt; | nFeature_sgRNA &lt;int&gt; | nCount_SCT &lt;dbl&gt; | nFeature_SCT &lt;int&gt; | orig.ident &lt;chr&gt; | library &lt;chr&gt; | percent.mt &lt;dbl&gt; | PS_call &lt;chr&gt; | construct_call &lt;chr&gt; | target_call &lt;chr&gt; | nCalled_Constructs &lt;int&gt; | nPS_calls &lt;int&gt; | nCalled_sgRNA_UMIs &lt;chr&gt; | status &lt;chr&gt; | donor &lt;chr&gt; | SCT_snn_res.0.5 &lt;fct&gt; | seurat_clusters &lt;fct&gt; |\n",
       "|---|---|---|---|---|---|---|---|---|---|---|---|---|---|---|---|---|---|---|---|\n",
       "| AGCTCAATCGTAGGGA-1_1 | 32644 | 5712 |   92 |  9 | 28010 | 5671 | Screen1_66guides | Lib_1 |  4.8 | C15orf40_1a             | C15orf40_1 | C15orf40 | 1 | 1 | 57        | singlet | 3   | 2 | 2 |\n",
       "| CAACAGTTCCTAGCGG-1_1 | 40788 | 6939 | 1412 | 23 | 27919 | 6655 | Screen1_66guides | Lib_1 |  6.4 | C15orf40_1a             | C15orf40_1 | C15orf40 | 1 | 1 | 1383      | doublet | 1/2 | 0 | 0 |\n",
       "| AAACGCTCAGTTAGAA-1_1 | 44827 | 7247 | 3081 | 27 | 27830 | 6556 | Screen1_66guides | Lib_1 |  9.7 | C15orf40_1a|C15orf40_1b | C15orf40_1 | C15orf40 | 1 | 2 | 1302|1753 | singlet | 0   | 3 | 3 |\n",
       "| AAAGGATAGCGATTCT-1_1 | 50419 | 7705 | 2006 | 14 | 28153 | 6639 | Screen1_66guides | Lib_1 |  9.5 | C15orf40_1a|C15orf40_1b | C15orf40_1 | C15orf40 | 1 | 2 | 428|1565  | singlet | 0   | 2 | 2 |\n",
       "| ATCGGCGGTCTAGATC-1_1 | 40213 | 6389 | 4873 | 32 | 27819 | 6124 | Screen1_66guides | Lib_1 |  6.9 | C15orf40_1a|C15orf40_1b | C15orf40_1 | C15orf40 | 1 | 2 | 1515|3322 | singlet | 2   | 2 | 2 |\n",
       "| ATTCCCGCATCCGCGA-1_1 | 30000 | 6331 | 2212 | 15 | 27913 | 6262 | Screen1_66guides | Lib_1 |  9.7 | C15orf40_1a|C15orf40_1b | C15orf40_1 | C15orf40 | 1 | 2 | 606|1592  | doublet | 1/2 | 3 | 3 |\n",
       "| CAAGAGGCAGTTCTAG-1_1 | 32899 | 5995 |  783 |  9 | 28043 | 5935 | Screen1_66guides | Lib_1 |  5.6 | C15orf40_1a|C15orf40_1b | C15orf40_1 | C15orf40 | 1 | 2 | 343|433   | singlet | 1   | 3 | 3 |\n",
       "| CCTGCATTCAAGCCAT-1_1 | 39516 | 7020 | 4468 | 87 | 27997 | 6802 | Screen1_66guides | Lib_1 | 12.0 | C15orf40_1a|C15orf40_1b | C15orf40_1 | C15orf40 | 1 | 2 | 1943|2353 | singlet | 1   | 3 | 3 |\n",
       "| GTAATCGCACATACGT-1_1 | 72098 | 9371 | 2916 | 23 | 27635 | 6632 | Screen1_66guides | Lib_1 |  7.1 | C15orf40_1a|C15orf40_1b | C15orf40_1 | C15orf40 | 1 | 2 | 1337|1554 | singlet | 1   | 1 | 1 |\n",
       "| GTACAACGTGTGATGG-1_1 | 45773 | 7442 | 6414 | 30 | 28063 | 6796 | Screen1_66guides | Lib_1 | 12.5 | C15orf40_1a|C15orf40_1b | C15orf40_1 | C15orf40 | 1 | 2 | 3233|3145 | singlet | 2   | 3 | 3 |\n",
       "\n"
      ],
      "text/plain": [
       "                     nCount_RNA nFeature_RNA nCount_sgRNA nFeature_sgRNA\n",
       "AGCTCAATCGTAGGGA-1_1 32644      5712           92          9            \n",
       "CAACAGTTCCTAGCGG-1_1 40788      6939         1412         23            \n",
       "AAACGCTCAGTTAGAA-1_1 44827      7247         3081         27            \n",
       "AAAGGATAGCGATTCT-1_1 50419      7705         2006         14            \n",
       "ATCGGCGGTCTAGATC-1_1 40213      6389         4873         32            \n",
       "ATTCCCGCATCCGCGA-1_1 30000      6331         2212         15            \n",
       "CAAGAGGCAGTTCTAG-1_1 32899      5995          783          9            \n",
       "CCTGCATTCAAGCCAT-1_1 39516      7020         4468         87            \n",
       "GTAATCGCACATACGT-1_1 72098      9371         2916         23            \n",
       "GTACAACGTGTGATGG-1_1 45773      7442         6414         30            \n",
       "                     nCount_SCT nFeature_SCT orig.ident       library\n",
       "AGCTCAATCGTAGGGA-1_1 28010      5671         Screen1_66guides Lib_1  \n",
       "CAACAGTTCCTAGCGG-1_1 27919      6655         Screen1_66guides Lib_1  \n",
       "AAACGCTCAGTTAGAA-1_1 27830      6556         Screen1_66guides Lib_1  \n",
       "AAAGGATAGCGATTCT-1_1 28153      6639         Screen1_66guides Lib_1  \n",
       "ATCGGCGGTCTAGATC-1_1 27819      6124         Screen1_66guides Lib_1  \n",
       "ATTCCCGCATCCGCGA-1_1 27913      6262         Screen1_66guides Lib_1  \n",
       "CAAGAGGCAGTTCTAG-1_1 28043      5935         Screen1_66guides Lib_1  \n",
       "CCTGCATTCAAGCCAT-1_1 27997      6802         Screen1_66guides Lib_1  \n",
       "GTAATCGCACATACGT-1_1 27635      6632         Screen1_66guides Lib_1  \n",
       "GTACAACGTGTGATGG-1_1 28063      6796         Screen1_66guides Lib_1  \n",
       "                     percent.mt PS_call                 construct_call\n",
       "AGCTCAATCGTAGGGA-1_1  4.8       C15orf40_1a             C15orf40_1    \n",
       "CAACAGTTCCTAGCGG-1_1  6.4       C15orf40_1a             C15orf40_1    \n",
       "AAACGCTCAGTTAGAA-1_1  9.7       C15orf40_1a|C15orf40_1b C15orf40_1    \n",
       "AAAGGATAGCGATTCT-1_1  9.5       C15orf40_1a|C15orf40_1b C15orf40_1    \n",
       "ATCGGCGGTCTAGATC-1_1  6.9       C15orf40_1a|C15orf40_1b C15orf40_1    \n",
       "ATTCCCGCATCCGCGA-1_1  9.7       C15orf40_1a|C15orf40_1b C15orf40_1    \n",
       "CAAGAGGCAGTTCTAG-1_1  5.6       C15orf40_1a|C15orf40_1b C15orf40_1    \n",
       "CCTGCATTCAAGCCAT-1_1 12.0       C15orf40_1a|C15orf40_1b C15orf40_1    \n",
       "GTAATCGCACATACGT-1_1  7.1       C15orf40_1a|C15orf40_1b C15orf40_1    \n",
       "GTACAACGTGTGATGG-1_1 12.5       C15orf40_1a|C15orf40_1b C15orf40_1    \n",
       "                     target_call nCalled_Constructs nPS_calls\n",
       "AGCTCAATCGTAGGGA-1_1 C15orf40    1                  1        \n",
       "CAACAGTTCCTAGCGG-1_1 C15orf40    1                  1        \n",
       "AAACGCTCAGTTAGAA-1_1 C15orf40    1                  2        \n",
       "AAAGGATAGCGATTCT-1_1 C15orf40    1                  2        \n",
       "ATCGGCGGTCTAGATC-1_1 C15orf40    1                  2        \n",
       "ATTCCCGCATCCGCGA-1_1 C15orf40    1                  2        \n",
       "CAAGAGGCAGTTCTAG-1_1 C15orf40    1                  2        \n",
       "CCTGCATTCAAGCCAT-1_1 C15orf40    1                  2        \n",
       "GTAATCGCACATACGT-1_1 C15orf40    1                  2        \n",
       "GTACAACGTGTGATGG-1_1 C15orf40    1                  2        \n",
       "                     nCalled_sgRNA_UMIs status  donor SCT_snn_res.0.5\n",
       "AGCTCAATCGTAGGGA-1_1 57                 singlet 3     2              \n",
       "CAACAGTTCCTAGCGG-1_1 1383               doublet 1/2   0              \n",
       "AAACGCTCAGTTAGAA-1_1 1302|1753          singlet 0     3              \n",
       "AAAGGATAGCGATTCT-1_1 428|1565           singlet 0     2              \n",
       "ATCGGCGGTCTAGATC-1_1 1515|3322          singlet 2     2              \n",
       "ATTCCCGCATCCGCGA-1_1 606|1592           doublet 1/2   3              \n",
       "CAAGAGGCAGTTCTAG-1_1 343|433            singlet 1     3              \n",
       "CCTGCATTCAAGCCAT-1_1 1943|2353          singlet 1     3              \n",
       "GTAATCGCACATACGT-1_1 1337|1554          singlet 1     1              \n",
       "GTACAACGTGTGATGG-1_1 3233|3145          singlet 2     3              \n",
       "                     seurat_clusters\n",
       "AGCTCAATCGTAGGGA-1_1 2              \n",
       "CAACAGTTCCTAGCGG-1_1 0              \n",
       "AAACGCTCAGTTAGAA-1_1 3              \n",
       "AAAGGATAGCGATTCT-1_1 2              \n",
       "ATCGGCGGTCTAGATC-1_1 2              \n",
       "ATTCCCGCATCCGCGA-1_1 3              \n",
       "CAAGAGGCAGTTCTAG-1_1 3              \n",
       "CCTGCATTCAAGCCAT-1_1 3              \n",
       "GTAATCGCACATACGT-1_1 1              \n",
       "GTACAACGTGTGATGG-1_1 3              "
      ]
     },
     "metadata": {},
     "output_type": "display_data"
    }
   ],
   "source": [
    "head(seurat_combined)"
   ]
  },
  {
   "cell_type": "code",
   "execution_count": 10,
   "metadata": {
    "vscode": {
     "languageId": "r"
    }
   },
   "outputs": [
    {
     "data": {
      "text/plain": [
       "Assay data with 132 features for 24563 cells\n",
       "First 10 features:\n",
       " CD13-1a, CD13-1b, CD55-1a, CD55-1b, CD73-1a, CD73-1b, FUBP1-1a,\n",
       "FUBP1-1b, C15orf40-1a, C15orf40-1b "
      ]
     },
     "metadata": {},
     "output_type": "display_data"
    }
   ],
   "source": [
    "seurat_combined$sgRNA"
   ]
  },
  {
   "cell_type": "code",
   "execution_count": null,
   "metadata": {
    "vscode": {
     "languageId": "r"
    }
   },
   "outputs": [],
   "source": []
  }
 ],
 "metadata": {
  "kernelspec": {
   "display_name": "R",
   "language": "R",
   "name": "ir"
  },
  "language_info": {
   "codemirror_mode": "r",
   "file_extension": ".r",
   "mimetype": "text/x-r-source",
   "name": "R",
   "pygments_lexer": "r",
   "version": "4.1.3"
  },
  "orig_nbformat": 4
 },
 "nbformat": 4,
 "nbformat_minor": 2
}
