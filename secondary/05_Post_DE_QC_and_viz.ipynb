{
 "cells": [
  {
   "cell_type": "code",
   "execution_count": 1,
   "metadata": {
    "vscode": {
     "languageId": "r"
    }
   },
   "outputs": [],
   "source": [
    "suppressWarnings(suppressPackageStartupMessages({\n",
    "    library(Seurat)\n",
    "    library(Signac)\n",
    "    library(EnsDb.Hsapiens.v86)\n",
    "    library(dplyr)\n",
    "    library(ggplot2)\n",
    "    library(bedr)\n",
    "    library(SeuratDisk)\n",
    "    library(scales)\n",
    "    library(reshape2)\n",
    "    library(Hmisc)\n",
    "    library(tidyr)\n",
    "    library(tidyverse)\n",
    "    library(crayon)\n",
    "    library(readr)\n",
    "    library(future)\n",
    "    library(combinat)\n",
    "    library(\"TxDb.Hsapiens.UCSC.hg38.knownGene\")\n",
    "    library(GenomicRanges)\n",
    "    library(GenomicFeatures)\n",
    "    library(rsnps)\n",
    "    library(biomaRt)\n",
    "    library(ggpubr)\n",
    "    library(gridExtra)\n",
    "    library(patchwork)\n",
    "}))\n",
    "\n",
    "source('/home/vsevim/prj/workflows/ckd/secondary/helper_functions_for_diffex.r')"
   ]
  },
  {
   "attachments": {},
   "cell_type": "markdown",
   "metadata": {},
   "source": [
    "# Definitions etc"
   ]
  },
  {
   "cell_type": "code",
   "execution_count": 2,
   "metadata": {
    "vscode": {
     "languageId": "r"
    }
   },
   "outputs": [],
   "source": [
    "set.seed(1234)\n",
    "options(digits=2)\n",
    "stats <- c()"
   ]
  },
  {
   "cell_type": "code",
   "execution_count": 3,
   "metadata": {
    "vscode": {
     "languageId": "r"
    }
   },
   "outputs": [],
   "source": [
    "options(future.globals.maxSize= 250 * 1024^3) # 650Gb\n",
    "# plan()\n",
    "\n",
    "# Enable parallelization\n",
    "plan(sequential)\n",
    "plan(\"multicore\", workers = 64)"
   ]
  },
  {
   "cell_type": "code",
   "execution_count": 4,
   "metadata": {
    "vscode": {
     "languageId": "r"
    }
   },
   "outputs": [],
   "source": [
    "if(!exists(\"papermill_run\")) {\n",
    "    prj_name = \"Screen1_66guides\"\n",
    "    data_subdir_suffixes = \"L1,L2,L3,L4\"     \n",
    "    secondary_a_path = \"/home/vsevim/prj/1012-ckd/S1/analysis/secondary/\"\n",
    "    save_seurat_h5 = \"YES\"\n",
    "}"
   ]
  },
  {
   "cell_type": "code",
   "execution_count": 5,
   "metadata": {
    "vscode": {
     "languageId": "r"
    }
   },
   "outputs": [],
   "source": [
    "custom_theme <- theme(\n",
    "  plot.title = element_text(size=16, hjust = 0.5), \n",
    "  legend.key.size = unit(0.7, \"cm\"), \n",
    "  legend.text = element_text(size = 14))"
   ]
  },
  {
   "attachments": {},
   "cell_type": "markdown",
   "metadata": {},
   "source": [
    "### Load Seurat files"
   ]
  },
  {
   "cell_type": "code",
   "execution_count": 8,
   "metadata": {
    "vscode": {
     "languageId": "r"
    }
   },
   "outputs": [
    {
     "name": "stderr",
     "output_type": "stream",
     "text": [
      "Validating h5Seurat file\n",
      "\n",
      "Warning message:\n",
      "\"Adding a command log without an assay associated with it\"\n",
      "Validating h5Seurat file\n",
      "\n",
      "Warning message:\n",
      "\"Adding a command log without an assay associated with it\"\n"
     ]
    }
   ],
   "source": [
    "integrated_h5_path <- \"/home/vsevim/prj/1012-ckd/S1/analysis/secondary/integrated/seurat_objects/integrated.h5seurat\"\n",
    "original_integrated_h5_path <- paste0(secondary_a_path, \"integrated/seurat_objects/integrated_wo_guide_calls.h5seurat\")\n",
    "seurat1    <- LoadH5Seurat(original_integrated_h5_path, verbose = FALSE)\n",
    "seurat2    <- LoadH5Seurat(integrated_h5_path, verbose = FALSE)"
   ]
  },
  {
   "attachments": {},
   "cell_type": "markdown",
   "metadata": {},
   "source": [
    "# Check consitency between post-integration and post-guide calling H5s"
   ]
  },
  {
   "cell_type": "code",
   "execution_count": 17,
   "metadata": {
    "vscode": {
     "languageId": "r"
    }
   },
   "outputs": [
    {
     "data": {
      "text/html": [
       "27141"
      ],
      "text/latex": [
       "27141"
      ],
      "text/markdown": [
       "27141"
      ],
      "text/plain": [
       "[1] 27141"
      ]
     },
     "metadata": {},
     "output_type": "display_data"
    },
    {
     "data": {
      "text/html": [
       "27141"
      ],
      "text/latex": [
       "27141"
      ],
      "text/markdown": [
       "27141"
      ],
      "text/plain": [
       "[1] 27141"
      ]
     },
     "metadata": {},
     "output_type": "display_data"
    },
    {
     "data": {
      "text/html": [
       "FALSE"
      ],
      "text/latex": [
       "FALSE"
      ],
      "text/markdown": [
       "FALSE"
      ],
      "text/plain": [
       "[1] FALSE"
      ]
     },
     "metadata": {},
     "output_type": "display_data"
    },
    {
     "data": {
      "text/html": [
       "FALSE"
      ],
      "text/latex": [
       "FALSE"
      ],
      "text/markdown": [
       "FALSE"
      ],
      "text/plain": [
       "[1] FALSE"
      ]
     },
     "metadata": {},
     "output_type": "display_data"
    },
    {
     "data": {
      "text/html": [
       "FALSE"
      ],
      "text/latex": [
       "FALSE"
      ],
      "text/markdown": [
       "FALSE"
      ],
      "text/plain": [
       "[1] FALSE"
      ]
     },
     "metadata": {},
     "output_type": "display_data"
    }
   ],
   "source": [
    "nrow(seurat1@meta.data)\n",
    "nrow(seurat2@meta.data)\n",
    "any(rownames(seurat1@meta.data) != rownames(seurat2@meta.data))\n",
    "any(rownames(seurat1$donor) != rownames(seurat2$donor))\n",
    "any(rownames(seurat1$library) != rownames(seurat2$library))"
   ]
  },
  {
   "attachments": {},
   "cell_type": "markdown",
   "metadata": {},
   "source": [
    "Manually checked if souporcell calls match the donors in the dataframe"
   ]
  },
  {
   "cell_type": "code",
   "execution_count": 27,
   "metadata": {
    "vscode": {
     "languageId": "r"
    }
   },
   "outputs": [
    {
     "data": {
      "text/html": [
       "<table class=\"dataframe\">\n",
       "<caption>A data.frame: 1 × 17</caption>\n",
       "<thead>\n",
       "\t<tr><th></th><th scope=col>nCount_RNA</th><th scope=col>nFeature_RNA</th><th scope=col>nCount_sgRNA</th><th scope=col>nFeature_sgRNA</th><th scope=col>nCount_SCT</th><th scope=col>nFeature_SCT</th><th scope=col>orig.ident</th><th scope=col>library</th><th scope=col>percent.mt</th><th scope=col>status</th><th scope=col>donor</th><th scope=col>SCT_snn_res.0.5</th><th scope=col>seurat_clusters</th><th scope=col>guide_calls</th><th scope=col>plasmid_calls</th><th scope=col>n_guides</th><th scope=col>n_plasmids</th></tr>\n",
       "\t<tr><th></th><th scope=col>&lt;dbl&gt;</th><th scope=col>&lt;int&gt;</th><th scope=col>&lt;dbl&gt;</th><th scope=col>&lt;int&gt;</th><th scope=col>&lt;dbl&gt;</th><th scope=col>&lt;int&gt;</th><th scope=col>&lt;chr&gt;</th><th scope=col>&lt;chr&gt;</th><th scope=col>&lt;dbl&gt;</th><th scope=col>&lt;chr&gt;</th><th scope=col>&lt;chr&gt;</th><th scope=col>&lt;fct&gt;</th><th scope=col>&lt;fct&gt;</th><th scope=col>&lt;chr&gt;</th><th scope=col>&lt;chr&gt;</th><th scope=col>&lt;dbl&gt;</th><th scope=col>&lt;dbl&gt;</th></tr>\n",
       "</thead>\n",
       "<tbody>\n",
       "\t<tr><th scope=row>CGTTCTGTCCACAAGT-1_1</th><td>48093</td><td>8283</td><td>1651</td><td>19</td><td>25798</td><td>7056</td><td>Screen1_66guides</td><td>Lib_1</td><td>7.7</td><td>singlet</td><td>3</td><td>1</td><td>1</td><td>DE5-2a|DE5-2b</td><td>DE5-2</td><td>2</td><td>1</td></tr>\n",
       "</tbody>\n",
       "</table>\n"
      ],
      "text/latex": [
       "A data.frame: 1 × 17\n",
       "\\begin{tabular}{r|lllllllllllllllll}\n",
       "  & nCount\\_RNA & nFeature\\_RNA & nCount\\_sgRNA & nFeature\\_sgRNA & nCount\\_SCT & nFeature\\_SCT & orig.ident & library & percent.mt & status & donor & SCT\\_snn\\_res.0.5 & seurat\\_clusters & guide\\_calls & plasmid\\_calls & n\\_guides & n\\_plasmids\\\\\n",
       "  & <dbl> & <int> & <dbl> & <int> & <dbl> & <int> & <chr> & <chr> & <dbl> & <chr> & <chr> & <fct> & <fct> & <chr> & <chr> & <dbl> & <dbl>\\\\\n",
       "\\hline\n",
       "\tCGTTCTGTCCACAAGT-1\\_1 & 48093 & 8283 & 1651 & 19 & 25798 & 7056 & Screen1\\_66guides & Lib\\_1 & 7.7 & singlet & 3 & 1 & 1 & DE5-2a\\textbar{}DE5-2b & DE5-2 & 2 & 1\\\\\n",
       "\\end{tabular}\n"
      ],
      "text/markdown": [
       "\n",
       "A data.frame: 1 × 17\n",
       "\n",
       "| <!--/--> | nCount_RNA &lt;dbl&gt; | nFeature_RNA &lt;int&gt; | nCount_sgRNA &lt;dbl&gt; | nFeature_sgRNA &lt;int&gt; | nCount_SCT &lt;dbl&gt; | nFeature_SCT &lt;int&gt; | orig.ident &lt;chr&gt; | library &lt;chr&gt; | percent.mt &lt;dbl&gt; | status &lt;chr&gt; | donor &lt;chr&gt; | SCT_snn_res.0.5 &lt;fct&gt; | seurat_clusters &lt;fct&gt; | guide_calls &lt;chr&gt; | plasmid_calls &lt;chr&gt; | n_guides &lt;dbl&gt; | n_plasmids &lt;dbl&gt; |\n",
       "|---|---|---|---|---|---|---|---|---|---|---|---|---|---|---|---|---|---|\n",
       "| CGTTCTGTCCACAAGT-1_1 | 48093 | 8283 | 1651 | 19 | 25798 | 7056 | Screen1_66guides | Lib_1 | 7.7 | singlet | 3 | 1 | 1 | DE5-2a|DE5-2b | DE5-2 | 2 | 1 |\n",
       "\n"
      ],
      "text/plain": [
       "                     nCount_RNA nFeature_RNA nCount_sgRNA nFeature_sgRNA\n",
       "CGTTCTGTCCACAAGT-1_1 48093      8283         1651         19            \n",
       "                     nCount_SCT nFeature_SCT orig.ident       library\n",
       "CGTTCTGTCCACAAGT-1_1 25798      7056         Screen1_66guides Lib_1  \n",
       "                     percent.mt status  donor SCT_snn_res.0.5 seurat_clusters\n",
       "CGTTCTGTCCACAAGT-1_1 7.7        singlet 3     1               1              \n",
       "                     guide_calls   plasmid_calls n_guides n_plasmids\n",
       "CGTTCTGTCCACAAGT-1_1 DE5-2a|DE5-2b DE5-2         2        1         "
      ]
     },
     "metadata": {},
     "output_type": "display_data"
    }
   ],
   "source": [
    "sample_n(seurat2@meta.data, 1)\n"
   ]
  },
  {
   "attachments": {},
   "cell_type": "markdown",
   "metadata": {},
   "source": [
    "### Check if get_perturbed_cells works"
   ]
  },
  {
   "cell_type": "code",
   "execution_count": 32,
   "metadata": {
    "vscode": {
     "languageId": "r"
    }
   },
   "outputs": [
    {
     "name": "stdout",
     "output_type": "stream",
     "text": [
      "FTH1-1a   624 \n",
      "FTH1-2a   3330 \n",
      "FTH1-1b   3503 \n",
      "FTH1-2b   3503 \n",
      "\u001b[34mGuide+ = 3503 ; Guide- = 23638 \n",
      "\u001b[39m"
     ]
    }
   ],
   "source": [
    "target = 'FTH1'\n",
    "df_thresholds = seurat2@misc$thresholds\n",
    "df_guide      = seurat2@misc$guides\n",
    "guides_4_target = get_guides_by_subclass(df_guide, 'alias', target)\n",
    "perturbed_cells_by_guide = get_perturbed_cells(seurat2, df_thresholds)\n",
    "seurat_dummy = mark_target_pos_neg(seurat2, perturbed_cells_by_guide, guides_4_target, print_counts = T)"
   ]
  },
  {
   "attachments": {},
   "cell_type": "markdown",
   "metadata": {},
   "source": [
    "#### Check if target+/- cells marked correctly"
   ]
  },
  {
   "attachments": {},
   "cell_type": "markdown",
   "metadata": {},
   "source": [
    "ANPEP and NTSC gene names don't match the alias. So they're expected to fail."
   ]
  },
  {
   "cell_type": "code",
   "execution_count": 97,
   "metadata": {
    "vscode": {
     "languageId": "r"
    }
   },
   "outputs": [
    {
     "name": "stdout",
     "output_type": "stream",
     "text": [
      "ANPEP  CD13-1a   868 \n",
      "CD13-1b   1162 \n",
      "\u001b[34mGuide+ = 1162 ; Guide- = 25979 \n",
      "\u001b[39m\u001b[31m --- FAIL ----\n",
      "\n",
      "\u001b[39mCD55  CD55-1a   796 \n",
      "CD55-1b   1081 \n",
      "\u001b[34mGuide+ = 1081 ; Guide- = 26060 \n",
      "\u001b[39m\u001b[32m --- OK ----\n",
      "\n",
      "\u001b[39mNT5E  CD73-1a   758 \n",
      "CD73-1b   1021 \n",
      "\u001b[34mGuide+ = 1021 ; Guide- = 26120 \n",
      "\u001b[39m\u001b[31m --- FAIL ----\n",
      "\n",
      "\u001b[39mFUBP1  FUBP1-1a   710 \n",
      "FUBP1-1b   926 \n",
      "\u001b[34mGuide+ = 926 ; Guide- = 26215 \n",
      "\u001b[39m\u001b[32m --- OK ----\n",
      "\n",
      "\u001b[39mC15orf40  C15orf40-1a   823 \n",
      "C15orf40-1b   1077 \n",
      "\u001b[34mGuide+ = 1077 ; Guide- = 26064 \n",
      "\u001b[39m\u001b[32m --- OK ----\n",
      "\n",
      "\u001b[39mMAFF  MAFF-1a   665 \n",
      "MAFF-1b   871 \n",
      "\u001b[34mGuide+ = 871 ; Guide- = 26270 \n",
      "\u001b[39m\u001b[32m --- OK ----\n",
      "\n",
      "\u001b[39mFTH1  FTH1-1a   624 \n",
      "FTH1-2a   3330 \n",
      "FTH1-1b   3503 \n",
      "FTH1-2b   3503 \n",
      "\u001b[34mGuide+ = 3503 ; Guide- = 23638 \n",
      "\u001b[39m\u001b[32m --- OK ----\n",
      "\n",
      "\u001b[39mPLIN3  PLIN3-1a   866 \n",
      "PLIN3-2a   1585 \n",
      "PLIN3-1b   1820 \n",
      "PLIN3-2b   2060 \n",
      "\u001b[34mGuide+ = 2060 ; Guide- = 25081 \n",
      "\u001b[39m\u001b[32m --- OK ----\n",
      "\n",
      "\u001b[39mTKT  TKT-1a   674 \n",
      "TKT-2a   1497 \n",
      "TKT-1b   1708 \n",
      "TKT-2b   1978 \n",
      "\u001b[34mGuide+ = 1978 ; Guide- = 25163 \n",
      "\u001b[39m\u001b[32m --- OK ----\n",
      "\n",
      "\u001b[39mLGALS3  LGALS3-1a   917 \n",
      "LGALS3-2a   1660 \n",
      "LGALS3-1b   1894 \n",
      "LGALS3-2b   2120 \n",
      "\u001b[34mGuide+ = 2120 ; Guide- = 25021 \n",
      "\u001b[39m\u001b[32m --- OK ----\n",
      "\n",
      "\u001b[39mCSTB  CSTB-1a   967 \n",
      "CSTB-2a   1830 \n",
      "CSTB-1b   2083 \n",
      "CSTB-2b   2336 \n",
      "\u001b[34mGuide+ = 2336 ; Guide- = 24805 \n",
      "\u001b[39m\u001b[32m --- OK ----\n",
      "\n",
      "\u001b[39mCTSB  CTSB-1a   999 \n",
      "CTSB-2a   1794 \n",
      "CTSB-1b   2029 \n",
      "CTSB-2b   2221 \n",
      "\u001b[34mGuide+ = 2221 ; Guide- = 24920 \n",
      "\u001b[39m\u001b[32m --- OK ----\n",
      "\n",
      "\u001b[39mKLF6  KLF6-1a   880 \n",
      "KLF6-2a   1729 \n",
      "KLF6-1b   1983 \n",
      "KLF6-2b   2194 \n",
      "\u001b[34mGuide+ = 2194 ; Guide- = 24947 \n",
      "\u001b[39m\u001b[32m --- OK ----\n",
      "\n",
      "\u001b[39mDE1  DE1-1a   863 \n",
      "DE1-2a   1747 \n",
      "DE1-1b   1975 \n",
      "DE1-2b   2240 \n",
      "\u001b[34mGuide+ = 2240 ; Guide- = 24901 \n",
      "\u001b[39m\u001b[32m --- OK ----\n",
      "\n",
      "\u001b[39mDE2  DE2-1a   0 \n",
      "DE2-2a   939 \n",
      "DE2-1b   939 \n",
      "DE2-2b   1233 \n",
      "\u001b[34mGuide+ = 1233 ; Guide- = 25908 \n",
      "\u001b[39m\u001b[32m --- OK ----\n",
      "\n",
      "\u001b[39mDE3  DE3-1a   959 \n",
      "DE3-2a   1838 \n",
      "DE3-1b   2110 \n",
      "DE3-2b   2395 \n",
      "\u001b[34mGuide+ = 2395 ; Guide- = 24746 \n",
      "\u001b[39m\u001b[32m --- OK ----\n",
      "\n",
      "\u001b[39mDE4  DE4-1a   1622 \n",
      "DE4-2a   2292 \n",
      "DE4-1b   2366 \n",
      "DE4-2b   2544 \n",
      "\u001b[34mGuide+ = 2544 ; Guide- = 24597 \n",
      "\u001b[39m\u001b[32m --- OK ----\n",
      "\n",
      "\u001b[39mDE5  DE5-1a   1004 \n",
      "DE5-2a   1967 \n",
      "DE5-1b   2226 \n",
      "DE5-2b   2477 \n",
      "\u001b[34mGuide+ = 2477 ; Guide- = 24664 \n",
      "\u001b[39m\u001b[32m --- OK ----\n",
      "\n",
      "\u001b[39mDE6  DE6-1a   896 \n",
      "DE6-2a   2586 \n",
      "DE6-1b   2829 \n",
      "DE6-2b   2840 \n",
      "\u001b[34mGuide+ = 2840 ; Guide- = 24301 \n",
      "\u001b[39m\u001b[32m --- OK ----\n",
      "\n",
      "\u001b[39mDE7  DE7-1a   1010 \n",
      "DE7-2a   1789 \n",
      "DE7-1b   2057 \n",
      "DE7-2b   2274 \n",
      "\u001b[34mGuide+ = 2274 ; Guide- = 24867 \n",
      "\u001b[39m\u001b[32m --- OK ----\n",
      "\n",
      "\u001b[39mDE8  DE8-1a   974 \n",
      "DE8-2a   1999 \n",
      "DE8-1b   2320 \n",
      "DE8-2b   2620 \n",
      "\u001b[34mGuide+ = 2620 ; Guide- = 24521 \n",
      "\u001b[39m\u001b[32m --- OK ----\n",
      "\n",
      "\u001b[39mDE9  DE9-1a   934 \n",
      "DE9-2a   934 \n",
      "DE9-1b   1294 \n",
      "DE9-2b   1294 \n",
      "\u001b[34mGuide+ = 1294 ; Guide- = 25847 \n",
      "\u001b[39m\u001b[32m --- OK ----\n",
      "\n",
      "\u001b[39mDE10  DE10-1a   735 \n",
      "DE10-2a   1491 \n",
      "DE10-1b   1686 \n",
      "DE10-2b   1931 \n",
      "\u001b[34mGuide+ = 1931 ; Guide- = 25210 \n",
      "\u001b[39m\u001b[32m --- OK ----\n",
      "\n",
      "\u001b[39mDE11  DE11-1a   979 \n",
      "DE11-2a   1763 \n",
      "DE11-1b   1987 \n",
      "DE11-2b   2219 \n",
      "\u001b[34mGuide+ = 2219 ; Guide- = 24922 \n",
      "\u001b[39m\u001b[32m --- OK ----\n",
      "\n",
      "\u001b[39mDE12  DE12-1a   868 \n",
      "DE12-2a   1614 \n",
      "DE12-1b   1846 \n",
      "DE12-2b   2107 \n",
      "\u001b[34mGuide+ = 2107 ; Guide- = 25034 \n",
      "\u001b[39m\u001b[32m --- OK ----\n",
      "\n",
      "\u001b[39mDE13  DE13-1a   797 \n",
      "DE13-2a   1426 \n",
      "DE13-1b   1446 \n",
      "DE13-2b   1639 \n",
      "\u001b[34mGuide+ = 1639 ; Guide- = 25502 \n",
      "\u001b[39m\u001b[32m --- OK ----\n",
      "\n",
      "\u001b[39mDE14  DE14-1a   941 \n",
      "DE14-2a   1744 \n",
      "DE14-1b   2024 \n",
      "DE14-2b   2234 \n",
      "\u001b[34mGuide+ = 2234 ; Guide- = 24907 \n",
      "\u001b[39m\u001b[32m --- OK ----\n",
      "\n",
      "\u001b[39mDE15  DE15-1a   844 \n",
      "DE15-2a   1794 \n",
      "DE15-1b   2013 \n",
      "DE15-2b   2322 \n",
      "\u001b[34mGuide+ = 2322 ; Guide- = 24819 \n",
      "\u001b[39m\u001b[32m --- OK ----\n",
      "\n",
      "\u001b[39mDE16  DE16-1a   740 \n",
      "DE16-2a   740 \n",
      "DE16-1b   1048 \n",
      "DE16-2b   1870 \n",
      "\u001b[34mGuide+ = 1870 ; Guide- = 25271 \n",
      "\u001b[39m\u001b[32m --- OK ----\n",
      "\n",
      "\u001b[39mDE17  DE17-1a   816 \n",
      "DE17-2a   1557 \n",
      "DE17-1b   1785 \n",
      "DE17-2b   2041 \n",
      "\u001b[34mGuide+ = 2041 ; Guide- = 25100 \n",
      "\u001b[39m\u001b[32m --- OK ----\n",
      "\n",
      "\u001b[39m"
     ]
    }
   ],
   "source": [
    "targets = unique(filter(df_guide, class=='targeting')$alias)\n",
    "seurat_dummy$ident = Idents(seurat_dummy)\n",
    "\n",
    "for(target in targets) {\n",
    "    cat(target, \" \")\n",
    "    guides_4_target = get_guides_by_subclass(df_guide, 'alias', target)\n",
    "    perturbed_cells_by_guide = get_perturbed_cells(seurat2, df_thresholds)\n",
    "    seurat_dummy = mark_target_pos_neg(seurat2, perturbed_cells_by_guide, guides_4_target, print_counts = T)\n",
    "    seurat_dummy$ident = Idents(seurat_dummy)\n",
    "    positives_plasmid_calls = subset(seurat_dummy, idents=\"target_positive\")$plasmid_calls\n",
    "    negatives_plasmid_calls = subset(seurat_dummy, idents=\"target_negative\")$plasmid_calls\n",
    "    # select_positives = seurat_dummy$ident==\"target_positive\"\n",
    "    # select_negatives = seurat_dummy$ident==\"target_negative\"\n",
    "    # positives_plasmid_calls = seurat_dummy$plasmid_calls[select_positives]\n",
    "    # negatives_plasmid_calls = seurat_dummy$plasmid_calls[select_negatives]\n",
    "\n",
    "    # attach a dash to target name so DE1 wont match DE10 etc\n",
    "    search_term = paste0(target, \"-\") \n",
    "    pos_check = all(grepl(search_term, positives_plasmid_calls))\n",
    "    neg_check = !any(grepl(search_term, negatives_plasmid_calls))\n",
    "    if(neg_check & pos_check) {\n",
    "        cat(green(\" --- OK ----\\n\\n\"))\n",
    "\n",
    "    } else {\n",
    "        cat(red(\" --- FAIL ----\\n\\n\"))\n",
    "    }\n",
    "    flush.console()\n",
    "}"
   ]
  },
  {
   "cell_type": "code",
   "execution_count": null,
   "metadata": {
    "vscode": {
     "languageId": "r"
    }
   },
   "outputs": [],
   "source": []
  }
 ],
 "metadata": {
  "kernelspec": {
   "display_name": "R",
   "language": "R",
   "name": "ir"
  },
  "language_info": {
   "codemirror_mode": "r",
   "file_extension": ".r",
   "mimetype": "text/x-r-source",
   "name": "R",
   "pygments_lexer": "r",
   "version": "4.2.2"
  },
  "orig_nbformat": 4
 },
 "nbformat": 4,
 "nbformat_minor": 2
}
