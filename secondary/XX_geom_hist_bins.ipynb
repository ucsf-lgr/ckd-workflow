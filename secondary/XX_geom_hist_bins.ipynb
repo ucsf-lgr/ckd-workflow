{
 "cells": [
  {
   "cell_type": "code",
   "execution_count": 1,
   "metadata": {
    "vscode": {
     "languageId": "r"
    }
   },
   "outputs": [],
   "source": [
    "suppressWarnings(suppressPackageStartupMessages({\n",
    "    library(Seurat)\n",
    "    library(Signac)\n",
    "    library(EnsDb.Hsapiens.v86)\n",
    "    library(dplyr)\n",
    "    library(ggplot2)\n",
    "    library(bedr)\n",
    "    library(SeuratDisk)\n",
    "    library(scales)\n",
    "    library(reshape2)\n",
    "    library(Hmisc)\n",
    "    library(tidyr)\n",
    "    library(tidyverse)\n",
    "    library(crayon)\n",
    "    library(readr)\n",
    "    library(reticulate)\n",
    "    library(gridExtra)\n",
    "    library(grid)\n",
    "    library(ggpubr)\n",
    "    library(scales)\n",
    "}))\n",
    "use_condaenv(\"R42\")\n",
    "#use_python(\"/home/vsevim/software/anaconda3/envs/R42/bin/python\")\n",
    "source_python(\"/home/vsevim/prj/workflows/ckd/secondary/mixture.py\")\n",
    "source('/home/vsevim/prj/workflows/ckd/secondary/helper_functions_for_diffex.r')"
   ]
  },
  {
   "attachments": {},
   "cell_type": "markdown",
   "metadata": {},
   "source": [
    "# Definitions etc"
   ]
  },
  {
   "cell_type": "code",
   "execution_count": 2,
   "metadata": {
    "vscode": {
     "languageId": "r"
    }
   },
   "outputs": [],
   "source": [
    "set.seed(1234)\n",
    "options(digits=2)\n",
    "stats <- c()"
   ]
  },
  {
   "cell_type": "code",
   "execution_count": 3,
   "metadata": {
    "vscode": {
     "languageId": "r"
    }
   },
   "outputs": [],
   "source": [
    "if(!exists(\"papermill_run\")) {\n",
    "    prj_name = \"Screen1_66guides\"\n",
    "    # data_subdir_suffixes = \"L1,L2,L3,L4\"     \n",
    "    secondary_a_path = \"/home/vsevim/prj/1012-ckd/S1/analysis/secondary/\"\n",
    "    save_seurat_h5 = \"YES\"\n",
    "\n",
    "    # prj_name = \"Screen2_101vecs\"\n",
    "    # # data_subdir_suffixes = \"L1,L2,L3,L4\"     \n",
    "    # secondary_a_path = \"/home/vsevim/prj/1012-ckd/S2/analysis/secondary/\"\n",
    "    # save_seurat_h5 = \"NO\"\n",
    "\n",
    "}\n"
   ]
  },
  {
   "cell_type": "code",
   "execution_count": 4,
   "metadata": {
    "vscode": {
     "languageId": "r"
    }
   },
   "outputs": [],
   "source": [
    "custom_theme <- theme(\n",
    "  plot.title = element_text(size=16, hjust = 0.5), \n",
    "  legend.key.size = unit(0.7, \"cm\"), \n",
    "  legend.text = element_text(size = 14))"
   ]
  },
  {
   "attachments": {},
   "cell_type": "markdown",
   "metadata": {},
   "source": [
    "### Load Seurat file"
   ]
  },
  {
   "cell_type": "code",
   "execution_count": 5,
   "metadata": {
    "vscode": {
     "languageId": "r"
    }
   },
   "outputs": [
    {
     "name": "stderr",
     "output_type": "stream",
     "text": [
      "Validating h5Seurat file\n",
      "\n",
      "Warning message:\n",
      "\"Adding a command log without an assay associated with it\"\n"
     ]
    }
   ],
   "source": [
    "integrated_h5_path  <- paste0(secondary_a_path, \"integrated/seurat_objects/integrated_wo_guide_calls.h5seurat\")\n",
    "updated_integrated_h5_path  <- paste0(secondary_a_path, \"integrated/seurat_objects/integrated.h5seurat\")\n",
    "seurat_combined <- LoadH5Seurat(integrated_h5_path, verbose = FALSE)"
   ]
  },
  {
   "cell_type": "code",
   "execution_count": 6,
   "metadata": {
    "vscode": {
     "languageId": "r"
    }
   },
   "outputs": [
    {
     "data": {
      "text/html": [
       "27141"
      ],
      "text/latex": [
       "27141"
      ],
      "text/markdown": [
       "27141"
      ],
      "text/plain": [
       "[1] 27141"
      ]
     },
     "metadata": {},
     "output_type": "display_data"
    }
   ],
   "source": [
    "ncol(seurat_combined)"
   ]
  },
  {
   "attachments": {},
   "cell_type": "markdown",
   "metadata": {},
   "source": [
    "Use only singlets (actually I didn't include the singlets in the integrated file, so this step is unnecessary)"
   ]
  },
  {
   "cell_type": "code",
   "execution_count": 7,
   "metadata": {
    "vscode": {
     "languageId": "r"
    }
   },
   "outputs": [],
   "source": [
    "seurat_combined <- subset(seurat_combined, subset = status == 'singlet')"
   ]
  },
  {
   "attachments": {},
   "cell_type": "markdown",
   "metadata": {},
   "source": [
    "# Call all guides"
   ]
  },
  {
   "cell_type": "code",
   "execution_count": 39,
   "metadata": {
    "vscode": {
     "languageId": "r"
    }
   },
   "outputs": [
    {
     "name": "stdout",
     "output_type": "stream",
     "text": [
      "\u001b[34mSkipping guides with less than 50 counts\n",
      "\u001b[39m\u001b[34mRunning Lib_1 \n",
      "\u001b[39m\u001b[32mCompleted Lib_1 \n",
      "\u001b[39m"
     ]
    },
    {
     "data": {
      "image/png": "[encoded data removed]",
      "text/plain": [
       "plot without title"
      ]
     },
     "metadata": {
      "image/png": {
       "height": 360,
       "width": 360
      }
     },
     "output_type": "display_data"
    }
   ],
   "source": [
    "libraries = unique(seurat_combined$library)\n",
    "min_guide_count = 50\n",
    "df_thresholds = data.frame(batch=character(0), guide=character(0), threshold=numeric(0))\n",
    "\n",
    "cat(blue(\"Skipping guides with less than\", min_guide_count, \"counts\\n\"))\n",
    "for(l in seq_along(libraries)){\n",
    "    # subset \n",
    "    library_name = libraries[[l]]\n",
    "    cat(blue(\"Running\", library_name, \"\\n\"))\n",
    "    seurat  <- subset(seurat_combined, subset = library == library_name)\n",
    "\n",
    "    DefaultAssay(seurat) <- \"sgRNA\"\n",
    "    df_guide_counts <- as.data.frame(t(seurat[['sgRNA']]@counts))\n",
    "    rownames(df_guide_counts) <- NULL\n",
    "\n",
    "    CUTOFF_PROB = 0.5\n",
    "    guides = colnames(df_guide_counts)\n",
    "    plots = list()\n",
    "\n",
    "    for(i in seq_along(guides)) {\n",
    "        guide = guides[[i]]\n",
    "        y = df_guide_counts[,guide]\n",
    "        select_nonzeros = y > 0\n",
    "        y = y[select_nonzeros]\n",
    "        index = nrow(df_thresholds) + 1\n",
    "        if(length(y) <= min_guide_count) {\n",
    "            cat(\"Skipping\", guide, length(y), \"guides found\\n\")\n",
    "            df_thresholds[index,] <-  c(library_name, guide, NA)\n",
    "            next\n",
    "        }\n",
    "        \n",
    "        calls <- pgmix(y)\n",
    "        df_calls = as.data.frame(calls)\n",
    "        df_calls['counts'] = y\n",
    "        colnames(df_calls) = c('call', 'prob', 'count')\n",
    "        options(repr.plot.width=4, repr.plot.height=4)\n",
    "        head(df_calls)\n",
    "        dim(df_calls)\n",
    "        select_gaussian_assigned = df_calls[, 'prob'] > CUTOFF_PROB\n",
    "\n",
    "        df_gauss = df_calls[select_gaussian_assigned,]\n",
    "        dim(df_gauss)\n",
    "        \n",
    "        # head(df_gauss)\n",
    "        threshold = min(df_gauss$count)\n",
    "        #cat(\"threshold=\", threshold)\n",
    "        filter_y = y > 0\n",
    "        y_filtered = y[filter_y]\n",
    "        df_y = as.data.frame(y_filtered)\n",
    "        head(df_y)\n",
    "        \n",
    "        options(repr.plot.width=3.3, repr.plot.height=2.4)\n",
    "        bin_breaks <- c(1,2,2*2^(1:16))\n",
    "        title = paste0(guide, \", T=\", threshold)\n",
    "\n",
    "        ggp1 <- ggplot(df_y, aes(x = y_filtered)) +    # Draw each column as histogram\n",
    "        geom_histogram(breaks=bin_breaks) + \n",
    "        scale_x_log10(labels=trans_format('log10',math_format(10^.x)), breaks=c(1,10,100,1000,10000,100000)) +\n",
    "            labs(title=title, x=NULL, y=NULL) +  \n",
    "            geom_vline(xintercept=threshold, color=\"blue\", linetype=\"dashed\", size=1) +\n",
    "            theme(plot.title = element_text(size=10))\n",
    "\n",
    "        plots <- append(plots, list(ggp1))\n",
    "        #index = nrow(df_thresholds) + 1\n",
    "        df_thresholds[index,] <-  c(library_name, guide, threshold)\n",
    "        break        \n",
    "    }\n",
    "    cat(green(\"Completed\", library_name, \"\\n\"))\n",
    "    flush.console()\n",
    "    options(repr.plot.width=6, repr.plot.height=6)\n",
    "    plt <- gridExtra::grid.arrange(\n",
    "        grobs = plots, \n",
    "        ncol = 1, \n",
    "        bottom=textGrob(\"#PS UMIs in cell\", gp=gpar(fontsize=12)),\n",
    "        left=textGrob(\"#cells\", gp=gpar(fontsize=14), rot=90),\n",
    "        top = textGrob(library_name, gp=gpar(fontsize=25, font=3))\n",
    "    )\n",
    "    grid::grid.draw(plt)\n",
    "    pdf_path <- \"/home/vsevim/prj/1012-ckd/S1/analysis/secondary/integrated/guide_distr/\"\n",
    "    break\n",
    "}"
   ]
  },
  {
   "attachments": {},
   "cell_type": "markdown",
   "metadata": {},
   "source": [
    "#### Debug"
   ]
  },
  {
   "cell_type": "code",
   "execution_count": 27,
   "metadata": {
    "vscode": {
     "languageId": "r"
    }
   },
   "outputs": [
    {
     "data": {
      "text/html": [
       "FALSE"
      ],
      "text/latex": [
       "FALSE"
      ],
      "text/markdown": [
       "FALSE"
      ],
      "text/plain": [
       "[1] FALSE"
      ]
     },
     "metadata": {},
     "output_type": "display_data"
    }
   ],
   "source": []
  },
  {
   "cell_type": "code",
   "execution_count": 29,
   "metadata": {
    "vscode": {
     "languageId": "r"
    }
   },
   "outputs": [
    {
     "data": {
      "text/html": [
       "1407"
      ],
      "text/latex": [
       "1407"
      ],
      "text/markdown": [
       "1407"
      ],
      "text/plain": [
       "[1] 1407"
      ]
     },
     "metadata": {},
     "output_type": "display_data"
    }
   ],
   "source": [
    "sum(df_guide_counts[,guide] >= 1)"
   ]
  },
  {
   "cell_type": "code",
   "execution_count": 23,
   "metadata": {
    "vscode": {
     "languageId": "r"
    }
   },
   "outputs": [
    {
     "data": {
      "image/png": "[encoded data removed]",
      "text/plain": [
       "plot without title"
      ]
     },
     "metadata": {
      "image/png": {
       "height": 360,
       "width": 360
      }
     },
     "output_type": "display_data"
    }
   ],
   "source": [
    "ggplot(df_y, aes(x = y_filtered)) +    # Draw each column as histogram\n",
    "    geom_histogram(breaks=bin_breaks) + \n",
    "    scale_x_log10(labels=trans_format('log10',math_format(10^.x)), breaks=c(1,10,100,1000,10000,100000)) +\n",
    "        labs(title=title, x=NULL, y=NULL)  \n"
   ]
  },
  {
   "cell_type": "code",
   "execution_count": 34,
   "metadata": {
    "vscode": {
     "languageId": "r"
    }
   },
   "outputs": [
    {
     "data": {
      "text/html": [
       "<table class=\"dataframe\">\n",
       "<caption>A data.frame: 17 × 18</caption>\n",
       "<thead>\n",
       "\t<tr><th scope=col>y</th><th scope=col>count</th><th scope=col>x</th><th scope=col>xmin</th><th scope=col>xmax</th><th scope=col>density</th><th scope=col>ncount</th><th scope=col>ndensity</th><th scope=col>flipped_aes</th><th scope=col>PANEL</th><th scope=col>group</th><th scope=col>ymin</th><th scope=col>ymax</th><th scope=col>colour</th><th scope=col>fill</th><th scope=col>linewidth</th><th scope=col>linetype</th><th scope=col>alpha</th></tr>\n",
       "\t<tr><th scope=col>&lt;dbl&gt;</th><th scope=col>&lt;dbl&gt;</th><th scope=col>&lt;dbl&gt;</th><th scope=col>&lt;dbl&gt;</th><th scope=col>&lt;dbl&gt;</th><th scope=col>&lt;dbl&gt;</th><th scope=col>&lt;dbl&gt;</th><th scope=col>&lt;dbl&gt;</th><th scope=col>&lt;lgl&gt;</th><th scope=col>&lt;fct&gt;</th><th scope=col>&lt;int&gt;</th><th scope=col>&lt;dbl&gt;</th><th scope=col>&lt;dbl&gt;</th><th scope=col>&lt;lgl&gt;</th><th scope=col>&lt;chr&gt;</th><th scope=col>&lt;dbl&gt;</th><th scope=col>&lt;dbl&gt;</th><th scope=col>&lt;lgl&gt;</th></tr>\n",
       "</thead>\n",
       "<tbody>\n",
       "\t<tr><td>1111</td><td>1111</td><td>0.15</td><td>0.0</td><td>0.3</td><td>2.623</td><td>1.0000</td><td>1.0000</td><td>FALSE</td><td>1</td><td>-1</td><td>0</td><td>1111</td><td>NA</td><td>grey35</td><td>0.5</td><td>1</td><td>NA</td></tr>\n",
       "\t<tr><td>  43</td><td>  43</td><td>0.45</td><td>0.3</td><td>0.6</td><td>0.102</td><td>0.0387</td><td>0.0387</td><td>FALSE</td><td>1</td><td>-1</td><td>0</td><td>  43</td><td>NA</td><td>grey35</td><td>0.5</td><td>1</td><td>NA</td></tr>\n",
       "\t<tr><td>  17</td><td>  17</td><td>0.75</td><td>0.6</td><td>0.9</td><td>0.040</td><td>0.0153</td><td>0.0153</td><td>FALSE</td><td>1</td><td>-1</td><td>0</td><td>  17</td><td>NA</td><td>grey35</td><td>0.5</td><td>1</td><td>NA</td></tr>\n",
       "\t<tr><td>   6</td><td>   6</td><td>1.05</td><td>0.9</td><td>1.2</td><td>0.014</td><td>0.0054</td><td>0.0054</td><td>FALSE</td><td>1</td><td>-1</td><td>0</td><td>   6</td><td>NA</td><td>grey35</td><td>0.5</td><td>1</td><td>NA</td></tr>\n",
       "\t<tr><td>   7</td><td>   7</td><td>1.35</td><td>1.2</td><td>1.5</td><td>0.017</td><td>0.0063</td><td>0.0063</td><td>FALSE</td><td>1</td><td>-1</td><td>0</td><td>   7</td><td>NA</td><td>grey35</td><td>0.5</td><td>1</td><td>NA</td></tr>\n",
       "\t<tr><td>  11</td><td>  11</td><td>1.66</td><td>1.5</td><td>1.8</td><td>0.026</td><td>0.0099</td><td>0.0099</td><td>FALSE</td><td>1</td><td>-1</td><td>0</td><td>  11</td><td>NA</td><td>grey35</td><td>0.5</td><td>1</td><td>NA</td></tr>\n",
       "\t<tr><td>  21</td><td>  21</td><td>1.96</td><td>1.8</td><td>2.1</td><td>0.050</td><td>0.0189</td><td>0.0189</td><td>FALSE</td><td>1</td><td>-1</td><td>0</td><td>  21</td><td>NA</td><td>grey35</td><td>0.5</td><td>1</td><td>NA</td></tr>\n",
       "\t<tr><td>  43</td><td>  43</td><td>2.26</td><td>2.1</td><td>2.4</td><td>0.102</td><td>0.0387</td><td>0.0387</td><td>FALSE</td><td>1</td><td>-1</td><td>0</td><td>  43</td><td>NA</td><td>grey35</td><td>0.5</td><td>1</td><td>NA</td></tr>\n",
       "\t<tr><td>  70</td><td>  70</td><td>2.56</td><td>2.4</td><td>2.7</td><td>0.165</td><td>0.0630</td><td>0.0630</td><td>FALSE</td><td>1</td><td>-1</td><td>0</td><td>  70</td><td>NA</td><td>grey35</td><td>0.5</td><td>1</td><td>NA</td></tr>\n",
       "\t<tr><td>  70</td><td>  70</td><td>2.86</td><td>2.7</td><td>3.0</td><td>0.165</td><td>0.0630</td><td>0.0630</td><td>FALSE</td><td>1</td><td>-1</td><td>0</td><td>  70</td><td>NA</td><td>grey35</td><td>0.5</td><td>1</td><td>NA</td></tr>\n",
       "\t<tr><td>   8</td><td>   8</td><td>3.16</td><td>3.0</td><td>3.3</td><td>0.019</td><td>0.0072</td><td>0.0072</td><td>FALSE</td><td>1</td><td>-1</td><td>0</td><td>   8</td><td>NA</td><td>grey35</td><td>0.5</td><td>1</td><td>NA</td></tr>\n",
       "\t<tr><td>   0</td><td>   0</td><td>3.46</td><td>3.3</td><td>3.6</td><td>0.000</td><td>0.0000</td><td>0.0000</td><td>FALSE</td><td>1</td><td>-1</td><td>0</td><td>   0</td><td>NA</td><td>grey35</td><td>0.5</td><td>1</td><td>NA</td></tr>\n",
       "\t<tr><td>   0</td><td>   0</td><td>3.76</td><td>3.6</td><td>3.9</td><td>0.000</td><td>0.0000</td><td>0.0000</td><td>FALSE</td><td>1</td><td>-1</td><td>0</td><td>   0</td><td>NA</td><td>grey35</td><td>0.5</td><td>1</td><td>NA</td></tr>\n",
       "\t<tr><td>   0</td><td>   0</td><td>4.06</td><td>3.9</td><td>4.2</td><td>0.000</td><td>0.0000</td><td>0.0000</td><td>FALSE</td><td>1</td><td>-1</td><td>0</td><td>   0</td><td>NA</td><td>grey35</td><td>0.5</td><td>1</td><td>NA</td></tr>\n",
       "\t<tr><td>   0</td><td>   0</td><td>4.36</td><td>4.2</td><td>4.5</td><td>0.000</td><td>0.0000</td><td>0.0000</td><td>FALSE</td><td>1</td><td>-1</td><td>0</td><td>   0</td><td>NA</td><td>grey35</td><td>0.5</td><td>1</td><td>NA</td></tr>\n",
       "\t<tr><td>   0</td><td>   0</td><td>4.67</td><td>4.5</td><td>4.8</td><td>0.000</td><td>0.0000</td><td>0.0000</td><td>FALSE</td><td>1</td><td>-1</td><td>0</td><td>   0</td><td>NA</td><td>grey35</td><td>0.5</td><td>1</td><td>NA</td></tr>\n",
       "\t<tr><td>   0</td><td>   0</td><td>4.97</td><td>4.8</td><td>5.1</td><td>0.000</td><td>0.0000</td><td>0.0000</td><td>FALSE</td><td>1</td><td>-1</td><td>0</td><td>   0</td><td>NA</td><td>grey35</td><td>0.5</td><td>1</td><td>NA</td></tr>\n",
       "</tbody>\n",
       "</table>\n"
      ],
      "text/latex": [
       "A data.frame: 17 × 18\n",
       "\\begin{tabular}{llllllllllllllllll}\n",
       " y & count & x & xmin & xmax & density & ncount & ndensity & flipped\\_aes & PANEL & group & ymin & ymax & colour & fill & linewidth & linetype & alpha\\\\\n",
       " <dbl> & <dbl> & <dbl> & <dbl> & <dbl> & <dbl> & <dbl> & <dbl> & <lgl> & <fct> & <int> & <dbl> & <dbl> & <lgl> & <chr> & <dbl> & <dbl> & <lgl>\\\\\n",
       "\\hline\n",
       "\t 1111 & 1111 & 0.15 & 0.0 & 0.3 & 2.623 & 1.0000 & 1.0000 & FALSE & 1 & -1 & 0 & 1111 & NA & grey35 & 0.5 & 1 & NA\\\\\n",
       "\t   43 &   43 & 0.45 & 0.3 & 0.6 & 0.102 & 0.0387 & 0.0387 & FALSE & 1 & -1 & 0 &   43 & NA & grey35 & 0.5 & 1 & NA\\\\\n",
       "\t   17 &   17 & 0.75 & 0.6 & 0.9 & 0.040 & 0.0153 & 0.0153 & FALSE & 1 & -1 & 0 &   17 & NA & grey35 & 0.5 & 1 & NA\\\\\n",
       "\t    6 &    6 & 1.05 & 0.9 & 1.2 & 0.014 & 0.0054 & 0.0054 & FALSE & 1 & -1 & 0 &    6 & NA & grey35 & 0.5 & 1 & NA\\\\\n",
       "\t    7 &    7 & 1.35 & 1.2 & 1.5 & 0.017 & 0.0063 & 0.0063 & FALSE & 1 & -1 & 0 &    7 & NA & grey35 & 0.5 & 1 & NA\\\\\n",
       "\t   11 &   11 & 1.66 & 1.5 & 1.8 & 0.026 & 0.0099 & 0.0099 & FALSE & 1 & -1 & 0 &   11 & NA & grey35 & 0.5 & 1 & NA\\\\\n",
       "\t   21 &   21 & 1.96 & 1.8 & 2.1 & 0.050 & 0.0189 & 0.0189 & FALSE & 1 & -1 & 0 &   21 & NA & grey35 & 0.5 & 1 & NA\\\\\n",
       "\t   43 &   43 & 2.26 & 2.1 & 2.4 & 0.102 & 0.0387 & 0.0387 & FALSE & 1 & -1 & 0 &   43 & NA & grey35 & 0.5 & 1 & NA\\\\\n",
       "\t   70 &   70 & 2.56 & 2.4 & 2.7 & 0.165 & 0.0630 & 0.0630 & FALSE & 1 & -1 & 0 &   70 & NA & grey35 & 0.5 & 1 & NA\\\\\n",
       "\t   70 &   70 & 2.86 & 2.7 & 3.0 & 0.165 & 0.0630 & 0.0630 & FALSE & 1 & -1 & 0 &   70 & NA & grey35 & 0.5 & 1 & NA\\\\\n",
       "\t    8 &    8 & 3.16 & 3.0 & 3.3 & 0.019 & 0.0072 & 0.0072 & FALSE & 1 & -1 & 0 &    8 & NA & grey35 & 0.5 & 1 & NA\\\\\n",
       "\t    0 &    0 & 3.46 & 3.3 & 3.6 & 0.000 & 0.0000 & 0.0000 & FALSE & 1 & -1 & 0 &    0 & NA & grey35 & 0.5 & 1 & NA\\\\\n",
       "\t    0 &    0 & 3.76 & 3.6 & 3.9 & 0.000 & 0.0000 & 0.0000 & FALSE & 1 & -1 & 0 &    0 & NA & grey35 & 0.5 & 1 & NA\\\\\n",
       "\t    0 &    0 & 4.06 & 3.9 & 4.2 & 0.000 & 0.0000 & 0.0000 & FALSE & 1 & -1 & 0 &    0 & NA & grey35 & 0.5 & 1 & NA\\\\\n",
       "\t    0 &    0 & 4.36 & 4.2 & 4.5 & 0.000 & 0.0000 & 0.0000 & FALSE & 1 & -1 & 0 &    0 & NA & grey35 & 0.5 & 1 & NA\\\\\n",
       "\t    0 &    0 & 4.67 & 4.5 & 4.8 & 0.000 & 0.0000 & 0.0000 & FALSE & 1 & -1 & 0 &    0 & NA & grey35 & 0.5 & 1 & NA\\\\\n",
       "\t    0 &    0 & 4.97 & 4.8 & 5.1 & 0.000 & 0.0000 & 0.0000 & FALSE & 1 & -1 & 0 &    0 & NA & grey35 & 0.5 & 1 & NA\\\\\n",
       "\\end{tabular}\n"
      ],
      "text/markdown": [
       "\n",
       "A data.frame: 17 × 18\n",
       "\n",
       "| y &lt;dbl&gt; | count &lt;dbl&gt; | x &lt;dbl&gt; | xmin &lt;dbl&gt; | xmax &lt;dbl&gt; | density &lt;dbl&gt; | ncount &lt;dbl&gt; | ndensity &lt;dbl&gt; | flipped_aes &lt;lgl&gt; | PANEL &lt;fct&gt; | group &lt;int&gt; | ymin &lt;dbl&gt; | ymax &lt;dbl&gt; | colour &lt;lgl&gt; | fill &lt;chr&gt; | linewidth &lt;dbl&gt; | linetype &lt;dbl&gt; | alpha &lt;lgl&gt; |\n",
       "|---|---|---|---|---|---|---|---|---|---|---|---|---|---|---|---|---|---|\n",
       "| 1111 | 1111 | 0.15 | 0.0 | 0.3 | 2.623 | 1.0000 | 1.0000 | FALSE | 1 | -1 | 0 | 1111 | NA | grey35 | 0.5 | 1 | NA |\n",
       "|   43 |   43 | 0.45 | 0.3 | 0.6 | 0.102 | 0.0387 | 0.0387 | FALSE | 1 | -1 | 0 |   43 | NA | grey35 | 0.5 | 1 | NA |\n",
       "|   17 |   17 | 0.75 | 0.6 | 0.9 | 0.040 | 0.0153 | 0.0153 | FALSE | 1 | -1 | 0 |   17 | NA | grey35 | 0.5 | 1 | NA |\n",
       "|    6 |    6 | 1.05 | 0.9 | 1.2 | 0.014 | 0.0054 | 0.0054 | FALSE | 1 | -1 | 0 |    6 | NA | grey35 | 0.5 | 1 | NA |\n",
       "|    7 |    7 | 1.35 | 1.2 | 1.5 | 0.017 | 0.0063 | 0.0063 | FALSE | 1 | -1 | 0 |    7 | NA | grey35 | 0.5 | 1 | NA |\n",
       "|   11 |   11 | 1.66 | 1.5 | 1.8 | 0.026 | 0.0099 | 0.0099 | FALSE | 1 | -1 | 0 |   11 | NA | grey35 | 0.5 | 1 | NA |\n",
       "|   21 |   21 | 1.96 | 1.8 | 2.1 | 0.050 | 0.0189 | 0.0189 | FALSE | 1 | -1 | 0 |   21 | NA | grey35 | 0.5 | 1 | NA |\n",
       "|   43 |   43 | 2.26 | 2.1 | 2.4 | 0.102 | 0.0387 | 0.0387 | FALSE | 1 | -1 | 0 |   43 | NA | grey35 | 0.5 | 1 | NA |\n",
       "|   70 |   70 | 2.56 | 2.4 | 2.7 | 0.165 | 0.0630 | 0.0630 | FALSE | 1 | -1 | 0 |   70 | NA | grey35 | 0.5 | 1 | NA |\n",
       "|   70 |   70 | 2.86 | 2.7 | 3.0 | 0.165 | 0.0630 | 0.0630 | FALSE | 1 | -1 | 0 |   70 | NA | grey35 | 0.5 | 1 | NA |\n",
       "|    8 |    8 | 3.16 | 3.0 | 3.3 | 0.019 | 0.0072 | 0.0072 | FALSE | 1 | -1 | 0 |    8 | NA | grey35 | 0.5 | 1 | NA |\n",
       "|    0 |    0 | 3.46 | 3.3 | 3.6 | 0.000 | 0.0000 | 0.0000 | FALSE | 1 | -1 | 0 |    0 | NA | grey35 | 0.5 | 1 | NA |\n",
       "|    0 |    0 | 3.76 | 3.6 | 3.9 | 0.000 | 0.0000 | 0.0000 | FALSE | 1 | -1 | 0 |    0 | NA | grey35 | 0.5 | 1 | NA |\n",
       "|    0 |    0 | 4.06 | 3.9 | 4.2 | 0.000 | 0.0000 | 0.0000 | FALSE | 1 | -1 | 0 |    0 | NA | grey35 | 0.5 | 1 | NA |\n",
       "|    0 |    0 | 4.36 | 4.2 | 4.5 | 0.000 | 0.0000 | 0.0000 | FALSE | 1 | -1 | 0 |    0 | NA | grey35 | 0.5 | 1 | NA |\n",
       "|    0 |    0 | 4.67 | 4.5 | 4.8 | 0.000 | 0.0000 | 0.0000 | FALSE | 1 | -1 | 0 |    0 | NA | grey35 | 0.5 | 1 | NA |\n",
       "|    0 |    0 | 4.97 | 4.8 | 5.1 | 0.000 | 0.0000 | 0.0000 | FALSE | 1 | -1 | 0 |    0 | NA | grey35 | 0.5 | 1 | NA |\n",
       "\n"
      ],
      "text/plain": [
       "   y    count x    xmin xmax density ncount ndensity flipped_aes PANEL group\n",
       "1  1111 1111  0.15 0.0  0.3  2.623   1.0000 1.0000   FALSE       1     -1   \n",
       "2    43   43  0.45 0.3  0.6  0.102   0.0387 0.0387   FALSE       1     -1   \n",
       "3    17   17  0.75 0.6  0.9  0.040   0.0153 0.0153   FALSE       1     -1   \n",
       "4     6    6  1.05 0.9  1.2  0.014   0.0054 0.0054   FALSE       1     -1   \n",
       "5     7    7  1.35 1.2  1.5  0.017   0.0063 0.0063   FALSE       1     -1   \n",
       "6    11   11  1.66 1.5  1.8  0.026   0.0099 0.0099   FALSE       1     -1   \n",
       "7    21   21  1.96 1.8  2.1  0.050   0.0189 0.0189   FALSE       1     -1   \n",
       "8    43   43  2.26 2.1  2.4  0.102   0.0387 0.0387   FALSE       1     -1   \n",
       "9    70   70  2.56 2.4  2.7  0.165   0.0630 0.0630   FALSE       1     -1   \n",
       "10   70   70  2.86 2.7  3.0  0.165   0.0630 0.0630   FALSE       1     -1   \n",
       "11    8    8  3.16 3.0  3.3  0.019   0.0072 0.0072   FALSE       1     -1   \n",
       "12    0    0  3.46 3.3  3.6  0.000   0.0000 0.0000   FALSE       1     -1   \n",
       "13    0    0  3.76 3.6  3.9  0.000   0.0000 0.0000   FALSE       1     -1   \n",
       "14    0    0  4.06 3.9  4.2  0.000   0.0000 0.0000   FALSE       1     -1   \n",
       "15    0    0  4.36 4.2  4.5  0.000   0.0000 0.0000   FALSE       1     -1   \n",
       "16    0    0  4.67 4.5  4.8  0.000   0.0000 0.0000   FALSE       1     -1   \n",
       "17    0    0  4.97 4.8  5.1  0.000   0.0000 0.0000   FALSE       1     -1   \n",
       "   ymin ymax colour fill   linewidth linetype alpha\n",
       "1  0    1111 NA     grey35 0.5       1        NA   \n",
       "2  0      43 NA     grey35 0.5       1        NA   \n",
       "3  0      17 NA     grey35 0.5       1        NA   \n",
       "4  0       6 NA     grey35 0.5       1        NA   \n",
       "5  0       7 NA     grey35 0.5       1        NA   \n",
       "6  0      11 NA     grey35 0.5       1        NA   \n",
       "7  0      21 NA     grey35 0.5       1        NA   \n",
       "8  0      43 NA     grey35 0.5       1        NA   \n",
       "9  0      70 NA     grey35 0.5       1        NA   \n",
       "10 0      70 NA     grey35 0.5       1        NA   \n",
       "11 0       8 NA     grey35 0.5       1        NA   \n",
       "12 0       0 NA     grey35 0.5       1        NA   \n",
       "13 0       0 NA     grey35 0.5       1        NA   \n",
       "14 0       0 NA     grey35 0.5       1        NA   \n",
       "15 0       0 NA     grey35 0.5       1        NA   \n",
       "16 0       0 NA     grey35 0.5       1        NA   \n",
       "17 0       0 NA     grey35 0.5       1        NA   "
      ]
     },
     "metadata": {},
     "output_type": "display_data"
    }
   ],
   "source": [
    "ggplot_build(ggp1)$data[[1]]"
   ]
  },
  {
   "cell_type": "code",
   "execution_count": 33,
   "metadata": {
    "vscode": {
     "languageId": "r"
    }
   },
   "outputs": [
    {
     "data": {
      "text/html": [
       "<ol>\n",
       "</ol>\n"
      ],
      "text/latex": [
       "\\begin{enumerate}\n",
       "\\end{enumerate}\n"
      ],
      "text/markdown": [
       "\n",
       "\n"
      ],
      "text/plain": [
       "list()"
      ]
     },
     "metadata": {},
     "output_type": "display_data"
    }
   ],
   "source": [
    "plots"
   ]
  },
  {
   "cell_type": "code",
   "execution_count": 38,
   "metadata": {
    "vscode": {
     "languageId": "r"
    }
   },
   "outputs": [
    {
     "data": {
      "text/html": [
       "70"
      ],
      "text/latex": [
       "70"
      ],
      "text/markdown": [
       "70"
      ],
      "text/plain": [
       "[1] 70"
      ]
     },
     "metadata": {},
     "output_type": "display_data"
    }
   ],
   "source": [
    "sum(df_guide_counts[,guide] > 512 & df_guide_counts[,guide] < 1024)"
   ]
  },
  {
   "cell_type": "code",
   "execution_count": null,
   "metadata": {
    "vscode": {
     "languageId": "r"
    }
   },
   "outputs": [],
   "source": []
  }
 ],
 "metadata": {
  "kernelspec": {
   "display_name": "R",
   "language": "R",
   "name": "ir"
  },
  "language_info": {
   "codemirror_mode": "r",
   "file_extension": ".r",
   "mimetype": "text/x-r-source",
   "name": "R",
   "pygments_lexer": "r",
   "version": "4.2.2"
  },
  "orig_nbformat": 4
 },
 "nbformat": 4,
 "nbformat_minor": 2
}
