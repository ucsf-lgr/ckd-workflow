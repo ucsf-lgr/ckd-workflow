{
 "cells": [
  {
   "cell_type": "code",
   "execution_count": null,
   "metadata": {
    "tags": [],
    "vscode": {
     "languageId": "r"
    }
   },
   "outputs": [],
   "source": [
    "suppressWarnings(suppressPackageStartupMessages({\n",
    "    library(Seurat)\n",
    "    library(EnsDb.Hsapiens.v86)\n",
    "    library(dplyr)\n",
    "    library(ggplot2)\n",
    "    library(bedr)\n",
    "    library(SeuratDisk)\n",
    "    library(scales)\n",
    "    library(reshape2)\n",
    "    library(Hmisc)\n",
    "    library(tidyr)\n",
    "    library(tidyverse)\n",
    "    library(crayon)\n",
    "    library(readr)\n",
    "    library(future)\n",
    "    library(\"TxDb.Hsapiens.UCSC.hg38.knownGene\")\n",
    "    library(GenomicRanges)\n",
    "    library(GenomicFeatures)\n",
    "    library(rsnps)\n",
    "    library(biomaRt)\n",
    "    library(ggpubr)\n",
    "    library(gridExtra)\n",
    "    library(patchwork)\n",
    "    library(EnhancedVolcano)\n",
    "    library(rlist)\n",
    "    library(purrr)\n",
    "    library(edgeR)\n",
    "}))\n",
    "options(timeout=100000)\n",
    "source('/home/vsevim/prj/workflows/ckd/secondary/helper_functions_for_diffex.r')"
   ]
  },
  {
   "attachments": {},
   "cell_type": "markdown",
   "metadata": {
    "tags": []
   },
   "source": [
    "# Definitions etc"
   ]
  },
  {
   "cell_type": "code",
   "execution_count": null,
   "metadata": {
    "tags": [],
    "vscode": {
     "languageId": "r"
    }
   },
   "outputs": [],
   "source": [
    "set.seed(1234)\n",
    "options(digits=2)\n",
    "stats <- c()"
   ]
  },
  {
   "cell_type": "code",
   "execution_count": null,
   "metadata": {
    "tags": [],
    "vscode": {
     "languageId": "r"
    }
   },
   "outputs": [],
   "source": [
    "options(future.globals.maxSize= 250 * 1024^3) # 650Gb\n",
    "# plan()\n",
    "\n",
    "# Enable parallelization\n",
    "plan(sequential)\n",
    "plan(\"multicore\", workers = 32)"
   ]
  },
  {
   "cell_type": "code",
   "execution_count": null,
   "metadata": {
    "tags": [],
    "vscode": {
     "languageId": "r"
    }
   },
   "outputs": [],
   "source": [
    "if (!exists(\"papermill_run\")) {\n",
    "    prj_name <- \"Screen1\"\n",
    "    secondary_a_path <- \"S1/analysis/secondary/\"\n",
    "    save_seurat_h5 <- \"YES\"\n",
    "    de_testing <- \"NEIGHBORHOOD\"\n",
    "}\n"
   ]
  },
  {
   "cell_type": "code",
   "execution_count": null,
   "metadata": {
    "tags": [],
    "vscode": {
     "languageId": "r"
    }
   },
   "outputs": [],
   "source": [
    "custom_theme <- theme(\n",
    "  plot.title = element_text(size=16, hjust = 0.5), \n",
    "  legend.key.size = unit(0.7, \"cm\"), \n",
    "  legend.text = element_text(size = 14))"
   ]
  },
  {
   "attachments": {},
   "cell_type": "markdown",
   "metadata": {},
   "source": [
    "### Load guide df"
   ]
  },
  {
   "cell_type": "code",
   "execution_count": null,
   "metadata": {
    "vscode": {
     "languageId": "r"
    }
   },
   "outputs": [],
   "source": [
    "df_guide <- read.table(\n",
    "    \"primary/S1_resources/66CRISPRi_ref_for_diffex.txt\",\n",
    "    sep = \"\\t\", header = T, strip.white = T\n",
    ")\n",
    "integrated_h5_path <-\n",
    "    \"S1/analysis/secondary/integrated/seurat_objects/integrated.h5seurat\"\n",
    "neighbors_list <- list.load(\n",
    "    \"primary/S1_resources/neighbors_list.rds\"\n",
    ")\n",
    "\n",
    "sample_n(df_guide, 6)"
   ]
  },
  {
   "attachments": {},
   "cell_type": "markdown",
   "metadata": {},
   "source": [
    "### Load Seurat file"
   ]
  },
  {
   "cell_type": "code",
   "execution_count": null,
   "metadata": {
    "tags": [],
    "vscode": {
     "languageId": "r"
    }
   },
   "outputs": [],
   "source": [
    "seurat_combined    <- LoadH5Seurat(integrated_h5_path, verbose = F)\n",
    "seurat_combined$sct_cas9 = seurat_combined[['SCT']]@data['dCas9',]"
   ]
  },
  {
   "attachments": {},
   "cell_type": "markdown",
   "metadata": {},
   "source": [
    "Normalize RNA counts by <font color='red'>NormalizeData</font>  before running FindMarkers"
   ]
  },
  {
   "cell_type": "code",
   "execution_count": null,
   "metadata": {
    "vscode": {
     "languageId": "r"
    }
   },
   "outputs": [],
   "source": [
    "seurat_rna = CreateSeuratObject(seurat_combined[['RNA']])\n",
    "seurat_rna <- NormalizeData(seurat_rna)\n",
    "seurat_rna@meta.data <- seurat_combined@meta.data"
   ]
  },
  {
   "attachments": {},
   "cell_type": "markdown",
   "metadata": {},
   "source": [
    "### Load THRESHOLDS.tsv"
   ]
  },
  {
   "cell_type": "code",
   "execution_count": null,
   "metadata": {
    "tags": [],
    "vscode": {
     "languageId": "r"
    }
   },
   "outputs": [],
   "source": [
    "thr_f_name = paste0(secondary_a_path, \"/integrated/THRESHOLDS.tsv\")\n",
    "df_thresholds = read.table(thr_f_name, header=T, strip.white = T)\n",
    "df_thresholds <- df_thresholds %>% pivot_wider(names_from = batch, values_from = threshold)\n",
    "df_thresholds <- as.data.frame(df_thresholds)"
   ]
  },
  {
   "attachments": {},
   "cell_type": "markdown",
   "metadata": {},
   "source": [
    "## Select perturbed/control cells\n",
    "Find guide+ (perturbed) and guide- (unperturbed) cells for each guide"
   ]
  },
  {
   "cell_type": "code",
   "execution_count": null,
   "metadata": {
    "vscode": {
     "languageId": "r"
    }
   },
   "outputs": [],
   "source": [
    "libraries = unique(seurat_combined$library)\n",
    "seurat_libs = list()\n",
    "for(i in seq_along(libraries)){ \n",
    "    lib = libraries[i]\n",
    "    seurat_libs[[i]] = subset(seurat_combined, subset = library == lib)\n",
    "}\n",
    "names(seurat_libs) <- libraries"
   ]
  },
  {
   "cell_type": "code",
   "execution_count": null,
   "metadata": {
    "vscode": {
     "languageId": "r"
    }
   },
   "outputs": [],
   "source": [
    "THRESHOLD_MULTIPLIER = 1\n",
    "cat(red(\"Using \", THRESHOLD_MULTIPLIER, \"x threshold\"))\n",
    "\n",
    "perturbed_cells_by_guide <- list()\n",
    "\n",
    "for(i in 1:nrow(df_thresholds)){  \n",
    "    perturbed_cells_in_all_libs = list()\n",
    "    guide = df_thresholds$guide[i]\n",
    "    # Loop over libraries\n",
    "    for(lib in libraries){\n",
    "        seurat_lib = seurat_libs[[lib]]\n",
    "        threshold = THRESHOLD_MULTIPLIER * df_thresholds[i, lib]\n",
    "        #cat(blue(guide, lib, threshold, \"\\n\"))\n",
    "        cells_in_lib = Cells(seurat_lib)        \n",
    "        sgrna_counts = seurat_lib[['sgRNA']]@counts\n",
    "        select_perturbed = sgrna_counts[guide, cells_in_lib] >= threshold\n",
    "        perturbed_cells_in_library = cells_in_lib[select_perturbed]\n",
    "        if(!is.na(threshold)) {\n",
    "            perturbed_cells_in_all_libs =\n",
    "                append(perturbed_cells_in_all_libs, perturbed_cells_in_library)\n",
    "        }\n",
    "    }\n",
    "    perturbed_cells_by_guide[[i]] = perturbed_cells_in_all_libs\n",
    "}\n",
    "names(perturbed_cells_by_guide) <- df_thresholds$guide"
   ]
  },
  {
   "cell_type": "code",
   "execution_count": null,
   "metadata": {
    "vscode": {
     "languageId": "r"
    }
   },
   "outputs": [],
   "source": [
    "length(perturbed_cells_by_guide[[3]])"
   ]
  },
  {
   "cell_type": "code",
   "execution_count": null,
   "metadata": {
    "vscode": {
     "languageId": "r"
    }
   },
   "outputs": [],
   "source": [
    "df_thresholds$guide[grepl(\"NT\" , df_thresholds$guide)]"
   ]
  },
  {
   "attachments": {},
   "cell_type": "markdown",
   "metadata": {},
   "source": [
    "# Check DE for genes near SNPs"
   ]
  },
  {
   "cell_type": "code",
   "execution_count": null,
   "metadata": {
    "vscode": {
     "languageId": "r"
    }
   },
   "outputs": [],
   "source": [
    "select_distal  = df_guide$subclass == 'ckd_de'\n",
    "df_snps = unique(df_guide[select_distal, c('gene','alias')])"
   ]
  },
  {
   "attachments": {},
   "cell_type": "markdown",
   "metadata": {},
   "source": [
    "# Run diffex on pseudobulked samples using EdgeR"
   ]
  },
  {
   "cell_type": "code",
   "execution_count": null,
   "metadata": {
    "scrolled": true,
    "vscode": {
     "languageId": "r"
    }
   },
   "outputs": [],
   "source": [
    "df_targets = unique(filter(df_guide, subclass=='ckd_de')[,c('alias','gene','subclass', 'label')])\n",
    "df_targets = unique(filter(df_guide, class=='targeting')[,c('alias','gene','subclass', 'label')])\n",
    "#df_targets = unique(filter(df_guide, alias=='PLIN3'))\n",
    "df_neighbor_de = NULL\n",
    "df_cell_counts = NULL\n",
    "test_use = \"LR\" #\"MAST\"  #\"wilcox\" \"LR\"\n",
    "guides_to_skip = c()  #c(\"DE6\", \"DE15\")  \n",
    "logfc_threshold = 0.01\n",
    "n_tests = 0\n",
    "\n",
    "for(i in 1:nrow(df_targets)) {\n",
    "    is_de = FALSE\n",
    "    target          = df_targets[i,'alias']\n",
    "    target_subclass = df_targets[i, 'subclass']\n",
    "    label           = df_targets[i, 'label']\n",
    "    snp_id_or_gene_name = df_targets[i,'gene']\n",
    "    \n",
    "    if(!str_detect(target, regex(\"^DE\\\\d+$\"))) {\n",
    "        is_de = FALSE\n",
    "        neighbors = neighbors_list[[target]]\n",
    "    } else {\n",
    "        is_de = TRUE\n",
    "        neighbors = neighbors_list[[snp_id_or_gene_name]]\n",
    "    }\n",
    "\n",
    "    if((target %in% guides_to_skip) | length(neighbors) == 0 ){\n",
    "        cat(red(\"Skipping\", target, snp_id_or_gene_name, length(neighbors), \"\\n\"))\n",
    "        next\n",
    "    }\n",
    "    guides_4_target = get_guides_by_subclass(df_guide, 'alias', target)\n",
    "    cat(blue(target, target,\":\"), paste(guides_4_target, collapse=\",\"),\"\\n\")\n",
    "    seurat_dummy <- mark_target_pos_neg(seurat_rna, perturbed_cells_by_guide, guides_4_target, print_counts = T)\n",
    "    seurat_dummy$perturbation_status = Idents(seurat_dummy)\n",
    "    print(table(filter(seurat_dummy@meta.data, perturbation_status == 'target_positive')$library) )\n",
    "\n",
    "    # Create pseudobulk sample\n",
    "    cluster_list = as.character(seurat_dummy$perturbation_status)\n",
    "    cluster_list[cluster_list == \"target_negative\"] = 1\n",
    "    cluster_list[cluster_list == \"target_positive\"] = 0\n",
    "    seurat_dummy$cluster = as.factor(cluster_list)\n",
    "    y = Seurat2PB(seurat_dummy, sample = \"library\", cluster = 'cluster')\n",
    "\n",
    "    # Add target+/- counts to df_cell_counts\n",
    "    if(!is_de) {\n",
    "        df_dummy = as.data.frame(y$counts[target,])\n",
    "        colnames(df_dummy) = \"count\"\n",
    "        df_dummy$target <- target\n",
    "        df_dummy$label = rownames(df_dummy)\n",
    "        df_dummy$subclass = target_subclass\n",
    "        df_samples = y$samples\n",
    "        df_dummy = merge(df_dummy, df_samples, by = 0)\n",
    "        df_cell_counts = rbind(df_cell_counts, df_dummy)\n",
    "    }\n",
    "\n",
    "    # Filter out small samples, lowly expressed genes.\n",
    "    keep.samples <- y$samples$lib.size > 5e4\n",
    "    table(keep.samples)\n",
    "    y <- y[, keep.samples]\n",
    "    keep.genes <- filterByExpr(\n",
    "        y,\n",
    "        group = y$samples$cluster,\n",
    "        min.count = 3,\n",
    "        min.total.count = 3\n",
    "    )\n",
    "    y <- y[keep.genes, ,keep = FALSE]\n",
    "    table(keep.genes)\n",
    "    y <- normLibSizes(y)\n",
    "\n",
    "    # Create design matrix\n",
    "    library <- factor(y$samples$sample)\n",
    "    cluster <- as.factor(y$samples$cluster)\n",
    "    design <- model.matrix(~ cluster + library)\n",
    "    colnames(design) <- gsub(\"library\", \"\", colnames(design))\n",
    "    colnames(design)[1] <- \"Int\"\n",
    "\n",
    "    ncls <- nlevels(cluster)\n",
    "    contr <- rbind( matrix(1/(1-ncls), ncls, ncls), matrix(0, ncol(design)-ncls, ncls) )\n",
    "    diag(contr) <- 1\n",
    "    contr[1,] <- 0\n",
    "    rownames(contr) <- colnames(design)\n",
    "    colnames(contr) <- paste0(\"cluster\", levels(cluster))\n",
    "    \n",
    "    # Estimate dispersion\n",
    "    y <- estimateDisp(y, design, robust=TRUE)\n",
    "    y$common.dispersion\n",
    "\n",
    "    # Fit\n",
    "    fit <- glmQLFit(y, design, robust=TRUE)\n",
    "    qlf <- glmQLFTest(fit, contrast=contr[,1])\n",
    "    options(repr.plot.width = 7, repr.plot.height = 5)\n",
    "    plotQLDisp(fit)\n",
    "    n_tests = n_tests + length(neighbors)\n",
    "\n",
    "    if(de_testing == \"NEIGHBORHOOD\") {\n",
    "        markers <- qlf$table[neighbors, ] %>% arrange(PValue)\n",
    "    } else { \n",
    "        # Test all genes\n",
    "        markers <- qlf$table %>% arrange(PValue)\n",
    "    }\n",
    "    \n",
    "    markers$de_gene = rownames(markers)\n",
    "    markers$target = target\n",
    "    markers$subclass = target_subclass\n",
    "    markers$label = label\n",
    "    rownames(markers) <- NULL\n",
    "    df_neighbor_de = rbind(df_neighbor_de, markers)\n",
    "    print(head(markers))\n",
    "    cat(\"-------------------------------------------------------\\n\\n\")\n",
    "}\n"
   ]
  },
  {
   "cell_type": "markdown",
   "metadata": {},
   "source": [
    "### Correct p-values by total number of comparisons"
   ]
  },
  {
   "cell_type": "code",
   "execution_count": null,
   "metadata": {
    "vscode": {
     "languageId": "r"
    }
   },
   "outputs": [],
   "source": [
    "#n_tests = length(flatten(neighbors_list)) * length(df_targets)\n",
    "print(n_tests)\n",
    "df_neighbor_de$p_val_adj =  p.adjust(\n",
    "    p = df_neighbor_de$PValue,\n",
    "    method = \"bonferroni\",\n",
    "    n = n_tests\n",
    ")"
   ]
  },
  {
   "cell_type": "code",
   "execution_count": null,
   "metadata": {
    "vscode": {
     "languageId": "r"
    }
   },
   "outputs": [],
   "source": [
    "head(df_neighbor_de)"
   ]
  },
  {
   "cell_type": "code",
   "execution_count": null,
   "metadata": {
    "vscode": {
     "languageId": "r"
    }
   },
   "outputs": [],
   "source": [
    "df_cell_counts_backup <- df_cell_counts"
   ]
  },
  {
   "cell_type": "code",
   "execution_count": null,
   "metadata": {
    "vscode": {
     "languageId": "r"
    }
   },
   "outputs": [],
   "source": [
    "head(df_cell_counts)"
   ]
  },
  {
   "cell_type": "code",
   "execution_count": null,
   "metadata": {
    "vscode": {
     "languageId": "r"
    }
   },
   "outputs": [],
   "source": [
    "df_cell_counts = df_cell_counts_backup\n",
    "df_cell_counts$label = str_replace(df_cell_counts$label, \"Lib_._\", \"\")\n",
    "df_cell_counts$label = str_replace(df_cell_counts$label, \"cluster0\", \"target(+)\")\n",
    "df_cell_counts$label = str_replace(df_cell_counts$label, \"cluster1\", \"target(-)\")\n",
    "\n",
    "df_cell_counts$norm_count = max(df_cell_counts$lib.size) * df_cell_counts$count/df_cell_counts$lib.size\n",
    "\n",
    "df_cell_counts_tss = df_cell_counts %>% filter(subclass == 'tss')\n",
    "df_cell_counts_de  = df_cell_counts %>% filter(subclass == 'de_control')\n",
    "\n",
    "options(repr.plot.width=16, repr.plot.height=6)\n",
    "ggplot(df_cell_counts_tss, aes(x = label, y = norm_count, fill = sample)) +\n",
    "    geom_bar(position = position_dodge2(padding = 0.3), width = 0.75, stat=\"identity\") +\n",
    "    facet_wrap(~ target, scales=\"free\", ncol = 6) +\n",
    "    theme(\n",
    "        axis.text.x = element_text(angle = 90, vjust = 0.5, hjust=1, size = 12), \n",
    "        strip.text = element_text(size=10)\n",
    "    ) \n",
    "\n",
    "options(repr.plot.width=18, repr.plot.height=6)\n",
    "ggplot(df_cell_counts_de, aes(x = label, y = norm_count, fill = sample)) +\n",
    "    geom_bar(position = position_dodge2(padding = 0.3), width = 0.75, stat=\"identity\") +\n",
    "    facet_wrap(~ target, scales=\"free\", ncol = 7) +\n",
    "    theme(\n",
    "        axis.text.x = element_text(angle = 90, vjust = 0.5, hjust=1, size = 12), \n",
    "        strip.text = element_text(size=10)\n",
    "    ) \n",
    "\n",
    "#geom_bar(position = position_dodge2(padding = 0.3), stat=\"identity\")  +"
   ]
  },
  {
   "cell_type": "code",
   "execution_count": null,
   "metadata": {
    "vscode": {
     "languageId": "r"
    }
   },
   "outputs": [],
   "source": [
    "head(df_cell_counts)"
   ]
  },
  {
   "attachments": {},
   "cell_type": "markdown",
   "metadata": {},
   "source": [
    "## Inpect results"
   ]
  },
  {
   "attachments": {},
   "cell_type": "markdown",
   "metadata": {},
   "source": [
    "Print top high-confidence hits"
   ]
  },
  {
   "cell_type": "code",
   "execution_count": null,
   "metadata": {
    "vscode": {
     "languageId": "r"
    }
   },
   "outputs": [],
   "source": [
    "df_neighbor_de %>% filter(logFC < 0) %>% arrange(PValue) %>% head(25)"
   ]
  },
  {
   "cell_type": "code",
   "execution_count": null,
   "metadata": {
    "vscode": {
     "languageId": "r"
    }
   },
   "outputs": [],
   "source": [
    "df_neighbor_de %>% filter(logFC < 0) %>% filter(subclass == \"tss\") %>% filter(de_gene == target) %>% arrange(PValue) %>% head(25)"
   ]
  },
  {
   "attachments": {},
   "cell_type": "markdown",
   "metadata": {},
   "source": [
    "## Volcano Plot"
   ]
  },
  {
   "cell_type": "code",
   "execution_count": null,
   "metadata": {
    "vscode": {
     "languageId": "r"
    }
   },
   "outputs": [],
   "source": [
    "colors <- ifelse(\n",
    "    df_neighbor_de$subclass == 'tss', 'black',\n",
    "    ifelse(df_neighbor_de$subclass == 'de_control', 'gray', 'green') \n",
    ")\n",
    "names(colors) <- df_neighbor_de$label"
   ]
  },
  {
   "cell_type": "code",
   "execution_count": null,
   "metadata": {
    "vscode": {
     "languageId": "r"
    }
   },
   "outputs": [],
   "source": [
    "options(repr.plot.width = 10, repr.plot.height = 12)\n",
    "EnhancedVolcano(df_neighbor_de, \n",
    "                lab = df_neighbor_de$de_gene,\n",
    "                x =\"logFC\",\n",
    "                y = \"p_val_adj\",\n",
    "                title = paste(prj_name, \"hits by target\"),\n",
    "                subtitle = 'Pseudobulk, EdgeR', \n",
    "                colCustom = colors,\n",
    "                drawConnectors = TRUE,\n",
    "                arrowheads = FALSE,\n",
    "                pCutoff = 10e-04,\n",
    "                FCcutoff = logfc_threshold,\n",
    "                pointSize = 5.0,\n",
    "                labSize = 4.0\n",
    "                ) +\n",
    "                xlim(-2, 2) +\n",
    "                xlab(expression(paste(\"Average \", Log[2], \" Fold Change\"))) +\n",
    "                ylab(expression(paste(\"\\u2013\", Log[10], \" \", italic(p))))\n",
    "\n",
    "# lab = df_neighbor_de$de_gene,\n",
    "# drawConnectors = TRUE,"
   ]
  },
  {
   "cell_type": "markdown",
   "metadata": {},
   "source": [
    "### Plot just the control TSS"
   ]
  },
  {
   "cell_type": "code",
   "execution_count": null,
   "metadata": {
    "vscode": {
     "languageId": "r"
    }
   },
   "outputs": [],
   "source": [
    "de_filter = (df_neighbor_de$subclass == 'tss') & (df_neighbor_de$target == df_neighbor_de$de_gene)\n",
    "df_neighbor_de_subset = df_neighbor_de[de_filter ,]\n",
    "\n",
    "options(repr.plot.width = 20, repr.plot.height = 12)\n",
    "p1 = EnhancedVolcano(df_neighbor_de_subset, \n",
    "                lab = df_neighbor_de_subset$de_gene,\n",
    "                x =\"logFC\",\n",
    "                y = \"p_val_adj\",\n",
    "                title = paste(prj_name, 'hits by target'),\n",
    "                subtitle = 'only TSS controls, only hit==target, pseudobulk, EdgeR', \n",
    "                col = 'gray',\n",
    "                drawConnectors = TRUE,\n",
    "                arrowheads = FALSE,\n",
    "                pCutoff = 10e-0,\n",
    "                FCcutoff = logfc_threshold,\n",
    "                pointSize = 5.0,\n",
    "                labSize = 6.0\n",
    "                ) +\n",
    "                xlim(-2.5, 1) +\n",
    "                xlab(expression(paste(\"Average \", Log[2], \" Fold Change\"))) +\n",
    "                ylab(expression(paste(\"\\u2013\", Log[10], \" \", italic(p))))\n",
    "\n",
    "\n",
    "de_filter = (df_neighbor_de$subclass == 'tss')\n",
    "df_neighbor_de_subset = df_neighbor_de[de_filter ,]\n",
    "p2 = EnhancedVolcano(df_neighbor_de_subset, \n",
    "                lab = df_neighbor_de_subset$de_gene,\n",
    "                x =\"logFC\",\n",
    "                y = \"p_val_adj\",\n",
    "                title = paste(prj_name, 'hits by target'),\n",
    "                subtitle = 'only TSS controls, pseudobulk, EdgeR', \n",
    "                col = 'gray',\n",
    "                drawConnectors = TRUE,\n",
    "                arrowheads = FALSE,\n",
    "                pCutoff = 10e-0,\n",
    "                FCcutoff = logfc_threshold,\n",
    "                pointSize = 5.0,\n",
    "                labSize = 4.0\n",
    "                ) +\n",
    "                xlim(-2.5, 1) +\n",
    "                xlab(expression(paste(\"Average \", Log[2], \" Fold Change\"))) +\n",
    "                ylab(expression(paste(\"\\u2013\", Log[10], \" \", italic(p))))\n",
    "\n",
    "p1 + p2"
   ]
  },
  {
   "cell_type": "code",
   "execution_count": null,
   "metadata": {
    "vscode": {
     "languageId": "r"
    }
   },
   "outputs": [],
   "source": [
    "head(df_neighbor_de_subset)"
   ]
  },
  {
   "cell_type": "markdown",
   "metadata": {},
   "source": [
    "### Plot just the control DE"
   ]
  },
  {
   "cell_type": "code",
   "execution_count": null,
   "metadata": {
    "vscode": {
     "languageId": "r"
    }
   },
   "outputs": [],
   "source": [
    "de_filter = (df_neighbor_de$subclass == 'de_control') & (df_neighbor_de$target == df_neighbor_de$de_gene)\n",
    "df_neighbor_de_subset = df_neighbor_de[de_filter ,]\n",
    "\n",
    "options(repr.plot.width = 20, repr.plot.height = 12)\n",
    "p1 = EnhancedVolcano(df_neighbor_de_subset, \n",
    "                lab = df_neighbor_de_subset$de_gene,\n",
    "                x =\"logFC\",\n",
    "                y = \"p_val_adj\",\n",
    "                title = paste(prj_name, 'hits by target'),\n",
    "                subtitle = 'only DE controls, only hit==target, pseudobulk, EdgeR', \n",
    "                col = 'gray',\n",
    "                drawConnectors = TRUE,\n",
    "                arrowheads = FALSE,\n",
    "                pCutoff = 10e-1,\n",
    "                FCcutoff = logfc_threshold,\n",
    "                pointSize = 5.0,\n",
    "                labSize = 6.0\n",
    "                ) +\n",
    "                xlim(-1.5, 1) +\n",
    "                xlab(expression(paste(\"Average \", Log[2], \" Fold Change\"))) +\n",
    "                ylab(expression(paste(\"\\u2013\", Log[10], \" \", italic(p))))\n",
    "\n",
    "\n",
    "de_filter = (df_neighbor_de$subclass == 'de_control')\n",
    "df_neighbor_de_subset = df_neighbor_de[de_filter ,]\n",
    "p2 = EnhancedVolcano(df_neighbor_de_subset, \n",
    "                lab = df_neighbor_de_subset$de_gene,\n",
    "                x =\"logFC\",\n",
    "                y = \"p_val_adj\",\n",
    "                title = paste(prj_name, 'hits by target'),\n",
    "                subtitle = 'only DE controls, pseudobulk, EdgeR', \n",
    "                col = 'gray',\n",
    "                drawConnectors = TRUE,\n",
    "                arrowheads = FALSE,\n",
    "                pCutoff = 10e-2,\n",
    "                FCcutoff = logfc_threshold,\n",
    "                pointSize = 5.0,\n",
    "                labSize = 6.0\n",
    "                ) +\n",
    "                xlim(-1.5, 1) +\n",
    "                xlab(expression(paste(\"Average \", Log[2], \" Fold Change\"))) +\n",
    "                ylab(expression(paste(\"\\u2013\", Log[10], \" \", italic(p))))\n",
    "\n",
    "p1 + p2"
   ]
  },
  {
   "cell_type": "markdown",
   "metadata": {},
   "source": [
    "### Plot just the CKD DE"
   ]
  },
  {
   "cell_type": "code",
   "execution_count": null,
   "metadata": {
    "vscode": {
     "languageId": "r"
    }
   },
   "outputs": [],
   "source": [
    "de_filter = (df_neighbor_de$label == 'CKD DE') \n",
    "df_neighbor_de_subset = df_neighbor_de[de_filter ,]\n",
    "\n",
    "options(repr.plot.width = 10, repr.plot.height = 12)\n",
    "p1 = EnhancedVolcano(df_neighbor_de_subset, \n",
    "                lab = df_neighbor_de_subset$de_gene,\n",
    "                x =\"logFC\",\n",
    "                y = \"p_val_adj\",\n",
    "                title = paste(prj_name, 'hits by target'),\n",
    "                subtitle = 'only CKD DE, pseudobulk, EdgeR', \n",
    "                col = 'gray',\n",
    "                drawConnectors = TRUE,\n",
    "                arrowheads = FALSE,\n",
    "                pCutoff = 10e-2,\n",
    "                FCcutoff = logfc_threshold,\n",
    "                pointSize = 5.0,\n",
    "                labSize = 6.0\n",
    "                ) +\n",
    "                xlim(-1.5, 0.4) +\n",
    "                ylim(0, 25) +\n",
    "                xlab(expression(paste(\"Average \", Log[2], \" Fold Change\"))) +\n",
    "                ylab(expression(paste(\"\\u2013\", Log[10], \" \", italic(p))))\n",
    "\n",
    "p1 "
   ]
  },
  {
   "cell_type": "code",
   "execution_count": null,
   "metadata": {
    "vscode": {
     "languageId": "r"
    }
   },
   "outputs": [],
   "source": []
  }
 ],
 "metadata": {
  "kernelspec": {
   "display_name": "R",
   "language": "R",
   "name": "ir"
  },
  "language_info": {
   "codemirror_mode": "r",
   "file_extension": ".r",
   "mimetype": "text/x-r-source",
   "name": "R",
   "pygments_lexer": "r",
   "version": "4.3.0"
  }
 },
 "nbformat": 4,
 "nbformat_minor": 4
}
