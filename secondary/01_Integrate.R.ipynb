{
 "cells": [
  {
   "cell_type": "code",
   "execution_count": 17,
   "id": "f51026d3-b958-4195-b53d-d217c9dadaf3",
   "metadata": {
    "tags": [],
    "vscode": {
     "languageId": "r"
    }
   },
   "outputs": [],
   "source": [
    "suppressWarnings(suppressPackageStartupMessages({\n",
    "    library(Seurat)\n",
    "    library(Signac)\n",
    "    library(EnsDb.Hsapiens.v86)\n",
    "    library(dplyr)\n",
    "    library(ggplot2)\n",
    "    library(bedr)\n",
    "    library(SeuratDisk)\n",
    "    library(scales)\n",
    "    library(reshape2)\n",
    "    library(Hmisc)\n",
    "    library(tidyr)\n",
    "    library(tidyverse)\n",
    "    library(crayon)\n",
    "    library(SeuratData)\n",
    "    #library(CelliD)\n",
    "    library(readr)\n",
    "}))"
   ]
  },
  {
   "attachments": {},
   "cell_type": "markdown",
   "id": "de9f2409",
   "metadata": {},
   "source": [
    "# Definitions etc"
   ]
  },
  {
   "cell_type": "code",
   "execution_count": 18,
   "id": "9da36b18-b07b-4fc6-8b07-b3fbbff188f8",
   "metadata": {
    "vscode": {
     "languageId": "r"
    }
   },
   "outputs": [],
   "source": [
    "set.seed(1234)\n",
    "options(digits=2)\n",
    "stats <- c()"
   ]
  },
  {
   "cell_type": "code",
   "execution_count": 35,
   "id": "f37099e4-6009-4120-923f-14e56f2d4e80",
   "metadata": {
    "tags": [],
    "vscode": {
     "languageId": "r"
    }
   },
   "outputs": [],
   "source": [
    "if(!exists(\"papermill_run\")) {\n",
    "    prj_name = \"Screen1_66guides\"\n",
    "    secondary_a_path = \"/home/vsevim/prj/1012-ckd/S1/analysis/secondary/\"\n",
    "    save_seurat_h5 = \"YES\"\n",
    "    n_libs = \"4\"\n",
    "\n",
    "    # prj_name = \"Screen2_101vecs\"\n",
    "    # n_libs = \"9\"\n",
    "    # secondary_a_path = \"/home/vsevim/prj/1012-ckd/S2/analysis/secondary/\"\n",
    "    # save_seurat_h5 = \"YES\"\n",
    "}"
   ]
  },
  {
   "cell_type": "code",
   "execution_count": 20,
   "id": "57df8789",
   "metadata": {
    "vscode": {
     "languageId": "r"
    }
   },
   "outputs": [],
   "source": [
    "custom_theme <- theme(\n",
    "  plot.title = element_text(size=16, hjust = 0.5), \n",
    "  legend.key.size = unit(0.7, \"cm\"), \n",
    "  legend.text = element_text(size = 14))"
   ]
  },
  {
   "attachments": {},
   "cell_type": "markdown",
   "metadata": {},
   "source": [
    "# Load Seurat files"
   ]
  },
  {
   "cell_type": "code",
   "execution_count": 22,
   "metadata": {
    "vscode": {
     "languageId": "r"
    }
   },
   "outputs": [
    {
     "name": "stdout",
     "output_type": "stream",
     "text": [
      "[1] \"/home/vsevim/prj/1012-ckd/S1/analysis/secondary/Lib_1/seurat_objects/Screen1_66guides_Lib_1.h5seurat\"\n"
     ]
    },
    {
     "name": "stderr",
     "output_type": "stream",
     "text": [
      "Validating h5Seurat file\n",
      "\n"
     ]
    },
    {
     "name": "stdout",
     "output_type": "stream",
     "text": [
      "[1] \"/home/vsevim/prj/1012-ckd/S1/analysis/secondary/Lib_2/seurat_objects/Screen1_66guides_Lib_2.h5seurat\"\n"
     ]
    },
    {
     "name": "stderr",
     "output_type": "stream",
     "text": [
      "Validating h5Seurat file\n",
      "\n"
     ]
    },
    {
     "name": "stdout",
     "output_type": "stream",
     "text": [
      "[1] \"/home/vsevim/prj/1012-ckd/S1/analysis/secondary/Lib_3/seurat_objects/Screen1_66guides_Lib_3.h5seurat\"\n"
     ]
    },
    {
     "name": "stderr",
     "output_type": "stream",
     "text": [
      "Validating h5Seurat file\n",
      "\n"
     ]
    },
    {
     "name": "stdout",
     "output_type": "stream",
     "text": [
      "[1] \"/home/vsevim/prj/1012-ckd/S1/analysis/secondary/Lib_4/seurat_objects/Screen1_66guides_Lib_4.h5seurat\"\n"
     ]
    },
    {
     "name": "stderr",
     "output_type": "stream",
     "text": [
      "Validating h5Seurat file\n",
      "\n"
     ]
    }
   ],
   "source": [
    "# Load Seurat objects\n",
    "#libs = c(\"Lib_1\", \"Lib_2\", \"Lib_3\", \"Lib_4\", \"Lib_5\", \"Lib_6\", \"Lib_7\", \"Lib_8\", \"Lib_9\")\n",
    "\n",
    "libs = paste0(\"Lib_\", 1:as.integer(n_libs))\n",
    "integrated_h5_path <- paste0(secondary_a_path, \"integrated/seurat_objects/integrated\")\n",
    "seurat_list = list()\n",
    "\n",
    "for(lib in libs) {\n",
    "    h5_path = paste0(secondary_a_path, lib, \"/seurat_objects/\", prj_name, \"_\", lib, \".h5seurat\")\n",
    "    print(h5_path)\n",
    "    seurat_list[[lib]] = LoadH5Seurat(h5_path, verbose = FALSE)\n",
    "    #seurat_list[[lib]]$library <- lib\n",
    "    DefaultAssay(seurat_list[[lib]]) <- \"SCT\"\n",
    "}"
   ]
  },
  {
   "cell_type": "code",
   "execution_count": 23,
   "metadata": {
    "vscode": {
     "languageId": "r"
    }
   },
   "outputs": [],
   "source": [
    "integration_features <- SelectIntegrationFeatures(object.list = seurat_list)"
   ]
  },
  {
   "cell_type": "code",
   "execution_count": 24,
   "metadata": {
    "vscode": {
     "languageId": "r"
    }
   },
   "outputs": [
    {
     "name": "stderr",
     "output_type": "stream",
     "text": [
      "Warning message in CheckDuplicateCellNames(object.list = object.list):\n",
      "\"Some cell names are duplicated across objects provided. Renaming to enforce unique cell names.\"\n"
     ]
    }
   ],
   "source": [
    "anchors <- FindIntegrationAnchors(object.list = seurat_list, anchor.features = integration_features, verbose = FALSE)"
   ]
  },
  {
   "cell_type": "code",
   "execution_count": 25,
   "metadata": {
    "vscode": {
     "languageId": "r"
    }
   },
   "outputs": [],
   "source": [
    "# this command creates an 'integrated' data assay\n",
    "seurat_combined <- IntegrateData(anchorset = anchors, verbose = FALSE)"
   ]
  },
  {
   "attachments": {},
   "cell_type": "markdown",
   "metadata": {},
   "source": [
    "# Run SCTransform on the combined"
   ]
  },
  {
   "cell_type": "code",
   "execution_count": 26,
   "metadata": {
    "vscode": {
     "languageId": "r"
    }
   },
   "outputs": [],
   "source": [
    "DefaultAssay(seurat_combined) <- \"integrated\""
   ]
  },
  {
   "cell_type": "code",
   "execution_count": 27,
   "metadata": {
    "vscode": {
     "languageId": "r"
    }
   },
   "outputs": [
    {
     "name": "stderr",
     "output_type": "stream",
     "text": [
      "PC_ 1 \n",
      "Positive:  FTL, CRYAB, FTH1, MT1X, MT2A, MT1E, APOE, SERPINA1, G0S2, S100A1 \n",
      "\t   PLIN2, SOD2, SAA1, FN1, SAA2, RPL13, MGST1, TMSB10, PDZK1IP1, CTSB \n",
      "\t   GAPDH, RPS18, RARRES2, IFI27, NUPR1, TPT1, RRAD, SERPINE1, RPLP1, TFPI2 \n",
      "Negative:  KCNIP4, ERBB4, MECOM, FAM155A, AC019197.1, WFDC2, PDE1A, MALAT1, KITLG, PKHD1 \n",
      "\t   BICC1, NEAT1, SFRP1, MAL, BST2, ACSL4, LRP1B, AC079352.1, SNED1, EFNA5 \n",
      "\t   SKAP1, SCN2A, CSGALNACT1, PLCB4, KAZN, TFCP2L1, S100A2, SPON1, PDE4D, ITGA2 \n",
      "PC_ 2 \n",
      "Positive:  MALAT1, SOD2, FTL, FTH1, NEAT1, APOE, SERPINA1, NRXN3, FKBP5, AL138828.1 \n",
      "\t   MT1X, AL357507.1, MDM2, AC079352.1, GBE1, PLIN2, GPC6, ZIM3, FNIP2, CPD \n",
      "\t   MSC-AS1, CRYAB, LINC01320, ABLIM3, ZNF385B, RRAD, FGB, PTCHD4, ZFPM2-AS1, FGF14 \n",
      "Negative:  CENPF, TOP2A, MKI67, TUBA1B, ASPM, HMGB2, CCNB1, TPX2, HMMR, DLGAP5 \n",
      "\t   NUSAP1, UBE2C, TUBB4B, KRT19, ANLN, CKS2, S100A2, CDK1, CEP55, PCLAF \n",
      "\t   STMN1, PRC1, UBE2S, PTTG1, CDKN3, TUBB, RRM2, GTSE1, H2AFZ, PBK \n",
      "PC_ 3 \n",
      "Positive:  CDH6, CENPF, MKI67, TOP2A, PLCB4, HMGA2, FRMD5, FN1, ASPM, CASC19 \n",
      "\t   TPX2, NLGN1, DCBLD2, HMGB2, NALCN-AS1, GPC6, NUSAP1, DLGAP5, CCNB1, ANLN \n",
      "\t   NRXN3, HMMR, NRCAM, TUBA1B, TNIK, CEP55, AC078923.1, NRG3, UBE2C, PRC1 \n",
      "Negative:  KCNIP4, ERBB4, WFDC2, MECOM, FXYD2, BST2, SLPI, S100A2, MAL, SFRP1 \n",
      "\t   AC019197.1, FTH1, PDE1A, MUC1, SPP1, CD24, IFI6, MMP7, GPNMB, TFCP2L1 \n",
      "\t   SAT1, SNED1, LINC01503, CSGALNACT1, ACSL4, LGALS3, GDF15, KITLG, KRT19, PANTR1 \n",
      "PC_ 4 \n",
      "Positive:  CDH6, PLCB4, SLPI, KRT19, SAA2, CASC19, DCBLD2, SLC6A6, FXYD2, TMSB10 \n",
      "\t   SERPINE2, S100A1, PLAU, TUBA1A, ADIRF, RHEX, BICC1, ARHGAP29, AL355916.1, C12orf75 \n",
      "\t   FAM107B, RPS4Y1, S100A6, GDA, SAA1, MT-CO2, NALCN-AS1, MT-ND4, MT1G, AC079352.1 \n",
      "Negative:  CENPF, TOP2A, MKI67, FTH1, AL357507.1, PLIN2, ASPM, HMGB2, MALAT1, ZIM3 \n",
      "\t   HMMR, NUSAP1, SMYD3, UBE2C, TPX2, DLGAP5, CCNB1, GDF15, ITPKA, FKBP5 \n",
      "\t   CDK1, ANLN, AL138828.1, DDIT3, RRAD, FTL, GBE1, CEP55, CENPE, PRC1 \n",
      "PC_ 5 \n",
      "Positive:  SERPINA1, APOE, SPP1, MT1X, CRYAB, SERPINE2, FGB, FXYD2, VCAM1, SAA2 \n",
      "\t   SLPI, CDH6, NEAT1, CENPF, PDE4D, FTL, LINC01781, AMACR, TOP2A, CXCL14 \n",
      "\t   KCNIP4, SLC3A1, RARRES2, SAA1, MKI67, TRABD2B, NNMT, NLGN1, LINC02532, ASPM \n",
      "Negative:  AL357507.1, SMYD3, AL138828.1, UPP1, ITPKA, AKAP12, HDAC9, GDF15, ZIM3, CCND1 \n",
      "\t   SERPINE1, RND3, G0S2, PLAU, HMGA1, DDIT3, OLAH, PLIN2, LINC01705, PLCB4 \n",
      "\t   NUPR1, CDH4, RPS19, TRIB3, PSD3, SQSTM1, UCHL1, IGFBP5, RBCK1, DCBLD2 \n",
      "\n"
     ]
    }
   ],
   "source": [
    "seurat_combined <- SCTransform(seurat_combined, vst.flavor = \"v2\", verbose = FALSE) %>% \n",
    "          RunPCA() %>% \n",
    "          RunUMAP(dims = 1:40, reduction.name = 'umap.rna', reduction.key = 'rnaUMAP_', verbose=FALSE)"
   ]
  },
  {
   "attachments": {},
   "cell_type": "markdown",
   "metadata": {},
   "source": [
    "### Perform clustering"
   ]
  },
  {
   "cell_type": "code",
   "execution_count": 28,
   "metadata": {
    "vscode": {
     "languageId": "r"
    }
   },
   "outputs": [
    {
     "name": "stderr",
     "output_type": "stream",
     "text": [
      "Computing nearest neighbor graph\n",
      "\n",
      "Computing SNN\n",
      "\n"
     ]
    },
    {
     "name": "stdout",
     "output_type": "stream",
     "text": [
      "Modularity Optimizer version 1.3.0 by Ludo Waltman and Nees Jan van Eck\n",
      "\n",
      "Number of nodes: 24563\n",
      "Number of edges: 847306\n",
      "\n",
      "Running Louvain algorithm...\n",
      "Maximum modularity in 10 random starts: 0.8467\n",
      "Number of communities: 12\n",
      "Elapsed time: 6 seconds\n"
     ]
    }
   ],
   "source": [
    "seurat_combined <- FindNeighbors(seurat_combined, reduction = \"pca\", dims = 1:40)\n",
    "seurat_combined <- FindClusters(seurat_combined, resolution = 0.5)"
   ]
  },
  {
   "attachments": {},
   "cell_type": "markdown",
   "metadata": {},
   "source": [
    "### Save H5"
   ]
  },
  {
   "cell_type": "code",
   "execution_count": 29,
   "metadata": {
    "vscode": {
     "languageId": "r"
    }
   },
   "outputs": [
    {
     "name": "stderr",
     "output_type": "stream",
     "text": [
      "Warning message:\n",
      "\"Overwriting previous file /home/vsevim/prj/1012-ckd/S1/analysis/secondary/integrated/seurat_objects/integrated.h5seurat\"\n",
      "Creating h5Seurat file for version 3.1.5.9900\n",
      "\n"
     ]
    }
   ],
   "source": [
    "SaveH5Seurat(seurat_combined, integrated_h5_path, verbose = FALSE, overwrite = T)"
   ]
  },
  {
   "cell_type": "code",
   "execution_count": 30,
   "metadata": {
    "vscode": {
     "languageId": "r"
    }
   },
   "outputs": [
    {
     "data": {
      "text/html": [
       "24563"
      ],
      "text/latex": [
       "24563"
      ],
      "text/markdown": [
       "24563"
      ],
      "text/plain": [
       "[1] 24563"
      ]
     },
     "metadata": {},
     "output_type": "display_data"
    }
   ],
   "source": [
    "length(Cells(seurat_combined))"
   ]
  },
  {
   "cell_type": "code",
   "execution_count": null,
   "metadata": {
    "vscode": {
     "languageId": "r"
    }
   },
   "outputs": [],
   "source": []
  }
 ],
 "metadata": {
  "kernelspec": {
   "display_name": "R",
   "language": "R",
   "name": "ir"
  },
  "language_info": {
   "codemirror_mode": "r",
   "file_extension": ".r",
   "mimetype": "text/x-r-source",
   "name": "R",
   "pygments_lexer": "r",
   "version": "4.2.2"
  },
  "orig_nbformat": 4
 },
 "nbformat": 4,
 "nbformat_minor": 2
}
